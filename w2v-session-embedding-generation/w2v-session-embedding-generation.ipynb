{
 "cells": [
  {
   "cell_type": "code",
   "execution_count": 15,
   "metadata": {
    "collapsed": true,
    "ExecuteTime": {
     "start_time": "2023-05-14T15:13:04.834268Z",
     "end_time": "2023-05-14T15:13:04.861213Z"
    }
   },
   "outputs": [],
   "source": [
    "import gensim, pickle\n",
    "from gensim.models import Word2Vec"
   ]
  },
  {
   "cell_type": "code",
   "execution_count": 16,
   "outputs": [],
   "source": [
    "LOCALE = 'ES'"
   ],
   "metadata": {
    "collapsed": false,
    "ExecuteTime": {
     "start_time": "2023-05-14T15:13:05.061676Z",
     "end_time": "2023-05-14T15:13:05.066691Z"
    }
   }
  },
  {
   "cell_type": "code",
   "execution_count": 17,
   "outputs": [],
   "source": [
    "##READ SESSION DATA\n",
    "with open('../data/preprocessed-data/'+LOCALE+'-raw-merged-session-data.pkl', 'rb') as fp:\n",
    "    session_data = pickle.load(fp)"
   ],
   "metadata": {
    "collapsed": false,
    "ExecuteTime": {
     "start_time": "2023-05-14T15:13:05.283087Z",
     "end_time": "2023-05-14T15:13:05.439313Z"
    }
   }
  },
  {
   "cell_type": "code",
   "execution_count": 18,
   "outputs": [],
   "source": [
    "window_size = 0\n",
    "\n",
    "for s in session_data:\n",
    "    if window_size < len(s):\n",
    "        window_size = len(s)"
   ],
   "metadata": {
    "collapsed": false,
    "ExecuteTime": {
     "start_time": "2023-05-14T15:13:05.538289Z",
     "end_time": "2023-05-14T15:13:05.550305Z"
    }
   }
  },
  {
   "cell_type": "code",
   "execution_count": 19,
   "outputs": [],
   "source": [
    "model = gensim.models.Word2Vec(session_data, min_count = 1,\n",
    "                               vector_size = 100, window = window_size)"
   ],
   "metadata": {
    "collapsed": false,
    "ExecuteTime": {
     "start_time": "2023-05-14T15:13:06.060950Z",
     "end_time": "2023-05-14T15:13:08.418945Z"
    }
   }
  },
  {
   "cell_type": "code",
   "execution_count": 20,
   "outputs": [],
   "source": [
    "result_dict = {}\n",
    "\n",
    "for pro_id in model.wv.key_to_index.keys():\n",
    "    result_dict[pro_id] = model.wv.get_vector(pro_id)"
   ],
   "metadata": {
    "collapsed": false,
    "ExecuteTime": {
     "start_time": "2023-05-14T15:13:08.419948Z",
     "end_time": "2023-05-14T15:13:08.480946Z"
    }
   }
  },
  {
   "cell_type": "code",
   "execution_count": 21,
   "outputs": [
    {
     "name": "stdout",
     "output_type": "stream",
     "text": [
      "dictionary saved successfully to file\n"
     ]
    }
   ],
   "source": [
    "with open('../embeddings/'+LOCALE+'-session_embedding.pkl', 'wb') as fp:\n",
    "    pickle.dump(result_dict, fp)\n",
    "    print('dictionary saved successfully to file')"
   ],
   "metadata": {
    "collapsed": false,
    "ExecuteTime": {
     "start_time": "2023-05-14T15:13:08.482946Z",
     "end_time": "2023-05-14T15:13:08.685946Z"
    }
   }
  },
  {
   "cell_type": "code",
   "execution_count": null,
   "outputs": [],
   "source": [],
   "metadata": {
    "collapsed": false
   }
  }
 ],
 "metadata": {
  "kernelspec": {
   "display_name": "Python 3",
   "language": "python",
   "name": "python3"
  },
  "language_info": {
   "codemirror_mode": {
    "name": "ipython",
    "version": 2
   },
   "file_extension": ".py",
   "mimetype": "text/x-python",
   "name": "python",
   "nbconvert_exporter": "python",
   "pygments_lexer": "ipython2",
   "version": "2.7.6"
  }
 },
 "nbformat": 4,
 "nbformat_minor": 0
}
