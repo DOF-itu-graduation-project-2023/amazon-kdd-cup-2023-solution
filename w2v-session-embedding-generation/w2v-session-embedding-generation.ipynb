{
 "cells": [
  {
   "cell_type": "code",
   "execution_count": 9,
   "metadata": {
    "collapsed": true,
    "ExecuteTime": {
     "start_time": "2023-05-16T01:30:35.902277Z",
     "end_time": "2023-05-16T01:30:35.911274Z"
    }
   },
   "outputs": [],
   "source": [
    "import gensim, pickle\n",
    "from gensim.models import Word2Vec"
   ]
  },
  {
   "cell_type": "code",
   "execution_count": 10,
   "outputs": [],
   "source": [
    "LOCALE = 'FR'"
   ],
   "metadata": {
    "collapsed": false,
    "ExecuteTime": {
     "start_time": "2023-05-16T01:30:36.097632Z",
     "end_time": "2023-05-16T01:30:36.116633Z"
    }
   }
  },
  {
   "cell_type": "code",
   "execution_count": 11,
   "outputs": [],
   "source": [
    "##READ SESSION DATA\n",
    "with open('../data/preprocessed-data/'+LOCALE+'-raw-merged-session-data.pkl', 'rb') as fp:\n",
    "    session_data = pickle.load(fp)"
   ],
   "metadata": {
    "collapsed": false,
    "ExecuteTime": {
     "start_time": "2023-05-16T01:30:36.329819Z",
     "end_time": "2023-05-16T01:30:36.662326Z"
    }
   }
  },
  {
   "cell_type": "code",
   "execution_count": 12,
   "outputs": [],
   "source": [
    "window_size = 0\n",
    "\n",
    "for s in session_data:\n",
    "    if window_size < len(s):\n",
    "        window_size = len(s)"
   ],
   "metadata": {
    "collapsed": false,
    "ExecuteTime": {
     "start_time": "2023-05-16T01:30:36.644326Z",
     "end_time": "2023-05-16T01:30:36.683326Z"
    }
   }
  },
  {
   "cell_type": "code",
   "execution_count": 13,
   "outputs": [],
   "source": [
    "model = gensim.models.Word2Vec(session_data, min_count = 1,\n",
    "                               vector_size = 100, window = window_size)"
   ],
   "metadata": {
    "collapsed": false,
    "ExecuteTime": {
     "start_time": "2023-05-16T01:30:36.834328Z",
     "end_time": "2023-05-16T01:30:41.293440Z"
    }
   }
  },
  {
   "cell_type": "code",
   "execution_count": 14,
   "outputs": [],
   "source": [
    "result_dict = {}\n",
    "\n",
    "for pro_id in model.wv.key_to_index.keys():\n",
    "    result_dict[pro_id] = model.wv.get_vector(pro_id)"
   ],
   "metadata": {
    "collapsed": false,
    "ExecuteTime": {
     "start_time": "2023-05-16T01:30:41.369465Z",
     "end_time": "2023-05-16T01:30:41.385458Z"
    }
   }
  },
  {
   "cell_type": "code",
   "execution_count": 15,
   "outputs": [
    {
     "name": "stdout",
     "output_type": "stream",
     "text": [
      "dictionary saved successfully to file\n"
     ]
    }
   ],
   "source": [
    "with open('../embeddings/'+LOCALE+'-session_embedding.pkl', 'wb') as fp:\n",
    "    pickle.dump(result_dict, fp)\n",
    "    print('dictionary saved successfully to file')"
   ],
   "metadata": {
    "collapsed": false,
    "ExecuteTime": {
     "start_time": "2023-05-16T01:30:41.387460Z",
     "end_time": "2023-05-16T01:30:41.605520Z"
    }
   }
  },
  {
   "cell_type": "code",
   "execution_count": null,
   "outputs": [],
   "source": [],
   "metadata": {
    "collapsed": false
   }
  }
 ],
 "metadata": {
  "kernelspec": {
   "display_name": "Python 3",
   "language": "python",
   "name": "python3"
  },
  "language_info": {
   "codemirror_mode": {
    "name": "ipython",
    "version": 2
   },
   "file_extension": ".py",
   "mimetype": "text/x-python",
   "name": "python",
   "nbconvert_exporter": "python",
   "pygments_lexer": "ipython2",
   "version": "2.7.6"
  }
 },
 "nbformat": 4,
 "nbformat_minor": 0
}
