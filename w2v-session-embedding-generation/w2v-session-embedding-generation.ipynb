{
 "cells": [
  {
   "cell_type": "code",
   "execution_count": 1,
   "metadata": {
    "collapsed": true,
    "ExecuteTime": {
     "start_time": "2023-05-22T17:01:24.415790Z",
     "end_time": "2023-05-22T17:01:25.875464Z"
    }
   },
   "outputs": [],
   "source": [
    "import gensim, pickle\n",
    "from gensim.models import Word2Vec"
   ]
  },
  {
   "cell_type": "code",
   "execution_count": 18,
   "outputs": [],
   "source": [
    "LOCALE = 'IT'"
   ],
   "metadata": {
    "collapsed": false,
    "ExecuteTime": {
     "start_time": "2023-05-22T17:01:52.703146Z",
     "end_time": "2023-05-22T17:01:52.711174Z"
    }
   }
  },
  {
   "cell_type": "code",
   "execution_count": 19,
   "outputs": [],
   "source": [
    "##READ SESSION DATA\n",
    "with open('../data/preprocessed-data/'+LOCALE+'-raw-merged-session-data.pkl', 'rb') as fp:\n",
    "    session_data = pickle.load(fp)"
   ],
   "metadata": {
    "collapsed": false,
    "ExecuteTime": {
     "start_time": "2023-05-22T17:01:52.851645Z",
     "end_time": "2023-05-22T17:01:53.174646Z"
    }
   }
  },
  {
   "cell_type": "code",
   "execution_count": 20,
   "outputs": [],
   "source": [
    "def get_max_window_size(sess_data):\n",
    "    w_size = 0\n",
    "    for s in sess_data:\n",
    "        if w_size < len(s):\n",
    "            w_size = len(s)\n",
    "    return w_size"
   ],
   "metadata": {
    "collapsed": false,
    "ExecuteTime": {
     "start_time": "2023-05-22T17:01:53.172670Z",
     "end_time": "2023-05-22T17:01:53.199648Z"
    }
   }
  },
  {
   "cell_type": "code",
   "execution_count": 21,
   "outputs": [],
   "source": [
    "def get_average_window_size(sess_data):\n",
    "    sum_of_session_len = 0\n",
    "    for s in sess_data:\n",
    "        sum_of_session_len += len(s)\n",
    "    return int(sum_of_session_len / len(sess_data))"
   ],
   "metadata": {
    "collapsed": false,
    "ExecuteTime": {
     "start_time": "2023-05-22T17:01:53.187645Z",
     "end_time": "2023-05-22T17:01:53.200648Z"
    }
   }
  },
  {
   "cell_type": "code",
   "execution_count": 22,
   "outputs": [
    {
     "name": "stdout",
     "output_type": "stream",
     "text": [
      "48\n"
     ]
    }
   ],
   "source": [
    "window_size = get_max_window_size(session_data)\n",
    "print(window_size)"
   ],
   "metadata": {
    "collapsed": false,
    "ExecuteTime": {
     "start_time": "2023-05-22T17:01:53.308717Z",
     "end_time": "2023-05-22T17:01:53.346171Z"
    }
   }
  },
  {
   "cell_type": "code",
   "execution_count": 23,
   "outputs": [],
   "source": [
    "model = gensim.models.Word2Vec(session_data, min_count = 1,\n",
    "                               vector_size = 100, window = window_size)"
   ],
   "metadata": {
    "collapsed": false,
    "ExecuteTime": {
     "start_time": "2023-05-22T17:01:53.455533Z",
     "end_time": "2023-05-22T17:01:57.501551Z"
    }
   }
  },
  {
   "cell_type": "code",
   "execution_count": 24,
   "outputs": [],
   "source": [
    "result_dict = {}\n",
    "\n",
    "for pro_id in model.wv.key_to_index.keys():\n",
    "    result_dict[pro_id] = model.wv.get_vector(pro_id)"
   ],
   "metadata": {
    "collapsed": false,
    "ExecuteTime": {
     "start_time": "2023-05-22T17:01:57.501551Z",
     "end_time": "2023-05-22T17:01:57.593550Z"
    }
   }
  },
  {
   "cell_type": "code",
   "execution_count": 25,
   "outputs": [
    {
     "name": "stdout",
     "output_type": "stream",
     "text": [
      "dictionary saved successfully to file\n"
     ]
    }
   ],
   "source": [
    "with open(f'../embeddings/{LOCALE}-session_embedding_window_size_{window_size}.pkl', 'wb') as fp:\n",
    "    pickle.dump(result_dict, fp)\n",
    "    print('dictionary saved successfully to file')"
   ],
   "metadata": {
    "collapsed": false,
    "ExecuteTime": {
     "start_time": "2023-05-22T17:01:57.595550Z",
     "end_time": "2023-05-22T17:01:57.872552Z"
    }
   }
  },
  {
   "cell_type": "code",
   "execution_count": 27,
   "outputs": [],
   "source": [],
   "metadata": {
    "collapsed": false,
    "ExecuteTime": {
     "start_time": "2023-05-21T03:35:19.345562Z",
     "end_time": "2023-05-21T03:35:19.359561Z"
    }
   }
  }
 ],
 "metadata": {
  "kernelspec": {
   "display_name": "Python 3",
   "language": "python",
   "name": "python3"
  },
  "language_info": {
   "codemirror_mode": {
    "name": "ipython",
    "version": 2
   },
   "file_extension": ".py",
   "mimetype": "text/x-python",
   "name": "python",
   "nbconvert_exporter": "python",
   "pygments_lexer": "ipython2",
   "version": "2.7.6"
  }
 },
 "nbformat": 4,
 "nbformat_minor": 0
}
