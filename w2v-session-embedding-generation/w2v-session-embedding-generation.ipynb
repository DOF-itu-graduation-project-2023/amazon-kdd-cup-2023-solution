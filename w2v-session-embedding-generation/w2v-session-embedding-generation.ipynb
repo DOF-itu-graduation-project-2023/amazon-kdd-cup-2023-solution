{
 "cells": [
  {
   "cell_type": "code",
   "execution_count": 1,
   "metadata": {
    "collapsed": true,
    "ExecuteTime": {
     "start_time": "2023-05-16T20:15:03.406966Z",
     "end_time": "2023-05-16T20:15:04.854973Z"
    }
   },
   "outputs": [],
   "source": [
    "import gensim, pickle\n",
    "from gensim.models import Word2Vec"
   ]
  },
  {
   "cell_type": "code",
   "execution_count": 14,
   "outputs": [],
   "source": [
    "LOCALE = 'IT'"
   ],
   "metadata": {
    "collapsed": false,
    "ExecuteTime": {
     "start_time": "2023-05-16T20:15:43.129389Z",
     "end_time": "2023-05-16T20:15:43.152390Z"
    }
   }
  },
  {
   "cell_type": "code",
   "execution_count": 15,
   "outputs": [],
   "source": [
    "##READ SESSION DATA\n",
    "with open('../data/preprocessed-data/'+LOCALE+'-raw-merged-session-data.pkl', 'rb') as fp:\n",
    "    session_data = pickle.load(fp)"
   ],
   "metadata": {
    "collapsed": false,
    "ExecuteTime": {
     "start_time": "2023-05-16T20:15:43.465838Z",
     "end_time": "2023-05-16T20:15:43.712840Z"
    }
   }
  },
  {
   "cell_type": "code",
   "execution_count": 16,
   "outputs": [],
   "source": [
    "window_size = 0\n",
    "\n",
    "for s in session_data:\n",
    "    if window_size < len(s):\n",
    "        window_size = len(s)"
   ],
   "metadata": {
    "collapsed": false,
    "ExecuteTime": {
     "start_time": "2023-05-16T20:15:43.776836Z",
     "end_time": "2023-05-16T20:15:43.864866Z"
    }
   }
  },
  {
   "cell_type": "code",
   "execution_count": 17,
   "outputs": [],
   "source": [
    "model = gensim.models.Word2Vec(session_data, min_count = 1,\n",
    "                               vector_size = 100, window = window_size)"
   ],
   "metadata": {
    "collapsed": false,
    "ExecuteTime": {
     "start_time": "2023-05-16T20:15:44.058838Z",
     "end_time": "2023-05-16T20:15:50.502836Z"
    }
   }
  },
  {
   "cell_type": "code",
   "execution_count": 18,
   "outputs": [],
   "source": [
    "result_dict = {}\n",
    "\n",
    "for pro_id in model.wv.key_to_index.keys():\n",
    "    result_dict[pro_id] = model.wv.get_vector(pro_id)"
   ],
   "metadata": {
    "collapsed": false,
    "ExecuteTime": {
     "start_time": "2023-05-16T20:15:50.506837Z",
     "end_time": "2023-05-16T20:15:50.626838Z"
    }
   }
  },
  {
   "cell_type": "code",
   "execution_count": 19,
   "outputs": [
    {
     "name": "stdout",
     "output_type": "stream",
     "text": [
      "dictionary saved successfully to file\n"
     ]
    }
   ],
   "source": [
    "with open(f'../embeddings/{LOCALE}-session_embedding_window_size_{window_size}.pkl', 'wb') as fp:\n",
    "    pickle.dump(result_dict, fp)\n",
    "    print('dictionary saved successfully to file')"
   ],
   "metadata": {
    "collapsed": false,
    "ExecuteTime": {
     "start_time": "2023-05-16T20:15:50.627838Z",
     "end_time": "2023-05-16T20:15:51.115836Z"
    }
   }
  },
  {
   "cell_type": "code",
   "execution_count": null,
   "outputs": [],
   "source": [],
   "metadata": {
    "collapsed": false
   }
  }
 ],
 "metadata": {
  "kernelspec": {
   "display_name": "Python 3",
   "language": "python",
   "name": "python3"
  },
  "language_info": {
   "codemirror_mode": {
    "name": "ipython",
    "version": 2
   },
   "file_extension": ".py",
   "mimetype": "text/x-python",
   "name": "python",
   "nbconvert_exporter": "python",
   "pygments_lexer": "ipython2",
   "version": "2.7.6"
  }
 },
 "nbformat": 4,
 "nbformat_minor": 0
}
