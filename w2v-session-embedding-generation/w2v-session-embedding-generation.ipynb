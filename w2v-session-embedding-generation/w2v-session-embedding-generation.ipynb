{
 "cells": [
  {
   "cell_type": "code",
   "execution_count": 1,
   "metadata": {
    "collapsed": true,
    "ExecuteTime": {
     "start_time": "2023-05-12T22:00:15.918604Z",
     "end_time": "2023-05-12T22:00:16.694529Z"
    }
   },
   "outputs": [],
   "source": [
    "import gensim, pickle\n",
    "from gensim.models import Word2Vec"
   ]
  },
  {
   "cell_type": "code",
   "execution_count": 2,
   "outputs": [],
   "source": [
    "session_data = []\n",
    "LOCALE = 'DE'"
   ],
   "metadata": {
    "collapsed": false,
    "ExecuteTime": {
     "start_time": "2023-05-12T22:00:16.697529Z",
     "end_time": "2023-05-12T22:00:16.709527Z"
    }
   }
  },
  {
   "cell_type": "code",
   "execution_count": 3,
   "outputs": [],
   "source": [
    "##READ SESSION DATA\n",
    "with open('../data/preprocessed-data/FR-raw-merged-session-data.pkl', 'rb') as fp:\n",
    "    session_data = pickle.load(fp)"
   ],
   "metadata": {
    "collapsed": false,
    "ExecuteTime": {
     "start_time": "2023-05-12T22:00:16.712528Z",
     "end_time": "2023-05-12T22:00:16.841561Z"
    }
   }
  },
  {
   "cell_type": "code",
   "execution_count": 4,
   "outputs": [],
   "source": [
    "window_size = 0\n",
    "\n",
    "for s in session_data:\n",
    "    if window_size < len(s):\n",
    "        window_size = len(s)"
   ],
   "metadata": {
    "collapsed": false,
    "ExecuteTime": {
     "start_time": "2023-05-12T22:00:16.856527Z",
     "end_time": "2023-05-12T22:00:16.873561Z"
    }
   }
  },
  {
   "cell_type": "code",
   "execution_count": 5,
   "outputs": [],
   "source": [
    "model = gensim.models.Word2Vec(session_data, min_count = 1,\n",
    "                               vector_size = 100, window = window_size)"
   ],
   "metadata": {
    "collapsed": false,
    "ExecuteTime": {
     "start_time": "2023-05-12T22:00:16.915561Z",
     "end_time": "2023-05-12T22:00:19.741530Z"
    }
   }
  },
  {
   "cell_type": "code",
   "execution_count": 6,
   "outputs": [],
   "source": [
    "result_dict = {}\n",
    "\n",
    "for pro_id in model.wv.key_to_index.keys():\n",
    "    result_dict[pro_id] = model.wv.get_vector(pro_id)"
   ],
   "metadata": {
    "collapsed": false,
    "ExecuteTime": {
     "start_time": "2023-05-12T22:00:19.789554Z",
     "end_time": "2023-05-12T22:00:19.805559Z"
    }
   }
  },
  {
   "cell_type": "code",
   "execution_count": 7,
   "outputs": [
    {
     "name": "stdout",
     "output_type": "stream",
     "text": [
      "dictionary saved successfully to file\n"
     ]
    }
   ],
   "source": [
    "with open('../embeddings/'+LOCALE+'-session_embedding.pkl', 'wb') as fp:\n",
    "    pickle.dump(result_dict, fp)\n",
    "    print('dictionary saved successfully to file')"
   ],
   "metadata": {
    "collapsed": false,
    "ExecuteTime": {
     "start_time": "2023-05-12T22:00:19.808527Z",
     "end_time": "2023-05-12T22:00:20.039549Z"
    }
   }
  },
  {
   "cell_type": "code",
   "execution_count": null,
   "outputs": [],
   "source": [
    "#oben was here"
   ],
   "metadata": {
    "collapsed": false
   }
  }
 ],
 "metadata": {
  "kernelspec": {
   "display_name": "Python 3",
   "language": "python",
   "name": "python3"
  },
  "language_info": {
   "codemirror_mode": {
    "name": "ipython",
    "version": 2
   },
   "file_extension": ".py",
   "mimetype": "text/x-python",
   "name": "python",
   "nbconvert_exporter": "python",
   "pygments_lexer": "ipython2",
   "version": "2.7.6"
  }
 },
 "nbformat": 4,
 "nbformat_minor": 0
}
