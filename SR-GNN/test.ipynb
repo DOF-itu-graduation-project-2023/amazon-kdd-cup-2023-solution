{
 "cells": [
  {
   "cell_type": "markdown",
   "metadata": {
    "id": "WIjdpIpL6hog"
   },
   "source": [
    "# ⚙️ Set Up"
   ]
  },
  {
   "cell_type": "code",
   "execution_count": 4,
   "metadata": {
    "id": "CRxB48iDiAF_",
    "ExecuteTime": {
     "start_time": "2023-05-16T01:08:41.388344Z",
     "end_time": "2023-05-16T01:08:41.400836Z"
    }
   },
   "outputs": [],
   "source": [
    "# Import Python built-in libraries\n",
    "import os\n",
    "import copy\n",
    "import pickle\n",
    "import random\n",
    "import time"
   ]
  },
  {
   "cell_type": "code",
   "execution_count": 5,
   "metadata": {
    "ExecuteTime": {
     "start_time": "2023-05-16T01:08:41.600875Z",
     "end_time": "2023-05-16T01:08:44.933630Z"
    }
   },
   "outputs": [],
   "source": [
    "# Import pip libraries\n",
    "import matplotlib.pyplot as plt\n",
    "import numpy as np\n",
    "import pandas as pd\n",
    "from tqdm import tqdm, trange\n",
    "\n",
    "# Import torch packages\n",
    "import torch\n",
    "import torch.nn as nn\n",
    "import torch.nn.functional as F\n",
    "import torch.optim as optim\n",
    "from torch.utils import data"
   ]
  },
  {
   "cell_type": "code",
   "execution_count": 6,
   "metadata": {
    "colab": {
     "base_uri": "https://localhost:8080/",
     "height": 383
    },
    "id": "HGQ13SWwiHRl",
    "outputId": "d12c60ec-b6e4-4a7b-ea7d-42eb63711c87",
    "ExecuteTime": {
     "start_time": "2023-05-16T01:08:44.935002Z",
     "end_time": "2023-05-16T01:08:45.445430Z"
    }
   },
   "outputs": [],
   "source": [
    "# Import PyG packages\n",
    "import torch_geometric as pyg\n",
    "import torch_geometric.data as pyg_data\n",
    "from torch_geometric.typing import Adj, OptTensor\n",
    "import torch_sparse"
   ]
  },
  {
   "cell_type": "markdown",
   "metadata": {
    "id": "DYrSfhkh6nIc"
   },
   "source": [
    "# ⚗️ Data Preprocessing"
   ]
  },
  {
   "cell_type": "code",
   "execution_count": 7,
   "outputs": [],
   "source": [
    "LOCALE = \"IT\""
   ],
   "metadata": {
    "collapsed": false,
    "ExecuteTime": {
     "start_time": "2023-05-16T01:08:45.445730Z",
     "end_time": "2023-05-16T01:08:45.448454Z"
    }
   }
  },
  {
   "cell_type": "code",
   "execution_count": 8,
   "outputs": [],
   "source": [
    "with open(\"./raw/{}session_embedding.pkl\".format(LOCALE), 'rb') as f:\n",
    "    embeddings = pickle.load(f)"
   ],
   "metadata": {
    "collapsed": false,
    "ExecuteTime": {
     "start_time": "2023-05-16T01:08:45.450248Z",
     "end_time": "2023-05-16T01:08:45.531855Z"
    }
   }
  },
  {
   "cell_type": "code",
   "execution_count": 9,
   "outputs": [],
   "source": [
    "with open('./raw/{}-sessions-test.pkl'.format(LOCALE), 'rb') as f:\n",
    "    sessions = pickle.load(f)"
   ],
   "metadata": {
    "collapsed": false,
    "ExecuteTime": {
     "start_time": "2023-05-16T01:08:46.695870Z",
     "end_time": "2023-05-16T01:08:46.710128Z"
    }
   }
  },
  {
   "cell_type": "code",
   "execution_count": 10,
   "outputs": [
    {
     "data": {
      "text/plain": "13992"
     },
     "execution_count": 10,
     "metadata": {},
     "output_type": "execute_result"
    }
   ],
   "source": [
    "NUM_OF_SESSIONS = len(sessions)\n",
    "NUM_OF_SESSIONS"
   ],
   "metadata": {
    "collapsed": false,
    "ExecuteTime": {
     "start_time": "2023-05-16T01:08:47.944700Z",
     "end_time": "2023-05-16T01:08:47.954829Z"
    }
   }
  },
  {
   "cell_type": "markdown",
   "metadata": {
    "id": "AK8wBmby8SWt"
   },
   "source": [
    "# 📦 Data Pipeline\n",
    "\n",
    "For data ingestion, we use PyTorch's `dataloader` and PyG's `Data` class. To learn more about the `Data` class, check out the documentation [here](https://pytorch-geometric.readthedocs.io/en/latest/modules/data.html#module-torch_geometric.data)."
   ]
  },
  {
   "cell_type": "code",
   "execution_count": 11,
   "metadata": {
    "id": "82KWESLd-1gV",
    "ExecuteTime": {
     "start_time": "2023-05-16T01:08:49.631511Z",
     "end_time": "2023-05-16T01:08:49.633917Z"
    }
   },
   "outputs": [],
   "source": [
    "class GraphDataset(pyg_data.InMemoryDataset):\n",
    "    def __init__(self, root, file_name, transform=None, pre_transform=None):\n",
    "        self.file_name = file_name\n",
    "        super().__init__(root, transform, pre_transform)\n",
    "        self.data, self.slices = torch.load(self.processed_paths[0])\n",
    "\n",
    "    @property\n",
    "    def raw_file_names(self):\n",
    "        return [f'{self.file_name}.txt']\n",
    "\n",
    "    @property\n",
    "    def processed_file_names(self):\n",
    "        return [f'{self.file_name}.pt']\n",
    "\n",
    "    def download(self):\n",
    "        pass\n",
    "\n",
    "    def process(self):\n",
    "        raw_data_file = f'{self.raw_dir}/{self.file_name}'\n",
    "        with open(raw_data_file + \"-sessions-test.pkl\", 'rb') as f:\n",
    "            sessions = pickle.load(f)\n",
    "\n",
    "\n",
    "        with open(raw_data_file + \"-session_embedding.pkl\", 'rb') as f:\n",
    "            embedding_dict = pickle.load(f)\n",
    "\n",
    "        data_list = []\n",
    "\n",
    "        counter = 0\n",
    "\n",
    "        for session in sessions:\n",
    "            codes, uniques = pd.factorize(session)\n",
    "            senders, receivers = codes[:-1], codes[1:]\n",
    "\n",
    "            # Build Data instance\n",
    "            edge_index = torch.tensor([senders, receivers], dtype=torch.long)\n",
    "            #x = torch.tensor(uniques, dtype=torch.long)\n",
    "            x_new = torch.zeros((len(uniques), 100))\n",
    "\n",
    "            item_counter = 0\n",
    "            for item in uniques:\n",
    "                x_new[item_counter] = torch.tensor(embedding_dict[item])\n",
    "                item_counter += 1\n",
    "\n",
    "            #y = torch.tensor([y], dtype=torch.long)\n",
    "\n",
    "            data_list.append(pyg_data.Data(x=x_new, edge_index=edge_index))\n",
    "\n",
    "            counter += 1\n",
    "\n",
    "        data, slices = self.collate(data_list)\n",
    "        torch.save((data, slices), self.processed_paths[0])"
   ]
  },
  {
   "cell_type": "markdown",
   "metadata": {
    "id": "GD9bwJaUCOge"
   },
   "source": [
    "# 🔮 Model Design\n",
    "\n",
    "Our gated session graph layer has two main parts: (1) message propagation to create an adjacency matrix (`self.propagate`) and (2) the GRU cell (`self.gru`). We will put these inside the `forward()` function.\n",
    "\n",
    "We only use one layer for our `GatedSessionGraphConv` implementation for simplicity. Also, our sessions have average length < 5, so we do not need a large receptive field."
   ]
  },
  {
   "cell_type": "code",
   "execution_count": 12,
   "metadata": {
    "id": "7K3HWrcwqp0Z",
    "ExecuteTime": {
     "start_time": "2023-05-16T01:08:50.650183Z",
     "end_time": "2023-05-16T01:08:50.660445Z"
    }
   },
   "outputs": [],
   "source": [
    "class GatedSessionGraphConv(pyg.nn.conv.MessagePassing):\n",
    "    def __init__(self, out_channels, aggr: str = 'add', **kwargs):\n",
    "        super().__init__(aggr=aggr, **kwargs)\n",
    "\n",
    "        self.out_channels = out_channels\n",
    "\n",
    "        self.gru = torch.nn.GRUCell(out_channels, out_channels, bias=False)\n",
    "\n",
    "    def forward(self, x, edge_index):\n",
    "        m = self.propagate(edge_index, x=x, size=None)\n",
    "        x = self.gru(m, x)\n",
    "        return x\n",
    "\n",
    "    def message(self, x_j):\n",
    "        return x_j\n",
    "\n",
    "    def message_and_aggregate(self, adj_t, x):\n",
    "        return matmul(adj_t, x, reduce=self.aggr)"
   ]
  },
  {
   "cell_type": "code",
   "execution_count": 13,
   "metadata": {
    "id": "TNsAHq8PCN3k",
    "ExecuteTime": {
     "start_time": "2023-05-16T01:08:51.673080Z",
     "end_time": "2023-05-16T01:08:51.685732Z"
    }
   },
   "outputs": [],
   "source": [
    "class SRGNN(nn.Module):\n",
    "    def __init__(self, hidden_size, n_items):\n",
    "        super(SRGNN, self).__init__()\n",
    "        self.hidden_size = hidden_size\n",
    "        self.n_items = n_items\n",
    "\n",
    "        self.gated = GatedSessionGraphConv(self.hidden_size)\n",
    "\n",
    "        self.q = nn.Linear(self.hidden_size, 1)\n",
    "        self.W_1 = nn.Linear(self.hidden_size, self.hidden_size, bias=False)\n",
    "        self.W_2 = nn.Linear(self.hidden_size, self.hidden_size)\n",
    "        self.W_3 = nn.Linear(2 * self.hidden_size, self.hidden_size, bias=False)\n",
    "\n",
    "    def reset_parameters(self):\n",
    "        stdv = 1.0 / math.sqrt(self.hidden_size)\n",
    "        for weight in self.parameters():\n",
    "            weight.data.uniform_(-stdv, stdv)\n",
    "\n",
    "    def forward(self, data):\n",
    "        x, edge_index, batch_map = data.x, data.edge_index, data.batch\n",
    "\n",
    "        # (0)\n",
    "        #embedding = self.embedding(x).squeeze()\n",
    "\n",
    "        # (1)-(5)\n",
    "        v_i = self.gated(x, edge_index)\n",
    "\n",
    "        # Divide nodes by session\n",
    "        # For the detailed explanation of what is happening below, please refer\n",
    "        # to the Medium blog post.\n",
    "        sections = list(torch.bincount(batch_map).cpu())\n",
    "        v_i_split = torch.split(v_i, sections)\n",
    "\n",
    "        v_n, v_n_repeat = [], []\n",
    "        for session in v_i_split:\n",
    "            v_n.append(session[-1])\n",
    "            v_n_repeat.append(\n",
    "                session[-1].view(1, -1).repeat(session.shape[0], 1))\n",
    "        v_n, v_n_repeat = torch.stack(v_n), torch.cat(v_n_repeat, dim=0)\n",
    "\n",
    "        q1 = self.W_1(v_n_repeat)\n",
    "        q2 = self.W_2(v_i)\n",
    "\n",
    "        # (6)\n",
    "        alpha = self.q(F.sigmoid(q1 + q2))\n",
    "        s_g_split = torch.split(alpha * v_i, sections)\n",
    "\n",
    "        s_g = []\n",
    "        for session in s_g_split:\n",
    "            s_g_session = torch.sum(session, dim=0)\n",
    "            s_g.append(s_g_session)\n",
    "        s_g = torch.stack(s_g)\n",
    "\n",
    "        # (7)\n",
    "        s_l = v_n\n",
    "        s_h = self.W_3(torch.cat([s_l, s_g], dim=-1))\n",
    "        #print(\"SH: \")\n",
    "        #print(s_h.shape)\n",
    "        #print(s_h)\n",
    "\n",
    "\n",
    "        return s_h"
   ]
  },
  {
   "cell_type": "markdown",
   "metadata": {
    "id": "Qd0wGgxOAIoJ"
   },
   "source": [
    "# 🚂 Model Training\n",
    "\n",
    "We can now start model training. The training pipeline code below was originally taken from the 2021 Fall CS224W Colab assignments and then modified to fit the model."
   ]
  },
  {
   "cell_type": "code",
   "execution_count": 14,
   "outputs": [],
   "source": [
    "# Define the hyperparameters.\n",
    "# Code taken from 2021 Fall CS224W Colab assignments.\n",
    "args = {\n",
    "    'batch_size': 100,\n",
    "    'hidden_dim': 100,\n",
    "    'epochs': 1,\n",
    "    'l2_penalty': 0.00001,\n",
    "    'weight_decay': 0.1,\n",
    "    'step': 30,\n",
    "    'lr': 0.001,\n",
    "    'num_items': 466868}\n",
    "\n",
    "class objectview(object):\n",
    "    def __init__(self, d):\n",
    "        self.__dict__ = d\n",
    "\n",
    "args = objectview(args)"
   ],
   "metadata": {
    "collapsed": false,
    "ExecuteTime": {
     "start_time": "2023-05-16T01:08:52.982234Z",
     "end_time": "2023-05-16T01:08:52.989495Z"
    }
   }
  },
  {
   "cell_type": "code",
   "execution_count": 15,
   "outputs": [
    {
     "name": "stderr",
     "output_type": "stream",
     "text": [
      "/Users/obenozgur/anaconda3/envs/notti/lib/python3.10/site-packages/torch_geometric/deprecation.py:22: UserWarning: 'data.DataLoader' is deprecated, use 'loader.DataLoader' instead\n",
      "  warnings.warn(out)\n"
     ]
    }
   ],
   "source": [
    "test_dataset = GraphDataset('./', LOCALE)\n",
    "test_loader = pyg_data.DataLoader(test_dataset,\n",
    "                                   batch_size=args.batch_size,\n",
    "                                   shuffle=False,\n",
    "                                   drop_last=True)"
   ],
   "metadata": {
    "collapsed": false,
    "ExecuteTime": {
     "start_time": "2023-05-16T01:08:54.377759Z",
     "end_time": "2023-05-16T01:08:54.411045Z"
    }
   }
  },
  {
   "cell_type": "code",
   "execution_count": 16,
   "outputs": [
    {
     "data": {
      "text/plain": "GraphDataset(13992)"
     },
     "execution_count": 16,
     "metadata": {},
     "output_type": "execute_result"
    }
   ],
   "source": [
    "test_dataset"
   ],
   "metadata": {
    "collapsed": false,
    "ExecuteTime": {
     "start_time": "2023-05-16T01:08:55.775546Z",
     "end_time": "2023-05-16T01:08:55.788768Z"
    }
   }
  },
  {
   "cell_type": "code",
   "execution_count": 17,
   "outputs": [
    {
     "name": "stderr",
     "output_type": "stream",
     "text": [
      "/Users/obenozgur/anaconda3/envs/notti/lib/python3.10/site-packages/torch_geometric/data/in_memory_dataset.py:157: UserWarning: It is not recommended to directly access the internal storage format `data` of an 'InMemoryDataset'. If you are absolutely certain what you are doing, access the internal storage via `InMemoryDataset._data` instead to suppress this warning. Alternatively, you can access stacked individual attributes of every graph via `dataset.{attr_name}`.\n",
      "  warnings.warn(msg)\n"
     ]
    },
    {
     "data": {
      "text/plain": "Data(x=[42918, 100], edge_index=[2, 39422])"
     },
     "execution_count": 17,
     "metadata": {},
     "output_type": "execute_result"
    }
   ],
   "source": [
    "test_dataset.data"
   ],
   "metadata": {
    "collapsed": false,
    "ExecuteTime": {
     "start_time": "2023-05-16T01:08:57.082761Z",
     "end_time": "2023-05-16T01:08:57.099521Z"
    }
   }
  },
  {
   "cell_type": "code",
   "execution_count": 18,
   "outputs": [],
   "source": [
    "def test(loader, test_model, save_model_preds=False):\n",
    "    test_model.eval()\n",
    "\n",
    "    preds_all = torch.zeros(NUM_OF_SESSIONS, 100)\n",
    "    i = 0\n",
    "\n",
    "    for _, data in enumerate(tqdm(loader)):\n",
    "        data\n",
    "        with torch.no_grad():\n",
    "            # max(dim=1) returns values, indices tuple; only need indices\n",
    "            preds = test_model(data)\n",
    "            preds_all[i*args.batch_size:(i+1)*args.batch_size,:] = preds\n",
    "            i += 1\n",
    "\n",
    "    if save_model_preds:\n",
    "        np_preds = preds_all.cpu().detach().numpy()\n",
    "        return np_preds\n"
   ],
   "metadata": {
    "collapsed": false,
    "ExecuteTime": {
     "start_time": "2023-05-16T01:08:58.531305Z",
     "end_time": "2023-05-16T01:08:58.542622Z"
    }
   }
  },
  {
   "cell_type": "code",
   "execution_count": 19,
   "outputs": [
    {
     "data": {
      "text/plain": "<All keys matched successfully>"
     },
     "execution_count": 19,
     "metadata": {},
     "output_type": "execute_result"
    }
   ],
   "source": [
    "model = SRGNN(args.hidden_dim, args.num_items)\n",
    "model.load_state_dict(torch.load(\"model{}\".format(LOCALE), map_location=torch.device('cpu')))"
   ],
   "metadata": {
    "collapsed": false,
    "ExecuteTime": {
     "start_time": "2023-05-16T01:08:59.889340Z",
     "end_time": "2023-05-16T01:08:59.904315Z"
    }
   }
  },
  {
   "cell_type": "code",
   "execution_count": 20,
   "outputs": [
    {
     "name": "stderr",
     "output_type": "stream",
     "text": [
      "100%|██████████| 139/139 [00:03<00:00, 36.28it/s]\n"
     ]
    }
   ],
   "source": [
    "nextItems = test(test_loader, model, True)"
   ],
   "metadata": {
    "collapsed": false,
    "ExecuteTime": {
     "start_time": "2023-05-16T01:09:01.296746Z",
     "end_time": "2023-05-16T01:09:05.161779Z"
    }
   }
  },
  {
   "cell_type": "markdown",
   "metadata": {
    "id": "bEg5LDYoAkun"
   },
   "source": [
    "# 🧪 Evaluation"
   ]
  },
  {
   "cell_type": "code",
   "execution_count": 21,
   "outputs": [
    {
     "name": "stdout",
     "output_type": "stream",
     "text": [
      "(13992, 100)\n"
     ]
    }
   ],
   "source": [
    "print(nextItems.shape)"
   ],
   "metadata": {
    "collapsed": false,
    "ExecuteTime": {
     "start_time": "2023-05-16T01:09:05.163170Z",
     "end_time": "2023-05-16T01:09:05.166362Z"
    }
   }
  },
  {
   "cell_type": "markdown",
   "source": [],
   "metadata": {
    "collapsed": false
   }
  },
  {
   "cell_type": "code",
   "execution_count": 22,
   "outputs": [
    {
     "data": {
      "text/plain": "'B01LQQQWG2'"
     },
     "execution_count": 22,
     "metadata": {},
     "output_type": "execute_result"
    }
   ],
   "source": [
    "key_list = list(embeddings.keys())\n",
    "key_list[0]"
   ],
   "metadata": {
    "collapsed": false,
    "ExecuteTime": {
     "start_time": "2023-05-16T01:09:06.974934Z",
     "end_time": "2023-05-16T01:09:06.985087Z"
    }
   }
  },
  {
   "cell_type": "code",
   "execution_count": 23,
   "outputs": [
    {
     "data": {
      "text/plain": "(48788, 100)"
     },
     "execution_count": 23,
     "metadata": {},
     "output_type": "execute_result"
    }
   ],
   "source": [
    "values_list = list(embeddings.values())\n",
    "stacked_embeddings = np.stack( values_list, axis=0)\n",
    "stacked_embeddings.shape"
   ],
   "metadata": {
    "collapsed": false,
    "ExecuteTime": {
     "start_time": "2023-05-16T01:09:07.667149Z",
     "end_time": "2023-05-16T01:09:07.689842Z"
    }
   }
  },
  {
   "cell_type": "code",
   "execution_count": 24,
   "outputs": [],
   "source": [
    "sim = np.dot(nextItems, stacked_embeddings.T)"
   ],
   "metadata": {
    "collapsed": false,
    "ExecuteTime": {
     "start_time": "2023-05-16T01:09:50.167088Z",
     "end_time": "2023-05-16T01:09:50.616245Z"
    }
   }
  },
  {
   "cell_type": "code",
   "execution_count": 25,
   "outputs": [],
   "source": [
    "sortedSimilarity = np.argsort(sim, axis=1)"
   ],
   "metadata": {
    "collapsed": false,
    "ExecuteTime": {
     "start_time": "2023-05-16T01:09:50.889233Z",
     "end_time": "2023-05-16T01:10:35.154081Z"
    }
   }
  },
  {
   "cell_type": "code",
   "execution_count": 26,
   "outputs": [],
   "source": [
    "sortedSimilarity = sortedSimilarity[:, -100:]"
   ],
   "metadata": {
    "collapsed": false,
    "ExecuteTime": {
     "start_time": "2023-05-16T01:10:35.154853Z",
     "end_time": "2023-05-16T01:10:35.157772Z"
    }
   }
  },
  {
   "cell_type": "code",
   "execution_count": 27,
   "outputs": [],
   "source": [
    "recommendation_lists = []\n",
    "\n",
    "for x in range(sortedSimilarity.shape[0]):\n",
    "    rec_sub_list = []\n",
    "    for y in range(sortedSimilarity.shape[1]):\n",
    "        rec_sub_list.append(key_list[sortedSimilarity[x,y]])\n",
    "    rec_sub_list.reverse()\n",
    "    recommendation_lists.append(rec_sub_list)"
   ],
   "metadata": {
    "collapsed": false,
    "ExecuteTime": {
     "start_time": "2023-05-16T01:11:46.162934Z",
     "end_time": "2023-05-16T01:11:46.481926Z"
    }
   }
  },
  {
   "cell_type": "code",
   "execution_count": 28,
   "outputs": [
    {
     "name": "stdout",
     "output_type": "stream",
     "text": [
      "['B08CB4Q2YT', 'B09NQGVSPD', 'B01LQQQWG2', 'B07SSBLH13', 'B07JN5C1S3', 'B00CBE2LYQ', 'B0BDKKQGXL', 'B091V2X68B', 'B08J7PQGD7', 'B00G5YOVZA', 'B0B5YG29DQ', 'B01L01ES3M', 'B09P8KM9Z6', 'B06XFS8NFB', 'B0BDKWF3NP', 'B07DWRCL44', 'B07DGMWKK9', 'B07SP4WQVJ', 'B0036TH5VO', 'B07XKBLL8F', 'B00NPXEEC4', 'B08ZMQT158', 'B09NS737DT', 'B088P5YZYV', 'B09G9DMQ7M', 'B07NGVRYWX', 'B0B3S4QXZ3', 'B07MJTXDLR', 'B07VS2BW73', 'B01BBW9TEI', 'B091V33MX1', 'B0BDKQHP51', 'B085VKKV7L', 'B00CBE2I8K', 'B0BDKT7J4J', 'B0BDKWLP8P', 'B088N8KXD4', 'B09G98QYSD', 'B0B8T8Q3LV', 'B09QH6KD26', 'B09Q9C9QP3', 'B07J67BC5V', 'B07PNL5STG', 'B09R7ZXNDP', 'B01LSFKYWE', 'B08X6DJJ2W', 'B07PMQDWVP', 'B087HJ5ZZS', 'B07VQJ82SM', 'B0155OG8LK', 'B01HZSXZ88', 'B07PMR72ZG', 'B07SYYQ374', 'B07PHPXHQS', 'B09NQGTC8P', 'B09ZVDHR7R', 'B07ZH3DGGN', 'B0037EEK7A', 'B000H6W2GW', 'B01N5O1GL4', 'B0B4WNVXG2', 'B089KYL576', 'B074L118NQ', 'B09JLHKK8W', 'B0BBLBFKYB', 'B07GVM3ZLK', 'B01E94O9G8', 'B092323P8M', 'B0BDKBLF8C', 'B09BFG23X3', 'B01M9ERVX6', 'B08JD5PV9F', 'B0B3GPL5JD', 'B088QY2JR5', 'B09ZVDCM2G', 'B077SF2TN5', 'B09XB3DHQZ', 'B0B4PBW74W', 'B07J6QV2HX', 'B0BCFFP8KM', 'B09SGRSJPM', 'B07PHNT317', 'B075KG7CBB', 'B0BDKL7R4W', 'B07QPV9Z7X', 'B073ZMK8DZ', 'B07QS4PL6D', 'B075K92CW6', 'B0053Y8M1W', 'B074KZYQ4C', 'B0027IVU5C', 'B07SN57178', 'B07K1D2T5Z', 'B00A0VCJPI', 'B073HGNMH2', 'B016MPSUJO', 'B08CB4MX9H', 'B0B1DJLH65', 'B09TB4KGMR', 'B08CB4T8HY']\n"
     ]
    }
   ],
   "source": [
    "print(recommendation_lists[1905])"
   ],
   "metadata": {
    "collapsed": false,
    "ExecuteTime": {
     "start_time": "2023-05-16T01:11:48.249586Z",
     "end_time": "2023-05-16T01:11:48.263515Z"
    }
   }
  },
  {
   "cell_type": "code",
   "execution_count": 35,
   "outputs": [],
   "source": [
    "with open('./{}-recs.txt'.format(LOCALE), 'wb') as f:\n",
    "    pickle.dump(recommendation_lists, f)"
   ],
   "metadata": {
    "collapsed": false,
    "ExecuteTime": {
     "start_time": "2023-05-16T01:12:12.548456Z",
     "end_time": "2023-05-16T01:12:12.575570Z"
    }
   }
  },
  {
   "cell_type": "code",
   "execution_count": 33,
   "outputs": [
    {
     "data": {
      "text/plain": "13992"
     },
     "execution_count": 33,
     "metadata": {},
     "output_type": "execute_result"
    }
   ],
   "source": [
    "len(recommendation_lists)"
   ],
   "metadata": {
    "collapsed": false,
    "ExecuteTime": {
     "start_time": "2023-05-16T01:12:02.775675Z",
     "end_time": "2023-05-16T01:12:02.789293Z"
    }
   }
  },
  {
   "cell_type": "code",
   "execution_count": 34,
   "outputs": [
    {
     "data": {
      "text/plain": "100"
     },
     "execution_count": 34,
     "metadata": {},
     "output_type": "execute_result"
    }
   ],
   "source": [
    "len(recommendation_lists[2])"
   ],
   "metadata": {
    "collapsed": false,
    "ExecuteTime": {
     "start_time": "2023-05-16T01:12:03.377653Z",
     "end_time": "2023-05-16T01:12:03.387321Z"
    }
   }
  },
  {
   "cell_type": "code",
   "execution_count": null,
   "outputs": [],
   "source": [],
   "metadata": {
    "collapsed": false
   }
  }
 ],
 "metadata": {
  "accelerator": "GPU",
  "colab": {
   "provenance": []
  },
  "kernelspec": {
   "display_name": "Python 3 (ipykernel)",
   "language": "python",
   "name": "python3"
  },
  "language_info": {
   "codemirror_mode": {
    "name": "ipython",
    "version": 3
   },
   "file_extension": ".py",
   "mimetype": "text/x-python",
   "name": "python",
   "nbconvert_exporter": "python",
   "pygments_lexer": "ipython3",
   "version": "3.10.11"
  }
 },
 "nbformat": 4,
 "nbformat_minor": 1
}
