{
 "cells": [
  {
   "cell_type": "markdown",
   "metadata": {
    "id": "WIjdpIpL6hog"
   },
   "source": [
    "# ⚙️ Set Up"
   ]
  },
  {
   "cell_type": "code",
   "execution_count": 16,
   "metadata": {
    "id": "CRxB48iDiAF_",
    "ExecuteTime": {
     "start_time": "2023-05-16T01:30:48.900293Z",
     "end_time": "2023-05-16T01:30:48.918295Z"
    }
   },
   "outputs": [],
   "source": [
    "# Import Python built-in libraries\n",
    "import os\n",
    "import copy\n",
    "import pickle\n",
    "import random\n",
    "import time"
   ]
  },
  {
   "cell_type": "code",
   "execution_count": 17,
   "metadata": {
    "ExecuteTime": {
     "start_time": "2023-05-16T01:30:49.183745Z",
     "end_time": "2023-05-16T01:30:49.194783Z"
    }
   },
   "outputs": [],
   "source": [
    "# Import pip libraries\n",
    "import matplotlib.pyplot as plt\n",
    "import numpy as np\n",
    "import pandas as pd\n",
    "from tqdm import tqdm, trange\n",
    "\n",
    "# Import torch packages\n",
    "import torch\n",
    "import torch.nn as nn\n",
    "import torch.nn.functional as F\n",
    "import torch.optim as optim\n",
    "from torch.utils import data"
   ]
  },
  {
   "cell_type": "code",
   "execution_count": 18,
   "metadata": {
    "colab": {
     "base_uri": "https://localhost:8080/",
     "height": 383
    },
    "id": "HGQ13SWwiHRl",
    "outputId": "d12c60ec-b6e4-4a7b-ea7d-42eb63711c87",
    "ExecuteTime": {
     "start_time": "2023-05-16T01:30:49.603897Z",
     "end_time": "2023-05-16T01:30:49.693884Z"
    }
   },
   "outputs": [],
   "source": [
    "# Import PyG packages\n",
    "import torch_geometric as pyg\n",
    "import torch_geometric.data as pyg_data\n",
    "from torch_geometric.typing import Adj, OptTensor\n",
    "import torch_sparse"
   ]
  },
  {
   "cell_type": "code",
   "execution_count": null,
   "outputs": [],
   "source": [
    "from sklearn.preprocessing import normalize"
   ],
   "metadata": {
    "collapsed": false
   }
  },
  {
   "cell_type": "markdown",
   "metadata": {
    "id": "DYrSfhkh6nIc"
   },
   "source": [
    "# ⚗️ Data Preprocessing"
   ]
  },
  {
   "cell_type": "markdown",
   "metadata": {
    "id": "AK8wBmby8SWt"
   },
   "source": [
    "# 📦 Data Pipeline\n",
    "\n",
    "For data ingestion, we use PyTorch's `dataloader` and PyG's `Data` class. To learn more about the `Data` class, check out the documentation [here](https://pytorch-geometric.readthedocs.io/en/latest/modules/data.html#module-torch_geometric.data)."
   ]
  },
  {
   "cell_type": "code",
   "execution_count": 23,
   "metadata": {
    "id": "82KWESLd-1gV",
    "ExecuteTime": {
     "start_time": "2023-05-16T01:30:52.716122Z",
     "end_time": "2023-05-16T01:30:52.732118Z"
    }
   },
   "outputs": [],
   "source": [
    "class GraphDataset(pyg_data.InMemoryDataset):\n",
    "    def __init__(self, root, file_name, transform=None, pre_transform=None):\n",
    "        self.file_name = file_name\n",
    "        super().__init__(root, transform, pre_transform)\n",
    "        self.data, self.slices = torch.load(self.processed_paths[0])\n",
    "\n",
    "    @property\n",
    "    def raw_file_names(self):\n",
    "        return [f'{self.file_name}.txt']\n",
    "\n",
    "    @property\n",
    "    def processed_file_names(self):\n",
    "        return [f'{self.file_name}.pt']\n",
    "\n",
    "    def download(self):\n",
    "        pass\n",
    "\n",
    "    def process(self):\n",
    "        data_list = []\n",
    "\n",
    "        counter = 0\n",
    "\n",
    "        for session in sessions:\n",
    "            codes, uniques = pd.factorize(session)\n",
    "            senders, receivers = codes[:-1], codes[1:]\n",
    "\n",
    "            # Build Data instance\n",
    "            edge_index = torch.tensor([senders, receivers], dtype=torch.long)\n",
    "            #x = torch.tensor(uniques, dtype=torch.long)\n",
    "            x_new = torch.zeros((len(uniques), 100))\n",
    "\n",
    "            item_counter = 0\n",
    "            for item in uniques:\n",
    "                x_new[item_counter] = torch.tensor(embeddings[item])\n",
    "                item_counter += 1\n",
    "\n",
    "            #y = torch.tensor([y], dtype=torch.long)\n",
    "\n",
    "            data_list.append(pyg_data.Data(x=x_new, edge_index=edge_index))\n",
    "\n",
    "            counter += 1\n",
    "\n",
    "        data, slices = self.collate(data_list)\n",
    "        torch.save((data, slices), self.processed_paths[0])"
   ]
  },
  {
   "cell_type": "markdown",
   "metadata": {
    "id": "GD9bwJaUCOge"
   },
   "source": [
    "# 🔮 Model Design\n",
    "\n",
    "Our gated session graph layer has two main parts: (1) message propagation to create an adjacency matrix (`self.propagate`) and (2) the GRU cell (`self.gru`). We will put these inside the `forward()` function.\n",
    "\n",
    "We only use one layer for our `GatedSessionGraphConv` implementation for simplicity. Also, our sessions have average length < 5, so we do not need a large receptive field."
   ]
  },
  {
   "cell_type": "code",
   "execution_count": 24,
   "metadata": {
    "id": "7K3HWrcwqp0Z",
    "ExecuteTime": {
     "start_time": "2023-05-16T01:30:53.802618Z",
     "end_time": "2023-05-16T01:30:53.812624Z"
    }
   },
   "outputs": [],
   "source": [
    "class GatedSessionGraphConv(pyg.nn.conv.MessagePassing):\n",
    "    def __init__(self, out_channels, aggr: str = 'add', **kwargs):\n",
    "        super().__init__(aggr=aggr, **kwargs)\n",
    "\n",
    "        self.out_channels = out_channels\n",
    "\n",
    "        self.gru = torch.nn.GRUCell(out_channels, out_channels, bias=False)\n",
    "\n",
    "    def forward(self, x, edge_index):\n",
    "        m = self.propagate(edge_index, x=x, size=None)\n",
    "        x = self.gru(m, x)\n",
    "        return x\n",
    "\n",
    "    def message(self, x_j):\n",
    "        return x_j\n",
    "\n",
    "    def message_and_aggregate(self, adj_t, x):\n",
    "        return matmul(adj_t, x, reduce=self.aggr)"
   ]
  },
  {
   "cell_type": "code",
   "execution_count": 25,
   "metadata": {
    "id": "TNsAHq8PCN3k",
    "ExecuteTime": {
     "start_time": "2023-05-16T01:30:54.300493Z",
     "end_time": "2023-05-16T01:30:54.315501Z"
    }
   },
   "outputs": [],
   "source": [
    "class SRGNN(nn.Module):\n",
    "    def __init__(self, hidden_size, n_items):\n",
    "        super(SRGNN, self).__init__()\n",
    "        self.hidden_size = hidden_size\n",
    "        self.n_items = n_items\n",
    "\n",
    "        self.gated = GatedSessionGraphConv(self.hidden_size)\n",
    "\n",
    "        self.q = nn.Linear(self.hidden_size, 1)\n",
    "        self.W_1 = nn.Linear(self.hidden_size, self.hidden_size, bias=False)\n",
    "        self.W_2 = nn.Linear(self.hidden_size, self.hidden_size)\n",
    "        self.W_3 = nn.Linear(2 * self.hidden_size, self.hidden_size, bias=False)\n",
    "\n",
    "    def reset_parameters(self):\n",
    "        stdv = 1.0 / math.sqrt(self.hidden_size)\n",
    "        for weight in self.parameters():\n",
    "            weight.data.uniform_(-stdv, stdv)\n",
    "\n",
    "    def forward(self, data):\n",
    "        x, edge_index, batch_map = data.x, data.edge_index, data.batch\n",
    "\n",
    "        # (0)\n",
    "        #embedding = self.embedding(x).squeeze()\n",
    "\n",
    "        # (1)-(5)\n",
    "        v_i = self.gated(x, edge_index)\n",
    "\n",
    "        # Divide nodes by session\n",
    "        # For the detailed explanation of what is happening below, please refer\n",
    "        # to the Medium blog post.\n",
    "        sections = list(torch.bincount(batch_map).cpu())\n",
    "        v_i_split = torch.split(v_i, sections)\n",
    "\n",
    "        v_n, v_n_repeat = [], []\n",
    "        for session in v_i_split:\n",
    "            v_n.append(session[-1])\n",
    "            v_n_repeat.append(\n",
    "                session[-1].view(1, -1).repeat(session.shape[0], 1))\n",
    "        v_n, v_n_repeat = torch.stack(v_n), torch.cat(v_n_repeat, dim=0)\n",
    "\n",
    "        q1 = self.W_1(v_n_repeat)\n",
    "        q2 = self.W_2(v_i)\n",
    "\n",
    "        # (6)\n",
    "        alpha = self.q(F.sigmoid(q1 + q2))\n",
    "        s_g_split = torch.split(alpha * v_i, sections)\n",
    "\n",
    "        s_g = []\n",
    "        for session in s_g_split:\n",
    "            s_g_session = torch.sum(session, dim=0)\n",
    "            s_g.append(s_g_session)\n",
    "        s_g = torch.stack(s_g)\n",
    "\n",
    "        # (7)\n",
    "        s_l = v_n\n",
    "        s_h = self.W_3(torch.cat([s_l, s_g], dim=-1))\n",
    "        #print(\"SH: \")\n",
    "        #print(s_h.shape)\n",
    "        #print(s_h)\n",
    "\n",
    "\n",
    "        return s_h"
   ]
  },
  {
   "cell_type": "markdown",
   "metadata": {
    "id": "Qd0wGgxOAIoJ"
   },
   "source": [
    "# 🚂 Model Training\n",
    "\n",
    "We can now start model training. The training pipeline code below was originally taken from the 2021 Fall CS224W Colab assignments and then modified to fit the model."
   ]
  },
  {
   "cell_type": "code",
   "execution_count": 26,
   "outputs": [],
   "source": [
    "# Define the hyperparameters.\n",
    "# Code taken from 2021 Fall CS224W Colab assignments.\n",
    "args = {\n",
    "    'batch_size': 100,\n",
    "    'hidden_dim': 100,\n",
    "    'epochs': 1,\n",
    "    'l2_penalty': 0.00001,\n",
    "    'weight_decay': 0.1,\n",
    "    'step': 30,\n",
    "    'lr': 0.001,\n",
    "    'num_items': 466868}\n",
    "\n",
    "class objectview(object):\n",
    "    def __init__(self, d):\n",
    "        self.__dict__ = d\n",
    "\n",
    "args = objectview(args)"
   ],
   "metadata": {
    "collapsed": false,
    "ExecuteTime": {
     "start_time": "2023-05-16T01:30:55.414983Z",
     "end_time": "2023-05-16T01:30:55.427983Z"
    }
   }
  },
  {
   "cell_type": "code",
   "execution_count": null,
   "outputs": [],
   "source": [
    "def test(loader, test_model, save_model_preds=False):\n",
    "    test_model.eval()\n",
    "\n",
    "    preds_all = torch.zeros(NUM_OF_SESSIONS, 100)\n",
    "    i = 0\n",
    "\n",
    "    for _, data in enumerate(tqdm(loader)):\n",
    "        data\n",
    "        with torch.no_grad():\n",
    "            # max(dim=1) returns values, indices tuple; only need indices\n",
    "            preds = test_model(data)\n",
    "            preds_all[i*args.batch_size:(i+1)*args.batch_size,:] = preds\n",
    "            i += 1\n",
    "\n",
    "    if save_model_preds:\n",
    "        np_preds = preds_all.cpu().detach().numpy()\n",
    "        return np_preds\n"
   ],
   "metadata": {
    "collapsed": false
   }
  },
  {
   "cell_type": "code",
   "execution_count": null,
   "outputs": [],
   "source": [
    "#CHANGE MODEL NAMES ACCORDINGLY !!!!\n",
    "LOCALES = [\"SE\", \"FR\", \"IT\"]\n",
    "model_names = [\"SE_MODEL_NAME\", \"FR_MODEL_NAME\", \"IT_MODEL_NAME\"]\n",
    "\n",
    "for i in range(3):\n",
    "    locale = LOCALES[i]\n",
    "    model_name = LOCALES[i]\n",
    "\n",
    "    with open(\"../embeddings/{}-session_embedding.pkl\".format(LOCALE), 'rb') as f:\n",
    "        embeddings = pickle.load(f)\n",
    "\n",
    "    with open('../data/preprocessed-data/{}-sessions-test.pkl'.format(LOCALE), 'rb') as f:\n",
    "        sessions = pickle.load(f)\n",
    "\n",
    "    test_dataset = GraphDataset('./', locale)\n",
    "    test_loader = pyg_data.DataLoader(test_dataset,\n",
    "                                  batch_size=args.batch_size,\n",
    "                                  shuffle=False,\n",
    "                                  drop_last=True)\n",
    "\n",
    "    model = SRGNN(args.hidden_dim, args.num_items)\n",
    "    model.load_state_dict(torch.load(\"../model/{}\".format(model_name), map_location=torch.device('cpu')))\n",
    "\n",
    "    nextItems = test(test_loader, model, True)\n",
    "\n",
    "    key_list = list(embeddings.keys())\n",
    "    values_list = list(embeddings.values())\n",
    "    stacked_embeddings = np.stack( values_list, axis=0)\n",
    "\n",
    "    stacked_embeddings = normalize(stacked_embeddings, axis=1, norm='l2')\n",
    "    nextItems = normalize(nextItems, axis=1, norm='l2')\n",
    "\n",
    "    sim = np.dot(nextItems, stacked_embeddings.T)\n",
    "    sortedSimilarity = np.argsort(sim, axis=1)\n",
    "    sortedSimilarity = sortedSimilarity[:, -100:]\n",
    "    recommendation_lists = []\n",
    "\n",
    "    for x in range(sortedSimilarity.shape[0]):\n",
    "        rec_sub_list = []\n",
    "        for y in range(sortedSimilarity.shape[1]):\n",
    "            rec_sub_list.append(key_list[sortedSimilarity[x, y]])\n",
    "        rec_sub_list.reverse()\n",
    "        recommendation_lists.append(rec_sub_list)\n",
    "\n",
    "    with open('./test-result/{}-recs.pkl'.format(locale), 'wb') as f:\n",
    "        pickle.dump(recommendation_lists, f)\n",
    "\n",
    "\n"
   ],
   "metadata": {
    "collapsed": false
   }
  },
  {
   "cell_type": "markdown",
   "source": [
    "# END !!"
   ],
   "metadata": {
    "collapsed": false
   }
  },
  {
   "cell_type": "code",
   "execution_count": null,
   "outputs": [],
   "source": [],
   "metadata": {
    "collapsed": false
   }
  },
  {
   "cell_type": "code",
   "execution_count": 27,
   "outputs": [
    {
     "name": "stderr",
     "output_type": "stream",
     "text": [
      "Processing...\n",
      "Done!\n",
      "C:\\Users\\90539\\anaconda3\\envs\\srgnn-env\\lib\\site-packages\\torch_geometric\\deprecation.py:22: UserWarning: 'data.DataLoader' is deprecated, use 'loader.DataLoader' instead\n",
      "  warnings.warn(out)\n"
     ]
    }
   ],
   "source": [
    "test_dataset = GraphDataset('./', LOCALE)\n",
    "test_loader = pyg_data.DataLoader(test_dataset,\n",
    "                                   batch_size=args.batch_size,\n",
    "                                   shuffle=False,\n",
    "                                   drop_last=True)"
   ],
   "metadata": {
    "collapsed": false
   }
  },
  {
   "cell_type": "code",
   "execution_count": 28,
   "outputs": [
    {
     "data": {
      "text/plain": "GraphDataset(12520)"
     },
     "execution_count": 28,
     "metadata": {},
     "output_type": "execute_result"
    }
   ],
   "source": [
    "test_dataset"
   ],
   "metadata": {
    "collapsed": false
   }
  },
  {
   "cell_type": "code",
   "execution_count": 29,
   "outputs": [
    {
     "name": "stderr",
     "output_type": "stream",
     "text": [
      "C:\\Users\\90539\\anaconda3\\envs\\srgnn-env\\lib\\site-packages\\torch_geometric\\data\\in_memory_dataset.py:157: UserWarning: It is not recommended to directly access the internal storage format `data` of an 'InMemoryDataset'. If you are absolutely certain what you are doing, access the internal storage via `InMemoryDataset._data` instead to suppress this warning. Alternatively, you can access stacked individual attributes of every graph via `dataset.{attr_name}`.\n",
      "  warnings.warn(msg)\n"
     ]
    },
    {
     "data": {
      "text/plain": "Data(x=[38879, 100], edge_index=[2, 35623])"
     },
     "execution_count": 29,
     "metadata": {},
     "output_type": "execute_result"
    }
   ],
   "source": [
    "test_dataset.data"
   ],
   "metadata": {
    "collapsed": false,
    "ExecuteTime": {
     "start_time": "2023-05-16T01:31:03.672542Z",
     "end_time": "2023-05-16T01:31:03.689543Z"
    }
   }
  },
  {
   "cell_type": "code",
   "execution_count": 30,
   "outputs": [],
   "source": [
    "def test(loader, test_model, save_model_preds=False):\n",
    "    test_model.eval()\n",
    "\n",
    "    preds_all = torch.zeros(NUM_OF_SESSIONS, 100)\n",
    "    i = 0\n",
    "\n",
    "    for _, data in enumerate(tqdm(loader)):\n",
    "        data\n",
    "        with torch.no_grad():\n",
    "            # max(dim=1) returns values, indices tuple; only need indices\n",
    "            preds = test_model(data)\n",
    "            preds_all[i*args.batch_size:(i+1)*args.batch_size,:] = preds\n",
    "            i += 1\n",
    "\n",
    "    if save_model_preds:\n",
    "        np_preds = preds_all.cpu().detach().numpy()\n",
    "        return np_preds\n"
   ],
   "metadata": {
    "collapsed": false,
    "ExecuteTime": {
     "start_time": "2023-05-16T01:31:04.246828Z",
     "end_time": "2023-05-16T01:31:04.272814Z"
    }
   }
  },
  {
   "cell_type": "code",
   "execution_count": 31,
   "outputs": [
    {
     "data": {
      "text/plain": "<All keys matched successfully>"
     },
     "execution_count": 31,
     "metadata": {},
     "output_type": "execute_result"
    }
   ],
   "source": [
    "model = SRGNN(args.hidden_dim, args.num_items)\n",
    "model.load_state_dict(torch.load(\"../model/model{}\".format(LOCALE), map_location=torch.device('cpu')))"
   ],
   "metadata": {
    "collapsed": false,
    "ExecuteTime": {
     "start_time": "2023-05-16T01:31:04.898375Z",
     "end_time": "2023-05-16T01:31:04.967358Z"
    }
   }
  },
  {
   "cell_type": "code",
   "execution_count": 32,
   "outputs": [
    {
     "name": "stderr",
     "output_type": "stream",
     "text": [
      "100%|██████████| 125/125 [00:03<00:00, 34.72it/s]\n"
     ]
    }
   ],
   "source": [
    "nextItems = test(test_loader, model, True)"
   ],
   "metadata": {
    "collapsed": false,
    "ExecuteTime": {
     "start_time": "2023-05-16T01:31:05.283675Z",
     "end_time": "2023-05-16T01:31:08.898864Z"
    }
   }
  },
  {
   "cell_type": "markdown",
   "metadata": {
    "id": "bEg5LDYoAkun"
   },
   "source": [
    "# 🧪 Evaluation"
   ]
  },
  {
   "cell_type": "code",
   "execution_count": 33,
   "outputs": [
    {
     "name": "stdout",
     "output_type": "stream",
     "text": [
      "(12520, 100)\n"
     ]
    }
   ],
   "source": [
    "print(nextItems.shape)"
   ],
   "metadata": {
    "collapsed": false,
    "ExecuteTime": {
     "start_time": "2023-05-16T01:31:08.903859Z",
     "end_time": "2023-05-16T01:31:08.916859Z"
    }
   }
  },
  {
   "cell_type": "markdown",
   "source": [],
   "metadata": {
    "collapsed": false
   }
  },
  {
   "cell_type": "code",
   "execution_count": 34,
   "outputs": [
    {
     "data": {
      "text/plain": "'B07PMQDWVP'"
     },
     "execution_count": 34,
     "metadata": {},
     "output_type": "execute_result"
    }
   ],
   "source": [
    "key_list = list(embeddings.keys())\n",
    "key_list[0]"
   ],
   "metadata": {
    "collapsed": false,
    "ExecuteTime": {
     "start_time": "2023-05-16T01:31:08.911858Z",
     "end_time": "2023-05-16T01:31:08.985394Z"
    }
   }
  },
  {
   "cell_type": "code",
   "execution_count": 35,
   "outputs": [
    {
     "data": {
      "text/plain": "(44293, 100)"
     },
     "execution_count": 35,
     "metadata": {},
     "output_type": "execute_result"
    }
   ],
   "source": [
    "values_list = list(embeddings.values())\n",
    "stacked_embeddings = np.stack( values_list, axis=0)\n",
    "stacked_embeddings.shape"
   ],
   "metadata": {
    "collapsed": false,
    "ExecuteTime": {
     "start_time": "2023-05-16T01:31:08.929860Z",
     "end_time": "2023-05-16T01:31:09.019395Z"
    }
   }
  },
  {
   "cell_type": "code",
   "execution_count": 36,
   "outputs": [],
   "source": [
    "sim = np.dot(nextItems, stacked_embeddings.T)"
   ],
   "metadata": {
    "collapsed": false,
    "ExecuteTime": {
     "start_time": "2023-05-16T01:31:09.441994Z",
     "end_time": "2023-05-16T01:31:10.171371Z"
    }
   }
  },
  {
   "cell_type": "code",
   "execution_count": 37,
   "outputs": [],
   "source": [
    "sortedSimilarity = np.argsort(sim, axis=1)"
   ],
   "metadata": {
    "collapsed": false,
    "ExecuteTime": {
     "start_time": "2023-05-16T01:31:10.173373Z",
     "end_time": "2023-05-16T01:31:44.207157Z"
    }
   }
  },
  {
   "cell_type": "code",
   "execution_count": 38,
   "outputs": [],
   "source": [
    "sortedSimilarity = sortedSimilarity[:, -100:]"
   ],
   "metadata": {
    "collapsed": false,
    "ExecuteTime": {
     "start_time": "2023-05-16T01:31:44.208135Z",
     "end_time": "2023-05-16T01:31:44.221282Z"
    }
   }
  },
  {
   "cell_type": "code",
   "execution_count": 39,
   "outputs": [],
   "source": [
    "recommendation_lists = []\n",
    "\n",
    "for x in range(sortedSimilarity.shape[0]):\n",
    "    rec_sub_list = []\n",
    "    for y in range(sortedSimilarity.shape[1]):\n",
    "        rec_sub_list.append(key_list[sortedSimilarity[x,y]])\n",
    "    rec_sub_list.reverse()\n",
    "    recommendation_lists.append(rec_sub_list)"
   ],
   "metadata": {
    "collapsed": false,
    "ExecuteTime": {
     "start_time": "2023-05-16T01:31:44.226270Z",
     "end_time": "2023-05-16T01:31:44.627294Z"
    }
   }
  },
  {
   "cell_type": "code",
   "execution_count": 40,
   "outputs": [
    {
     "name": "stdout",
     "output_type": "stream",
     "text": [
      "['B07JG9TFSB', 'B094R3R9XH', 'B0B7S7LBMB', 'B092323P8M', 'B07JDSHD4Z', 'B07TV364MZ', 'B0B3DKVCC6', 'B08NSZ94TP', 'B08JM3NXYV', 'B091V2X68B', 'B01631LWW4', 'B09TPYW9C1', 'B08T19F29G', 'B09YJ5SJ9X', 'B0092MEP58', 'B09NQGVSPD', 'B08V1KXBQD', 'B01N24R3WD', 'B07TV22X9M', 'B07VFTVVWX', 'B08JM541YZ', 'B00KSFQGNC', 'B084DJ5Z1F', 'B08BT97CBC', 'B0B5NBQ387', 'B09Z67V8GM', 'B0B31X6NKB', 'B08T1HR5CS', 'B005TFKS44', 'B084DJ28LQ', 'B084DJ1WTQ', 'B098RJXBTY', 'B07PMQDWVP', 'B09Z62HYY8', 'B08CRV3XXV', 'B07NGVRYWX', 'B00I3P3DXK', 'B07PMR72ZG', 'B086C24G9G', 'B07QYYZLQP', 'B07DGMWKK9', 'B09DLD9Y6P', 'B07SYYQ374', 'B08V12CT4C', 'B0B77ZGY92', 'B095Y1JNHG', 'B08X6DCJT2', 'B091V2T2TD', 'B09NKFSLGB', 'B071DPWR5S', 'B00UZ5ESLC', 'B08GYKLWVR', 'B0BDHTRL5X', 'B004L8T2NS', 'B09TQ1CM5Y', 'B0766JX13M', 'B09SHWTRFL', 'B07FSN6LLT', 'B09ZPT1MC9', 'B08JM5TST8', 'B07WKNQ8JT', 'B09NMYBTH1', 'B07B57625J', 'B0BCQLVFBM', 'B01H1R0K68', 'B0B24P6NYR', 'B093GZ6DQ6', 'B0BFRLFFPR', 'B0071OVZCK', 'B07DGH9V7S', 'B07FBDNC3L', 'B07NWT6YLD', 'B0B51GVQN2', 'B00M48WPGS', 'B008F7YK6K', 'B0BGPY3832', 'B0BC8S1ST7', 'B09HGGV5R5', 'B0BDHZH6R6', 'B07SDFLVKD', 'B08CVQJSFX', 'B074P89B26', 'B09VC5PKN5', 'B008YETL18', 'B08QYYBTMC', 'B07JWCFC6D', 'B07VFPNV4T', 'B01LSFKYWE', 'B099XB56K5', 'B01KUL1TOE', 'B07FXSVLQ4', 'B00H7ZELTC', 'B09129FV4D', 'B08SS25KSL', 'B07F922L3Q', 'B00M95G6KM', 'B09W63T3JJ', 'B09KVCHF35', 'B00JWVCHF4', 'B008F7YK2O']\n"
     ]
    }
   ],
   "source": [
    "print(recommendation_lists[1905])"
   ],
   "metadata": {
    "collapsed": false,
    "ExecuteTime": {
     "start_time": "2023-05-16T01:31:44.630295Z",
     "end_time": "2023-05-16T01:31:44.643294Z"
    }
   }
  },
  {
   "cell_type": "code",
   "execution_count": 41,
   "outputs": [],
   "source": [
    "with open('./test-result/{}-recs.pkl'.format(LOCALE), 'wb') as f:\n",
    "    pickle.dump(recommendation_lists, f)"
   ],
   "metadata": {
    "collapsed": false,
    "ExecuteTime": {
     "start_time": "2023-05-16T01:31:44.645293Z",
     "end_time": "2023-05-16T01:31:44.717290Z"
    }
   }
  },
  {
   "cell_type": "code",
   "execution_count": null,
   "outputs": [],
   "source": [],
   "metadata": {
    "collapsed": false
   }
  }
 ],
 "metadata": {
  "accelerator": "GPU",
  "colab": {
   "provenance": []
  },
  "kernelspec": {
   "display_name": "Python 3 (ipykernel)",
   "language": "python",
   "name": "python3"
  },
  "language_info": {
   "codemirror_mode": {
    "name": "ipython",
    "version": 3
   },
   "file_extension": ".py",
   "mimetype": "text/x-python",
   "name": "python",
   "nbconvert_exporter": "python",
   "pygments_lexer": "ipython3",
   "version": "3.10.11"
  }
 },
 "nbformat": 4,
 "nbformat_minor": 1
}
