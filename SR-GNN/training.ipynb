{
 "cells": [
  {
   "cell_type": "markdown",
   "metadata": {
    "id": "WIjdpIpL6hog"
   },
   "source": [
    "# ⚙️ Set Up"
   ]
  },
  {
   "cell_type": "code",
   "execution_count": null,
   "metadata": {
    "id": "CRxB48iDiAF_",
    "ExecuteTime": {
     "start_time": "2023-05-18T01:56:35.797529Z",
     "end_time": "2023-05-18T01:56:35.804055Z"
    }
   },
   "outputs": [],
   "source": [
    "# Import Python built-in libraries\n",
    "import os\n",
    "import copy\n",
    "import pickle\n",
    "import random\n",
    "import time"
   ]
  },
  {
   "cell_type": "code",
   "execution_count": null,
   "metadata": {
    "ExecuteTime": {
     "start_time": "2023-05-18T01:56:35.802549Z",
     "end_time": "2023-05-18T01:56:39.090919Z"
    }
   },
   "outputs": [],
   "source": [
    "# Import pip libraries\n",
    "import matplotlib.pyplot as plt\n",
    "import numpy as np\n",
    "import pandas as pd\n",
    "from tqdm import tqdm, trange\n",
    "\n",
    "# Import torch packages\n",
    "import torch\n",
    "import torch.nn as nn\n",
    "import torch.nn.functional as F\n",
    "import torch.optim as optim\n",
    "from torch.utils import data"
   ]
  },
  {
   "cell_type": "code",
   "execution_count": null,
   "metadata": {
    "colab": {
     "base_uri": "https://localhost:8080/",
     "height": 383
    },
    "id": "HGQ13SWwiHRl",
    "outputId": "d12c60ec-b6e4-4a7b-ea7d-42eb63711c87",
    "ExecuteTime": {
     "start_time": "2023-05-18T01:56:39.091865Z",
     "end_time": "2023-05-18T01:56:39.752420Z"
    }
   },
   "outputs": [],
   "source": [
    "# Import PyG packages\n",
    "import torch_geometric as pyg\n",
    "import torch_geometric.data as pyg_data\n",
    "from torch_geometric.typing import Adj, OptTensor\n",
    "import torch_sparse"
   ]
  },
  {
   "cell_type": "markdown",
   "metadata": {
    "id": "AK8wBmby8SWt"
   },
   "source": [
    "# 📦 Data Pipeline\n",
    "\n",
    "For data ingestion, we use PyTorch's `dataloader` and PyG's `Data` class. To learn more about the `Data` class, check out the documentation [here](https://pytorch-geometric.readthedocs.io/en/latest/modules/data.html#module-torch_geometric.data)."
   ]
  },
  {
   "cell_type": "code",
   "execution_count": null,
   "metadata": {
    "id": "82KWESLd-1gV",
    "ExecuteTime": {
     "start_time": "2023-05-18T01:56:39.758141Z",
     "end_time": "2023-05-18T01:56:39.759719Z"
    }
   },
   "outputs": [],
   "source": [
    "class GraphDataset(pyg_data.InMemoryDataset):\n",
    "    def __init__(self, root, file_name, transform=None, pre_transform=None):\n",
    "        self.file_name = file_name\n",
    "        super().__init__(root, transform, pre_transform)\n",
    "        self.data, self.slices = torch.load(self.processed_paths[0])\n",
    "\n",
    "    @property\n",
    "    def raw_file_names(self):\n",
    "        return [f'{self.file_name}.txt']\n",
    "\n",
    "    @property\n",
    "    def processed_file_names(self):\n",
    "        return [f'{self.file_name}.pt']\n",
    "\n",
    "    def download(self):\n",
    "        pass\n",
    "\n",
    "    def process(self):\n",
    "        raw_data_file = f'{self.raw_dir}/{self.file_name}'\n",
    "        with open(raw_data_file + \"sessions.txt\", 'rb') as f:\n",
    "            sessions = pickle.load(f)\n",
    "\n",
    "        with open(raw_data_file + \"predictions.txt\", 'rb') as f:\n",
    "            predictions = pickle.load(f)\n",
    "\n",
    "        with open(raw_data_file + \"session_embedding.pkl\", 'rb') as f:\n",
    "            embedding_dict = pickle.load(f)\n",
    "\n",
    "        data_list = []\n",
    "\n",
    "        counter = 0\n",
    "\n",
    "        for session in sessions:\n",
    "            session, y = session, predictions[counter]\n",
    "            codes, uniques = pd.factorize(session)\n",
    "            senders, receivers = codes[:-1], codes[1:]\n",
    "\n",
    "            # Build Data instance\n",
    "            edge_index = torch.tensor([senders, receivers], dtype=torch.long)\n",
    "            #x = torch.tensor(uniques, dtype=torch.long)\n",
    "            x_new = torch.zeros((len(uniques), 100))\n",
    "\n",
    "            item_counter = 0\n",
    "            for item in uniques:\n",
    "                x_new[item_counter] = torch.tensor(embedding_dict[item])\n",
    "                item_counter += 1\n",
    "\n",
    "            #y = torch.tensor([y], dtype=torch.long)\n",
    "            y_new = torch.zeros(1,100)\n",
    "            y_new[0] = torch.tensor(embedding_dict[y])\n",
    "\n",
    "            data_list.append(pyg_data.Data(x=x_new, edge_index=edge_index, y=y_new))\n",
    "\n",
    "            counter += 1\n",
    "\n",
    "        data, slices = self.collate(data_list)\n",
    "        torch.save((data, slices), self.processed_paths[0])"
   ]
  },
  {
   "cell_type": "code",
   "execution_count": null,
   "outputs": [],
   "source": [],
   "metadata": {
    "collapsed": false,
    "ExecuteTime": {
     "start_time": "2023-05-18T01:56:39.761564Z",
     "end_time": "2023-05-18T01:56:39.763281Z"
    }
   }
  },
  {
   "cell_type": "markdown",
   "metadata": {
    "id": "GD9bwJaUCOge"
   },
   "source": [
    "# 🔮 Model Design\n",
    "\n",
    "Our gated session graph layer has two main parts: (1) message propagation to create an adjacency matrix (`self.propagate`) and (2) the GRU cell (`self.gru`). We will put these inside the `forward()` function.\n",
    "\n",
    "We only use one layer for our `GatedSessionGraphConv` implementation for simplicity. Also, our sessions have average length < 5, so we do not need a large receptive field."
   ]
  },
  {
   "cell_type": "code",
   "execution_count": null,
   "metadata": {
    "id": "7K3HWrcwqp0Z",
    "ExecuteTime": {
     "start_time": "2023-05-18T01:56:39.766117Z",
     "end_time": "2023-05-18T01:56:39.767705Z"
    }
   },
   "outputs": [],
   "source": [
    "class GatedSessionGraphConv(pyg.nn.conv.MessagePassing):\n",
    "    def __init__(self, out_channels, aggr: str = 'add', **kwargs):\n",
    "        super().__init__(aggr=aggr, **kwargs)\n",
    "\n",
    "        self.out_channels = out_channels\n",
    "\n",
    "        self.gru = torch.nn.GRUCell(out_channels, out_channels, bias=False)\n",
    "\n",
    "    def forward(self, x, edge_index):\n",
    "        m = self.propagate(edge_index, x=x, size=None)\n",
    "        x = self.gru(m, x)\n",
    "        return x\n",
    "\n",
    "    def message(self, x_j):\n",
    "        return x_j\n",
    "\n",
    "    def message_and_aggregate(self, adj_t, x):\n",
    "        return matmul(adj_t, x, reduce=self.aggr)"
   ]
  },
  {
   "cell_type": "code",
   "execution_count": null,
   "metadata": {
    "id": "TNsAHq8PCN3k",
    "ExecuteTime": {
     "start_time": "2023-05-18T01:56:39.767888Z",
     "end_time": "2023-05-18T01:56:39.777810Z"
    }
   },
   "outputs": [],
   "source": [
    "class SRGNN(nn.Module):\n",
    "    def __init__(self, hidden_size, n_items):\n",
    "        super(SRGNN, self).__init__()\n",
    "        self.hidden_size = hidden_size\n",
    "        self.n_items = n_items\n",
    "\n",
    "        self.gated = GatedSessionGraphConv(self.hidden_size)\n",
    "\n",
    "        self.q = nn.Linear(self.hidden_size, 1)\n",
    "        self.W_1 = nn.Linear(self.hidden_size, self.hidden_size, bias=False)\n",
    "        self.W_2 = nn.Linear(self.hidden_size, self.hidden_size)\n",
    "        self.W_3 = nn.Linear(2 * self.hidden_size, self.hidden_size, bias=False)\n",
    "\n",
    "    def reset_parameters(self):\n",
    "        stdv = 1.0 / math.sqrt(self.hidden_size)\n",
    "        for weight in self.parameters():\n",
    "            weight.data.uniform_(-stdv, stdv)\n",
    "\n",
    "    def forward(self, data):\n",
    "        x, edge_index, batch_map = data.x, data.edge_index, data.batch\n",
    "\n",
    "        # (0)\n",
    "        #embedding = self.embedding(x).squeeze()\n",
    "\n",
    "        # (1)-(5)\n",
    "        v_i = self.gated(x, edge_index)\n",
    "\n",
    "        # Divide nodes by session\n",
    "        # For the detailed explanation of what is happening below, please refer\n",
    "        # to the Medium blog post.\n",
    "        sections = list(torch.bincount(batch_map).cpu())\n",
    "        v_i_split = torch.split(v_i, sections)\n",
    "\n",
    "        v_n, v_n_repeat = [], []\n",
    "        for session in v_i_split:\n",
    "            v_n.append(session[-1])\n",
    "            v_n_repeat.append(\n",
    "                session[-1].view(1, -1).repeat(session.shape[0], 1))\n",
    "        v_n, v_n_repeat = torch.stack(v_n), torch.cat(v_n_repeat, dim=0)\n",
    "\n",
    "        q1 = self.W_1(v_n_repeat)\n",
    "        q2 = self.W_2(v_i)\n",
    "\n",
    "        # (6)\n",
    "        alpha = self.q(F.sigmoid(q1 + q2))\n",
    "        s_g_split = torch.split(alpha * v_i, sections)\n",
    "\n",
    "        s_g = []\n",
    "        for session in s_g_split:\n",
    "            s_g_session = torch.sum(session, dim=0)\n",
    "            s_g.append(s_g_session)\n",
    "        s_g = torch.stack(s_g)\n",
    "\n",
    "        # (7)\n",
    "        s_l = v_n\n",
    "        s_h = self.W_3(torch.cat([s_l, s_g], dim=-1))\n",
    "        #print(\"SH: \")\n",
    "        #print(s_h.shape)\n",
    "        #print(s_h)\n",
    "\n",
    "\n",
    "        return s_h"
   ]
  },
  {
   "cell_type": "markdown",
   "metadata": {
    "id": "Qd0wGgxOAIoJ"
   },
   "source": [
    "# 🚂 Model Training\n",
    "\n",
    "We can now start model training. The training pipeline code below was originally taken from the 2021 Fall CS224W Colab assignments and then modified to fit the model."
   ]
  },
  {
   "cell_type": "code",
   "execution_count": null,
   "metadata": {
    "id": "5gMZqEW81HYj",
    "ExecuteTime": {
     "start_time": "2023-05-18T01:56:39.782877Z",
     "end_time": "2023-05-18T01:56:39.787456Z"
    }
   },
   "outputs": [],
   "source": [
    "# Define the hyperparameters.\n",
    "# Code taken from 2021 Fall CS224W Colab assignments.\n",
    "args = {\n",
    "    'batch_size': 100,\n",
    "    'hidden_dim': 100,\n",
    "    'epochs': 2,\n",
    "    'l2_penalty': 0.00001,\n",
    "    'weight_decay': 0.1,\n",
    "    'step': 30,\n",
    "    'lr': 0.001,\n",
    "    'num_items': 466868}\n",
    "\n",
    "class objectview(object):\n",
    "    def __init__(self, d): \n",
    "        self.__dict__ = d\n",
    "\n",
    "args = objectview(args)"
   ]
  },
  {
   "cell_type": "code",
   "execution_count": null,
   "metadata": {
    "id": "8iVoTPoJAKkU",
    "ExecuteTime": {
     "start_time": "2023-05-18T01:56:39.784951Z",
     "end_time": "2023-05-18T01:56:39.793586Z"
    }
   },
   "outputs": [],
   "source": [
    "def train(args, locale):\n",
    "    # Prepare data pipeline\n",
    "    train_dataset = GraphDataset('./', locale)\n",
    "    train_loader = pyg_data.DataLoader(train_dataset,\n",
    "                                       batch_size=args.batch_size,\n",
    "                                       shuffle=False,\n",
    "                                       drop_last=True)\n",
    "    # Build model\n",
    "    model = SRGNN(args.hidden_dim, args.num_items).to('cuda')\n",
    "\n",
    "    # Get training components\n",
    "    optimizer = torch.optim.Adam(model.parameters(),\n",
    "                                 lr=args.lr,\n",
    "                                 weight_decay=args.l2_penalty)\n",
    "    scheduler = optim.lr_scheduler.StepLR(optimizer,\n",
    "                                          step_size=args.step,\n",
    "                                          gamma=args.weight_decay)\n",
    "\n",
    "    #criterion = -F.cosine_similarity( dim=1)\n",
    "\n",
    "    # Train\n",
    "    losses = []\n",
    "    test_accs = []\n",
    "    top_k_accs = []\n",
    "\n",
    "    best_acc = 0\n",
    "    best_model = None\n",
    "\n",
    "    for epoch in range(args.epochs):\n",
    "        total_loss = 0\n",
    "        model.train()\n",
    "        for _, batch in enumerate(tqdm(train_loader)):\n",
    "            batch.to('cuda')\n",
    "            optimizer.zero_grad()\n",
    "\n",
    "            #print(batch.num_graphs)\n",
    "            pred = model(batch)\n",
    "            #print(pred.shape)\n",
    "            #print(\"PRED: \")\n",
    "            #print(pred.shape)\n",
    "            #print(pred)\n",
    "            label = batch.y\n",
    "            #print(\"LABEL: \")\n",
    "            #print(label.shape)\n",
    "            #print(label)\n",
    "            loss = torch.sum(-F.cosine_similarity(pred, label, dim=1))\n",
    "            loss.backward()\n",
    "            optimizer.step()\n",
    "            total_loss += loss.item() * batch.num_graphs\n",
    "\n",
    "        total_loss /= len(train_loader.dataset)\n",
    "        losses.append(total_loss)\n",
    "        print(total_loss)\n",
    "\n",
    "        scheduler.step()\n",
    "\n",
    "\n",
    "    best_model = copy.deepcopy(model)\n",
    "\n",
    "    return losses, best_model"
   ]
  },
  {
   "cell_type": "code",
   "execution_count": null,
   "metadata": {
    "colab": {
     "base_uri": "https://localhost:8080/",
     "height": 1000
    },
    "id": "pdNUqKJl1r35",
    "outputId": "260ba489-8fc2-4293-827b-1125b67fa348",
    "ExecuteTime": {
     "start_time": "2023-05-10T23:51:54.963082Z",
     "end_time": "2023-05-10T23:54:24.077491Z"
    }
   },
   "outputs": [],
   "source": [
    "losses, best_model = train(args, 'ES')\n",
    "\n",
    "# Save the best model\n",
    "torch.save(best_model.state_dict(), 'ESmodel')\n",
    "\n",
    "print(\"Minimum loss: {0}\".format(min(losses)))\n",
    "\n",
    "# plt.title(dataset.name)\n",
    "plt.plot(losses, label=\"ES training loss\" + \" - \")\n",
    "plt.legend()\n",
    "plt.show()"
   ]
  },
  {
   "cell_type": "code",
   "execution_count": null,
   "outputs": [],
   "source": [
    "losses, best_model = train(args, 'FR')\n",
    "\n",
    "# Save the best model\n",
    "torch.save(best_model.state_dict(), 'FRmodel')\n",
    "\n",
    "print(\"Minimum loss: {0}\".format(min(losses)))\n",
    "\n",
    "# plt.title(dataset.name)\n",
    "plt.plot(losses, label=\"FR training loss\" + \" - \")\n",
    "plt.legend()\n",
    "plt.show()"
   ],
   "metadata": {
    "collapsed": false
   }
  },
  {
   "cell_type": "code",
   "execution_count": null,
   "outputs": [],
   "source": [
    "losses, best_model = train(args, 'IT')\n",
    "\n",
    "# Save the best model\n",
    "torch.save(best_model.state_dict(), 'ITmodel')\n",
    "\n",
    "print(\"Minimum loss: {0}\".format(min(losses)))\n",
    "\n",
    "# plt.title(dataset.name)\n",
    "plt.plot(losses, label=\"IT training loss\" + \" - \")\n",
    "plt.legend()\n",
    "plt.show()"
   ],
   "metadata": {
    "collapsed": false
   }
  }
 ],
 "metadata": {
  "accelerator": "GPU",
  "colab": {
   "provenance": []
  },
  "kernelspec": {
   "display_name": "Python 3 (ipykernel)",
   "language": "python",
   "name": "python3"
  },
  "language_info": {
   "codemirror_mode": {
    "name": "ipython",
    "version": 3
   },
   "file_extension": ".py",
   "mimetype": "text/x-python",
   "name": "python",
   "nbconvert_exporter": "python",
   "pygments_lexer": "ipython3",
   "version": "3.10.11"
  }
 },
 "nbformat": 4,
 "nbformat_minor": 1
}
