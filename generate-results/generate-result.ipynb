{
 "cells": [
  {
   "cell_type": "code",
   "execution_count": 1,
   "metadata": {
    "collapsed": true
   },
   "outputs": [],
   "source": [
    "import pickle\n",
    "import pandas as pd"
   ]
  },
  {
   "cell_type": "code",
   "execution_count": 7,
   "outputs": [],
   "source": [
    "result = []\n",
    "locale = []"
   ],
   "metadata": {
    "collapsed": false
   }
  },
  {
   "cell_type": "code",
   "execution_count": 10,
   "outputs": [],
   "source": [
    "LOCALE = \"IT\" #change locale name in order for another locale recommendations\n",
    "with open(f\"../SR-GNN/test-result/{LOCALE}-recs.pkl\", \"rb\") as f:\n",
    "    recs = pickle.load(f)\n",
    "\n",
    "for l in recs:\n",
    "    s = \"[\"\n",
    "    for i in l:\n",
    "        s += i\n",
    "        if i == l[-1]:\n",
    "            s += \"]\"\n",
    "        else:\n",
    "            s += \", \"\n",
    "\n",
    "    result.append(s)\n",
    "\n",
    "\n",
    "for i in range(len(recs)):\n",
    "    locale.append(LOCALE)"
   ],
   "metadata": {
    "collapsed": false
   }
  },
  {
   "cell_type": "code",
   "execution_count": 11,
   "outputs": [
    {
     "data": {
      "text/plain": "      locale                               next_item_prediction\n0         ES  [B07DGJ6NZB, B07DGMWKK9, B00815GNNO, B00MFEHQM...\n1         ES  [B091V2X68B, B09NV2KQZN, B09NQGVSPD, B092323P8...\n2         ES  [B091V2X68B, B09NV2KQZN, B09NQGVSPD, B092323P8...\n3         ES  [B091V2X68B, B09NV2KQZN, B09NQGVSPD, B092323P8...\n4         ES  [B0B1QXDDBH, B07N8N6C85, B0B49S2D56, B0B49TZ9Q...\n...      ...                                                ...\n34683     IT  [B0774TPFL5, B08YYQ57DV, B01ELH6ADI, B07CRNJTB...\n34684     IT  [B0774TPFL5, B08YYQ57DV, B01ELH6ADI, B07CRNJTB...\n34685     IT  [B0774TPFL5, B08YYQ57DV, B01ELH6ADI, B07CRNJTB...\n34686     IT  [B0774TPFL5, B08YYQ57DV, B01ELH6ADI, B07CRNJTB...\n34687     IT  [B0774TPFL5, B08YYQ57DV, B01ELH6ADI, B07CRNJTB...\n\n[34688 rows x 2 columns]",
      "text/html": "<div>\n<style scoped>\n    .dataframe tbody tr th:only-of-type {\n        vertical-align: middle;\n    }\n\n    .dataframe tbody tr th {\n        vertical-align: top;\n    }\n\n    .dataframe thead th {\n        text-align: right;\n    }\n</style>\n<table border=\"1\" class=\"dataframe\">\n  <thead>\n    <tr style=\"text-align: right;\">\n      <th></th>\n      <th>locale</th>\n      <th>next_item_prediction</th>\n    </tr>\n  </thead>\n  <tbody>\n    <tr>\n      <th>0</th>\n      <td>ES</td>\n      <td>[B07DGJ6NZB, B07DGMWKK9, B00815GNNO, B00MFEHQM...</td>\n    </tr>\n    <tr>\n      <th>1</th>\n      <td>ES</td>\n      <td>[B091V2X68B, B09NV2KQZN, B09NQGVSPD, B092323P8...</td>\n    </tr>\n    <tr>\n      <th>2</th>\n      <td>ES</td>\n      <td>[B091V2X68B, B09NV2KQZN, B09NQGVSPD, B092323P8...</td>\n    </tr>\n    <tr>\n      <th>3</th>\n      <td>ES</td>\n      <td>[B091V2X68B, B09NV2KQZN, B09NQGVSPD, B092323P8...</td>\n    </tr>\n    <tr>\n      <th>4</th>\n      <td>ES</td>\n      <td>[B0B1QXDDBH, B07N8N6C85, B0B49S2D56, B0B49TZ9Q...</td>\n    </tr>\n    <tr>\n      <th>...</th>\n      <td>...</td>\n      <td>...</td>\n    </tr>\n    <tr>\n      <th>34683</th>\n      <td>IT</td>\n      <td>[B0774TPFL5, B08YYQ57DV, B01ELH6ADI, B07CRNJTB...</td>\n    </tr>\n    <tr>\n      <th>34684</th>\n      <td>IT</td>\n      <td>[B0774TPFL5, B08YYQ57DV, B01ELH6ADI, B07CRNJTB...</td>\n    </tr>\n    <tr>\n      <th>34685</th>\n      <td>IT</td>\n      <td>[B0774TPFL5, B08YYQ57DV, B01ELH6ADI, B07CRNJTB...</td>\n    </tr>\n    <tr>\n      <th>34686</th>\n      <td>IT</td>\n      <td>[B0774TPFL5, B08YYQ57DV, B01ELH6ADI, B07CRNJTB...</td>\n    </tr>\n    <tr>\n      <th>34687</th>\n      <td>IT</td>\n      <td>[B0774TPFL5, B08YYQ57DV, B01ELH6ADI, B07CRNJTB...</td>\n    </tr>\n  </tbody>\n</table>\n<p>34688 rows × 2 columns</p>\n</div>"
     },
     "execution_count": 11,
     "metadata": {},
     "output_type": "execute_result"
    }
   ],
   "source": [
    "df = pd.DataFrame(list(zip(locale, result)),\n",
    "               columns =['locale', 'next_item_prediction'])\n",
    "df"
   ],
   "metadata": {
    "collapsed": false
   }
  },
  {
   "cell_type": "code",
   "execution_count": 12,
   "outputs": [],
   "source": [
    "df.to_csv('result.csv')"
   ],
   "metadata": {
    "collapsed": false
   }
  },
  {
   "cell_type": "code",
   "execution_count": null,
   "outputs": [],
   "source": [],
   "metadata": {
    "collapsed": false
   }
  }
 ],
 "metadata": {
  "kernelspec": {
   "display_name": "Python 3",
   "language": "python",
   "name": "python3"
  },
  "language_info": {
   "codemirror_mode": {
    "name": "ipython",
    "version": 2
   },
   "file_extension": ".py",
   "mimetype": "text/x-python",
   "name": "python",
   "nbconvert_exporter": "python",
   "pygments_lexer": "ipython2",
   "version": "2.7.6"
  }
 },
 "nbformat": 4,
 "nbformat_minor": 0
}
