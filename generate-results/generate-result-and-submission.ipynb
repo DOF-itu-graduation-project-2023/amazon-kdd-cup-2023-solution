{
 "cells": [
  {
   "cell_type": "code",
   "execution_count": 1,
   "metadata": {
    "collapsed": true
   },
   "outputs": [],
   "source": [
    "import pickle\n",
    "import pandas as pd\n",
    "import numpy as np\n",
    "from functools import lru_cache"
   ]
  },
  {
   "cell_type": "code",
   "execution_count": null,
   "outputs": [],
   "source": [
    "!aicrowd login"
   ],
   "metadata": {
    "collapsed": false
   }
  },
  {
   "cell_type": "code",
   "execution_count": 2,
   "outputs": [],
   "source": [
    "task = 'task2'"
   ],
   "metadata": {
    "collapsed": false
   }
  },
  {
   "cell_type": "code",
   "execution_count": 3,
   "outputs": [],
   "source": [
    "# Cache loading of data for multiple calls\n",
    "\n",
    "@lru_cache(maxsize=1)\n",
    "def read_product_data():\n",
    "    return pd.read_csv('../data/raw-data/products_train.csv')\n",
    "\n",
    "@lru_cache(maxsize=1)\n",
    "def read_train_data():\n",
    "    return pd.read_csv('../data/raw-data/sessions_train.csv')\n",
    "\n",
    "@lru_cache(maxsize=3)\n",
    "def read_test_data(task):\n",
    "    return pd.read_csv(f'../data/raw-data/sessions_test_{task}.csv')"
   ],
   "metadata": {
    "collapsed": false
   }
  },
  {
   "cell_type": "code",
   "execution_count": 4,
   "outputs": [
    {
     "data": {
      "text/plain": "                                                prev_items   next_item locale\n3567470  ['B07F1R2JXD' 'B07F1RRQXQ' 'B07F1LKYFS' 'B07F1...  B0B12CNZ93     IT\n2373311  ['B0050O7O2S' 'B0746RGDQT' 'B06W57X25S' 'B0842...  B000ICLLPS     UK\n3008028  ['B00QH7SYSA' 'B08TPTN1B9' 'B09NMQQD57' 'B08TP...  B00QH7T20Y     UK\n2629488  ['B098JN6LJ6' 'B09D77BQVX' 'B08PF4QV45' 'B09VN...  B07LH5LZF6     UK\n2926504  ['B07JDSHD4Z' 'B07JG9QZ2B' 'B08K8YTC6B' 'B07XY...  B09V2KN837     UK",
      "text/html": "<div>\n<style scoped>\n    .dataframe tbody tr th:only-of-type {\n        vertical-align: middle;\n    }\n\n    .dataframe tbody tr th {\n        vertical-align: top;\n    }\n\n    .dataframe thead th {\n        text-align: right;\n    }\n</style>\n<table border=\"1\" class=\"dataframe\">\n  <thead>\n    <tr style=\"text-align: right;\">\n      <th></th>\n      <th>prev_items</th>\n      <th>next_item</th>\n      <th>locale</th>\n    </tr>\n  </thead>\n  <tbody>\n    <tr>\n      <th>3567470</th>\n      <td>['B07F1R2JXD' 'B07F1RRQXQ' 'B07F1LKYFS' 'B07F1...</td>\n      <td>B0B12CNZ93</td>\n      <td>IT</td>\n    </tr>\n    <tr>\n      <th>2373311</th>\n      <td>['B0050O7O2S' 'B0746RGDQT' 'B06W57X25S' 'B0842...</td>\n      <td>B000ICLLPS</td>\n      <td>UK</td>\n    </tr>\n    <tr>\n      <th>3008028</th>\n      <td>['B00QH7SYSA' 'B08TPTN1B9' 'B09NMQQD57' 'B08TP...</td>\n      <td>B00QH7T20Y</td>\n      <td>UK</td>\n    </tr>\n    <tr>\n      <th>2629488</th>\n      <td>['B098JN6LJ6' 'B09D77BQVX' 'B08PF4QV45' 'B09VN...</td>\n      <td>B07LH5LZF6</td>\n      <td>UK</td>\n    </tr>\n    <tr>\n      <th>2926504</th>\n      <td>['B07JDSHD4Z' 'B07JG9QZ2B' 'B08K8YTC6B' 'B07XY...</td>\n      <td>B09V2KN837</td>\n      <td>UK</td>\n    </tr>\n  </tbody>\n</table>\n</div>"
     },
     "execution_count": 4,
     "metadata": {},
     "output_type": "execute_result"
    }
   ],
   "source": [
    "train_sessions = read_train_data()\n",
    "train_sessions.sample(5)"
   ],
   "metadata": {
    "collapsed": false
   }
  },
  {
   "cell_type": "code",
   "execution_count": 5,
   "outputs": [
    {
     "data": {
      "text/plain": "                                              prev_items locale\n13644                        ['B08N5J3W2Y' 'B08D4MK3Z9']     FR\n22872           ['B07T93CQ51' 'B07DWRCL44' 'B07SN57178']     IT\n9666   ['B09BP6XRMC' 'B09BP6XRMC' 'B08WX2M9VR' 'B0984...     FR\n26137  ['B093BTYCRY' 'B08P95B5FR' 'B07YPZ27WT' 'B09NQ...     IT\n1505   ['B08PL893K8' 'B08PL4426W' 'B08PL6WB1V' 'B077T...     ES",
      "text/html": "<div>\n<style scoped>\n    .dataframe tbody tr th:only-of-type {\n        vertical-align: middle;\n    }\n\n    .dataframe tbody tr th {\n        vertical-align: top;\n    }\n\n    .dataframe thead th {\n        text-align: right;\n    }\n</style>\n<table border=\"1\" class=\"dataframe\">\n  <thead>\n    <tr style=\"text-align: right;\">\n      <th></th>\n      <th>prev_items</th>\n      <th>locale</th>\n    </tr>\n  </thead>\n  <tbody>\n    <tr>\n      <th>13644</th>\n      <td>['B08N5J3W2Y' 'B08D4MK3Z9']</td>\n      <td>FR</td>\n    </tr>\n    <tr>\n      <th>22872</th>\n      <td>['B07T93CQ51' 'B07DWRCL44' 'B07SN57178']</td>\n      <td>IT</td>\n    </tr>\n    <tr>\n      <th>9666</th>\n      <td>['B09BP6XRMC' 'B09BP6XRMC' 'B08WX2M9VR' 'B0984...</td>\n      <td>FR</td>\n    </tr>\n    <tr>\n      <th>26137</th>\n      <td>['B093BTYCRY' 'B08P95B5FR' 'B07YPZ27WT' 'B09NQ...</td>\n      <td>IT</td>\n    </tr>\n    <tr>\n      <th>1505</th>\n      <td>['B08PL893K8' 'B08PL4426W' 'B08PL6WB1V' 'B077T...</td>\n      <td>ES</td>\n    </tr>\n  </tbody>\n</table>\n</div>"
     },
     "execution_count": 5,
     "metadata": {},
     "output_type": "execute_result"
    }
   ],
   "source": [
    "test_sessions = read_test_data(task)\n",
    "test_sessions.sample(5)"
   ],
   "metadata": {
    "collapsed": false
   }
  },
  {
   "cell_type": "code",
   "execution_count": 7,
   "outputs": [],
   "source": [
    "locale = []\n",
    "result = []"
   ],
   "metadata": {
    "collapsed": false
   }
  },
  {
   "cell_type": "code",
   "execution_count": 10,
   "outputs": [],
   "source": [
    "LOCALE = \"IT\" #change locale name in order for another locale recommendations\n",
    "with open(f\"../SR-GNN/test-result/{LOCALE}-recs.pkl\", \"rb\") as f:\n",
    "    recs = pickle.load(f)\n",
    "\n",
    "for l in recs:\n",
    "    result.append(l)\n",
    "\n",
    "for i in range(len(recs)):\n",
    "    locale.append(LOCALE)"
   ],
   "metadata": {
    "collapsed": false
   }
  },
  {
   "cell_type": "code",
   "execution_count": 11,
   "outputs": [
    {
     "data": {
      "text/plain": "      locale                               next_item_prediction\n0         ES  [B08CB4Q2YT, B09NQGVSPD, B01LQQQWG2, B07SP4WQV...\n1         ES  [B08CB4Q2YT, B09NQGVSPD, B01LQQQWG2, B085VKKV7...\n2         ES  [B08CB4Q2YT, B09NQGVSPD, B01LQQQWG2, B07SP4WQV...\n3         ES  [B08CB4Q2YT, B09NQGVSPD, B01LQQQWG2, B07SP4WQV...\n4         ES  [B08CB4Q2YT, B09NQGVSPD, B01LQQQWG2, B00CBE2LY...\n...      ...                                                ...\n13987     FR  [B0774TPFL5, B08YYQ57DV, B01ELH6ADI, B07CRNJTB...\n13988     FR  [B0774TPFL5, B08YYQ57DV, B01ELH6ADI, B07CRNJTB...\n13989     FR  [B0774TPFL5, B08YYQ57DV, B01ELH6ADI, B07CRNJTB...\n13990     FR  [B0774TPFL5, B08YYQ57DV, B01ELH6ADI, B07CRNJTB...\n13991     FR  [B0774TPFL5, B08YYQ57DV, B01ELH6ADI, B07CRNJTB...\n\n[13992 rows x 2 columns]",
      "text/html": "<div>\n<style scoped>\n    .dataframe tbody tr th:only-of-type {\n        vertical-align: middle;\n    }\n\n    .dataframe tbody tr th {\n        vertical-align: top;\n    }\n\n    .dataframe thead th {\n        text-align: right;\n    }\n</style>\n<table border=\"1\" class=\"dataframe\">\n  <thead>\n    <tr style=\"text-align: right;\">\n      <th></th>\n      <th>locale</th>\n      <th>next_item_prediction</th>\n    </tr>\n  </thead>\n  <tbody>\n    <tr>\n      <th>0</th>\n      <td>ES</td>\n      <td>[B08CB4Q2YT, B09NQGVSPD, B01LQQQWG2, B07SP4WQV...</td>\n    </tr>\n    <tr>\n      <th>1</th>\n      <td>ES</td>\n      <td>[B08CB4Q2YT, B09NQGVSPD, B01LQQQWG2, B085VKKV7...</td>\n    </tr>\n    <tr>\n      <th>2</th>\n      <td>ES</td>\n      <td>[B08CB4Q2YT, B09NQGVSPD, B01LQQQWG2, B07SP4WQV...</td>\n    </tr>\n    <tr>\n      <th>3</th>\n      <td>ES</td>\n      <td>[B08CB4Q2YT, B09NQGVSPD, B01LQQQWG2, B07SP4WQV...</td>\n    </tr>\n    <tr>\n      <th>4</th>\n      <td>ES</td>\n      <td>[B08CB4Q2YT, B09NQGVSPD, B01LQQQWG2, B00CBE2LY...</td>\n    </tr>\n    <tr>\n      <th>...</th>\n      <td>...</td>\n      <td>...</td>\n    </tr>\n    <tr>\n      <th>13987</th>\n      <td>FR</td>\n      <td>[B0774TPFL5, B08YYQ57DV, B01ELH6ADI, B07CRNJTB...</td>\n    </tr>\n    <tr>\n      <th>13988</th>\n      <td>FR</td>\n      <td>[B0774TPFL5, B08YYQ57DV, B01ELH6ADI, B07CRNJTB...</td>\n    </tr>\n    <tr>\n      <th>13989</th>\n      <td>FR</td>\n      <td>[B0774TPFL5, B08YYQ57DV, B01ELH6ADI, B07CRNJTB...</td>\n    </tr>\n    <tr>\n      <th>13990</th>\n      <td>FR</td>\n      <td>[B0774TPFL5, B08YYQ57DV, B01ELH6ADI, B07CRNJTB...</td>\n    </tr>\n    <tr>\n      <th>13991</th>\n      <td>FR</td>\n      <td>[B0774TPFL5, B08YYQ57DV, B01ELH6ADI, B07CRNJTB...</td>\n    </tr>\n  </tbody>\n</table>\n<p>13992 rows × 2 columns</p>\n</div>"
     },
     "execution_count": 11,
     "metadata": {},
     "output_type": "execute_result"
    }
   ],
   "source": [
    "predictions = pd.DataFrame(list(zip(locale, result)),\n",
    "               columns =['locale', 'next_item_prediction'])\n",
    "predictions"
   ],
   "metadata": {
    "collapsed": false
   }
  },
  {
   "cell_type": "code",
   "execution_count": 12,
   "outputs": [],
   "source": [
    "def check_predictions(predictions, check_products=False):\n",
    "    \"\"\"\n",
    "    These tests need to pass as they will also be applied on the evaluator\n",
    "    \"\"\"\n",
    "    test_locale_names = test_sessions['locale'].unique()\n",
    "    for locale in test_locale_names:\n",
    "        sess_test = test_sessions.query(f'locale == \"{locale}\"')\n",
    "        preds_locale =  predictions[predictions['locale'] == sess_test['locale'].iloc[0]]\n",
    "        assert sorted(preds_locale.index.values) == sorted(sess_test.index.values), f\"Session ids of {locale} doesn't match\"\n",
    "\n",
    "        if check_products:\n",
    "            # This check is not done on the evaluator\n",
    "            # but you can run it to verify there is no mixing of products between locales\n",
    "            # Since the ground truth next item will always belong to the same locale\n",
    "            # Warning - This can be slow to run\n",
    "            products = read_product_data().query(f'locale == \"{locale}\"')\n",
    "            predicted_products = np.unique( np.array(list(preds_locale[\"next_item_prediction\"].values)) )\n",
    "            assert np.all( np.isin(predicted_products, products['id']) ), f\"Invalid products in {locale} predictions\""
   ],
   "metadata": {
    "collapsed": false
   }
  },
  {
   "cell_type": "code",
   "execution_count": 13,
   "outputs": [
    {
     "ename": "AssertionError",
     "evalue": "Invalid products in ES predictions",
     "output_type": "error",
     "traceback": [
      "\u001B[1;31m---------------------------------------------------------------------------\u001B[0m",
      "\u001B[1;31mAssertionError\u001B[0m                            Traceback (most recent call last)",
      "\u001B[1;32m~\\AppData\\Local\\Temp/ipykernel_2708/2664044786.py\u001B[0m in \u001B[0;36m<module>\u001B[1;34m\u001B[0m\n\u001B[1;32m----> 1\u001B[1;33m \u001B[0mcheck_predictions\u001B[0m\u001B[1;33m(\u001B[0m\u001B[0mpredictions\u001B[0m\u001B[1;33m,\u001B[0m \u001B[1;32mTrue\u001B[0m\u001B[1;33m)\u001B[0m\u001B[1;33m\u001B[0m\u001B[1;33m\u001B[0m\u001B[0m\n\u001B[0m",
      "\u001B[1;32m~\\AppData\\Local\\Temp/ipykernel_2708/375541286.py\u001B[0m in \u001B[0;36mcheck_predictions\u001B[1;34m(predictions, check_products)\u001B[0m\n\u001B[0;32m     16\u001B[0m             \u001B[0mproducts\u001B[0m \u001B[1;33m=\u001B[0m \u001B[0mread_product_data\u001B[0m\u001B[1;33m(\u001B[0m\u001B[1;33m)\u001B[0m\u001B[1;33m.\u001B[0m\u001B[0mquery\u001B[0m\u001B[1;33m(\u001B[0m\u001B[1;34mf'locale == \"{locale}\"'\u001B[0m\u001B[1;33m)\u001B[0m\u001B[1;33m\u001B[0m\u001B[1;33m\u001B[0m\u001B[0m\n\u001B[0;32m     17\u001B[0m             \u001B[0mpredicted_products\u001B[0m \u001B[1;33m=\u001B[0m \u001B[0mnp\u001B[0m\u001B[1;33m.\u001B[0m\u001B[0munique\u001B[0m\u001B[1;33m(\u001B[0m \u001B[0mnp\u001B[0m\u001B[1;33m.\u001B[0m\u001B[0marray\u001B[0m\u001B[1;33m(\u001B[0m\u001B[0mlist\u001B[0m\u001B[1;33m(\u001B[0m\u001B[0mpreds_locale\u001B[0m\u001B[1;33m[\u001B[0m\u001B[1;34m\"next_item_prediction\"\u001B[0m\u001B[1;33m]\u001B[0m\u001B[1;33m.\u001B[0m\u001B[0mvalues\u001B[0m\u001B[1;33m)\u001B[0m\u001B[1;33m)\u001B[0m \u001B[1;33m)\u001B[0m\u001B[1;33m\u001B[0m\u001B[1;33m\u001B[0m\u001B[0m\n\u001B[1;32m---> 18\u001B[1;33m             \u001B[1;32massert\u001B[0m \u001B[0mnp\u001B[0m\u001B[1;33m.\u001B[0m\u001B[0mall\u001B[0m\u001B[1;33m(\u001B[0m \u001B[0mnp\u001B[0m\u001B[1;33m.\u001B[0m\u001B[0misin\u001B[0m\u001B[1;33m(\u001B[0m\u001B[0mpredicted_products\u001B[0m\u001B[1;33m,\u001B[0m \u001B[0mproducts\u001B[0m\u001B[1;33m[\u001B[0m\u001B[1;34m'id'\u001B[0m\u001B[1;33m]\u001B[0m\u001B[1;33m)\u001B[0m \u001B[1;33m)\u001B[0m\u001B[1;33m,\u001B[0m \u001B[1;34mf\"Invalid products in {locale} predictions\"\u001B[0m\u001B[1;33m\u001B[0m\u001B[1;33m\u001B[0m\u001B[0m\n\u001B[0m",
      "\u001B[1;31mAssertionError\u001B[0m: Invalid products in ES predictions"
     ]
    }
   ],
   "source": [
    "check_predictions(predictions, True)"
   ],
   "metadata": {
    "collapsed": false
   }
  },
  {
   "cell_type": "code",
   "execution_count": null,
   "outputs": [],
   "source": [
    "# Its important that the parquet file you submit is saved with pyarrow backend\n",
    "predictions.to_parquet(f'submission_{task}.parquet', engine='pyarrow')"
   ],
   "metadata": {
    "collapsed": false
   }
  },
  {
   "cell_type": "markdown",
   "source": [
    "## Submit to AIcrowd 🚀"
   ],
   "metadata": {
    "collapsed": false
   }
  },
  {
   "cell_type": "code",
   "execution_count": null,
   "outputs": [],
   "source": [
    "# You can submit with aicrowd-cli, or upload manually on the challenge page.\n",
    "!aicrowd submission create -c task-2-next-product-recommendation-for-underrepresented-languages -f \"submission_task2.parquet\""
   ],
   "metadata": {
    "collapsed": false
   }
  }
 ],
 "metadata": {
  "kernelspec": {
   "display_name": "Python 3",
   "language": "python",
   "name": "python3"
  },
  "language_info": {
   "codemirror_mode": {
    "name": "ipython",
    "version": 2
   },
   "file_extension": ".py",
   "mimetype": "text/x-python",
   "name": "python",
   "nbconvert_exporter": "python",
   "pygments_lexer": "ipython2",
   "version": "2.7.6"
  }
 },
 "nbformat": 4,
 "nbformat_minor": 0
}
