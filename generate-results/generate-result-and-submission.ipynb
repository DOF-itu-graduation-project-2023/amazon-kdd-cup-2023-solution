{
 "cells": [
  {
   "cell_type": "code",
   "execution_count": 1,
   "metadata": {
    "collapsed": true,
    "ExecuteTime": {
     "start_time": "2023-05-23T03:19:33.561523Z",
     "end_time": "2023-05-23T03:19:34.994523Z"
    }
   },
   "outputs": [],
   "source": [
    "import pickle\n",
    "import pandas as pd\n",
    "import numpy as np\n",
    "from functools import lru_cache"
   ]
  },
  {
   "cell_type": "code",
   "execution_count": 2,
   "outputs": [
    {
     "name": "stderr",
     "output_type": "stream",
     "text": [
      "'aicrowd' is not recognized as an internal or external command,\n",
      "operable program or batch file.\n"
     ]
    }
   ],
   "source": [
    "!aicrowd login"
   ],
   "metadata": {
    "collapsed": false,
    "ExecuteTime": {
     "start_time": "2023-05-23T03:19:34.997523Z",
     "end_time": "2023-05-23T03:19:35.073523Z"
    }
   }
  },
  {
   "cell_type": "code",
   "execution_count": 3,
   "outputs": [],
   "source": [
    "task = 'task2'"
   ],
   "metadata": {
    "collapsed": false,
    "ExecuteTime": {
     "start_time": "2023-05-23T03:19:35.076522Z",
     "end_time": "2023-05-23T03:19:35.087523Z"
    }
   }
  },
  {
   "cell_type": "code",
   "execution_count": 4,
   "outputs": [],
   "source": [
    "# Cache loading of data for multiple calls\n",
    "\n",
    "@lru_cache(maxsize=1)\n",
    "def read_product_data():\n",
    "    return pd.read_csv('../data/raw-data/products_train.csv')\n",
    "\n",
    "@lru_cache(maxsize=1)\n",
    "def read_train_data():\n",
    "    return pd.read_csv('../data/raw-data/sessions_train.csv')\n",
    "\n",
    "@lru_cache(maxsize=3)\n",
    "def read_test_data(task):\n",
    "    return pd.read_csv(f'../data/raw-data/sessions_test_{task}.csv')"
   ],
   "metadata": {
    "collapsed": false,
    "ExecuteTime": {
     "start_time": "2023-05-23T03:19:35.090525Z",
     "end_time": "2023-05-23T03:19:35.147525Z"
    }
   }
  },
  {
   "cell_type": "code",
   "execution_count": 5,
   "outputs": [
    {
     "data": {
      "text/plain": "                                                prev_items   next_item locale\n2587339                        ['B07WJHY2R7' 'B01N903LMM']  B072WGPK53     UK\n2956781           ['B09QLFV81Y' 'B08L5DX25C' 'B082WDM878']  B08X1T3W89     UK\n159736   ['B01FDHKJ96' 'B01FDHKJ96' 'B00AQJ6V4O' 'B07D9...  B07D9C8NP2     DE\n1774349  ['B00267T6L4' 'B00267T6LE' 'B00267T6LO' 'B00SU...  B07XV9CGJC     JP\n2358753  ['B0BJQ91MQF' 'B0BJ93KSC8' 'B07S5B9DVH' 'B0BJQ...  B08B1D8Z7Q     UK",
      "text/html": "<div>\n<style scoped>\n    .dataframe tbody tr th:only-of-type {\n        vertical-align: middle;\n    }\n\n    .dataframe tbody tr th {\n        vertical-align: top;\n    }\n\n    .dataframe thead th {\n        text-align: right;\n    }\n</style>\n<table border=\"1\" class=\"dataframe\">\n  <thead>\n    <tr style=\"text-align: right;\">\n      <th></th>\n      <th>prev_items</th>\n      <th>next_item</th>\n      <th>locale</th>\n    </tr>\n  </thead>\n  <tbody>\n    <tr>\n      <th>2587339</th>\n      <td>['B07WJHY2R7' 'B01N903LMM']</td>\n      <td>B072WGPK53</td>\n      <td>UK</td>\n    </tr>\n    <tr>\n      <th>2956781</th>\n      <td>['B09QLFV81Y' 'B08L5DX25C' 'B082WDM878']</td>\n      <td>B08X1T3W89</td>\n      <td>UK</td>\n    </tr>\n    <tr>\n      <th>159736</th>\n      <td>['B01FDHKJ96' 'B01FDHKJ96' 'B00AQJ6V4O' 'B07D9...</td>\n      <td>B07D9C8NP2</td>\n      <td>DE</td>\n    </tr>\n    <tr>\n      <th>1774349</th>\n      <td>['B00267T6L4' 'B00267T6LE' 'B00267T6LO' 'B00SU...</td>\n      <td>B07XV9CGJC</td>\n      <td>JP</td>\n    </tr>\n    <tr>\n      <th>2358753</th>\n      <td>['B0BJQ91MQF' 'B0BJ93KSC8' 'B07S5B9DVH' 'B0BJQ...</td>\n      <td>B08B1D8Z7Q</td>\n      <td>UK</td>\n    </tr>\n  </tbody>\n</table>\n</div>"
     },
     "execution_count": 5,
     "metadata": {},
     "output_type": "execute_result"
    }
   ],
   "source": [
    "train_sessions = read_train_data()\n",
    "train_sessions.sample(5)"
   ],
   "metadata": {
    "collapsed": false,
    "ExecuteTime": {
     "start_time": "2023-05-23T03:19:35.108523Z",
     "end_time": "2023-05-23T03:19:40.379522Z"
    }
   }
  },
  {
   "cell_type": "code",
   "execution_count": 6,
   "outputs": [
    {
     "data": {
      "text/plain": "                        prev_items locale\n20915  ['B00NOP8NUW' 'B07549RGZH']     IT\n26621  ['B098TVZ6TS' 'B095Y1JNHG']     IT\n26858  ['B00RTCUIX6' 'B00D3HXQ6C']     IT\n2083   ['B07MBTDL1H' 'B07KF9TC3J']     ES\n17882  ['B0868F8JTM' 'B09MTKBB6B']     FR",
      "text/html": "<div>\n<style scoped>\n    .dataframe tbody tr th:only-of-type {\n        vertical-align: middle;\n    }\n\n    .dataframe tbody tr th {\n        vertical-align: top;\n    }\n\n    .dataframe thead th {\n        text-align: right;\n    }\n</style>\n<table border=\"1\" class=\"dataframe\">\n  <thead>\n    <tr style=\"text-align: right;\">\n      <th></th>\n      <th>prev_items</th>\n      <th>locale</th>\n    </tr>\n  </thead>\n  <tbody>\n    <tr>\n      <th>20915</th>\n      <td>['B00NOP8NUW' 'B07549RGZH']</td>\n      <td>IT</td>\n    </tr>\n    <tr>\n      <th>26621</th>\n      <td>['B098TVZ6TS' 'B095Y1JNHG']</td>\n      <td>IT</td>\n    </tr>\n    <tr>\n      <th>26858</th>\n      <td>['B00RTCUIX6' 'B00D3HXQ6C']</td>\n      <td>IT</td>\n    </tr>\n    <tr>\n      <th>2083</th>\n      <td>['B07MBTDL1H' 'B07KF9TC3J']</td>\n      <td>ES</td>\n    </tr>\n    <tr>\n      <th>17882</th>\n      <td>['B0868F8JTM' 'B09MTKBB6B']</td>\n      <td>FR</td>\n    </tr>\n  </tbody>\n</table>\n</div>"
     },
     "execution_count": 6,
     "metadata": {},
     "output_type": "execute_result"
    }
   ],
   "source": [
    "test_sessions = read_test_data(task)\n",
    "test_sessions.sample(5)"
   ],
   "metadata": {
    "collapsed": false,
    "ExecuteTime": {
     "start_time": "2023-05-23T03:19:40.381522Z",
     "end_time": "2023-05-23T03:19:40.550522Z"
    }
   }
  },
  {
   "cell_type": "code",
   "execution_count": 7,
   "outputs": [],
   "source": [
    "locale = []\n",
    "result = []"
   ],
   "metadata": {
    "collapsed": false,
    "ExecuteTime": {
     "start_time": "2023-05-23T03:19:40.521525Z",
     "end_time": "2023-05-23T03:19:40.550522Z"
    }
   }
  },
  {
   "cell_type": "code",
   "execution_count": 8,
   "outputs": [],
   "source": [
    "LOCALES = [\"ES\", \"FR\", \"IT\"] #change locale name in order for another locale recommendations\n",
    "\n",
    "for LOCALE in LOCALES:\n",
    "    with open(f\"../SR-GNN/test-result/{LOCALE}-recs.pkl\", \"rb\") as f:\n",
    "        recs = pickle.load(f)\n",
    "\n",
    "    for l in recs:\n",
    "        result.append(l)\n",
    "\n",
    "\n",
    "    for i in range(len(recs)):\n",
    "        locale.append(LOCALE)"
   ],
   "metadata": {
    "collapsed": false,
    "ExecuteTime": {
     "start_time": "2023-05-23T03:19:40.537523Z",
     "end_time": "2023-05-23T03:19:40.751522Z"
    }
   }
  },
  {
   "cell_type": "code",
   "execution_count": 9,
   "outputs": [
    {
     "data": {
      "text/plain": "      locale                               next_item_prediction\n0         ES  [B08GY8NHF2, B073JYVKNX, B08GYBBBBH, B074RNRM2...\n1         ES  [B085NGXGWM, B06XGHV89F, B08NYF9MBQ, B01M3RT7M...\n2         ES  [B0B1DG29F4, B091FL1QFK, B09BD6SY6B, B01CQOIL3...\n3         ES  [B07JCNMR9S, B07SPSZCF2, B07F38XNL3, B0859T1YC...\n4         ES  [B099WT8P4D, B09V1NBZ47, B09V1LJLGH, B00Y4SN79...\n...      ...                                                ...\n34683     IT  [8894957314, B07WKNQ8JT, B09JQ5B3S5, B09JSZ2DH...\n34684     IT  [8894957314, B07WKNQ8JT, B09JQ5B3S5, B09JSZ2DH...\n34685     IT  [8894957314, B07WKNQ8JT, B09JQ5B3S5, B09JSZ2DH...\n34686     IT  [8894957314, B07WKNQ8JT, B09JQ5B3S5, B09JSZ2DH...\n34687     IT  [8894957314, B07WKNQ8JT, B09JQ5B3S5, B09JSZ2DH...\n\n[34688 rows x 2 columns]",
      "text/html": "<div>\n<style scoped>\n    .dataframe tbody tr th:only-of-type {\n        vertical-align: middle;\n    }\n\n    .dataframe tbody tr th {\n        vertical-align: top;\n    }\n\n    .dataframe thead th {\n        text-align: right;\n    }\n</style>\n<table border=\"1\" class=\"dataframe\">\n  <thead>\n    <tr style=\"text-align: right;\">\n      <th></th>\n      <th>locale</th>\n      <th>next_item_prediction</th>\n    </tr>\n  </thead>\n  <tbody>\n    <tr>\n      <th>0</th>\n      <td>ES</td>\n      <td>[B08GY8NHF2, B073JYVKNX, B08GYBBBBH, B074RNRM2...</td>\n    </tr>\n    <tr>\n      <th>1</th>\n      <td>ES</td>\n      <td>[B085NGXGWM, B06XGHV89F, B08NYF9MBQ, B01M3RT7M...</td>\n    </tr>\n    <tr>\n      <th>2</th>\n      <td>ES</td>\n      <td>[B0B1DG29F4, B091FL1QFK, B09BD6SY6B, B01CQOIL3...</td>\n    </tr>\n    <tr>\n      <th>3</th>\n      <td>ES</td>\n      <td>[B07JCNMR9S, B07SPSZCF2, B07F38XNL3, B0859T1YC...</td>\n    </tr>\n    <tr>\n      <th>4</th>\n      <td>ES</td>\n      <td>[B099WT8P4D, B09V1NBZ47, B09V1LJLGH, B00Y4SN79...</td>\n    </tr>\n    <tr>\n      <th>...</th>\n      <td>...</td>\n      <td>...</td>\n    </tr>\n    <tr>\n      <th>34683</th>\n      <td>IT</td>\n      <td>[8894957314, B07WKNQ8JT, B09JQ5B3S5, B09JSZ2DH...</td>\n    </tr>\n    <tr>\n      <th>34684</th>\n      <td>IT</td>\n      <td>[8894957314, B07WKNQ8JT, B09JQ5B3S5, B09JSZ2DH...</td>\n    </tr>\n    <tr>\n      <th>34685</th>\n      <td>IT</td>\n      <td>[8894957314, B07WKNQ8JT, B09JQ5B3S5, B09JSZ2DH...</td>\n    </tr>\n    <tr>\n      <th>34686</th>\n      <td>IT</td>\n      <td>[8894957314, B07WKNQ8JT, B09JQ5B3S5, B09JSZ2DH...</td>\n    </tr>\n    <tr>\n      <th>34687</th>\n      <td>IT</td>\n      <td>[8894957314, B07WKNQ8JT, B09JQ5B3S5, B09JSZ2DH...</td>\n    </tr>\n  </tbody>\n</table>\n<p>34688 rows × 2 columns</p>\n</div>"
     },
     "execution_count": 9,
     "metadata": {},
     "output_type": "execute_result"
    }
   ],
   "source": [
    "predictions = pd.DataFrame(list(zip(locale, result)),\n",
    "               columns =['locale', 'next_item_prediction'])\n",
    "predictions"
   ],
   "metadata": {
    "collapsed": false,
    "ExecuteTime": {
     "start_time": "2023-05-23T03:19:40.751522Z",
     "end_time": "2023-05-23T03:19:40.874524Z"
    }
   }
  },
  {
   "cell_type": "code",
   "execution_count": 10,
   "outputs": [],
   "source": [
    "def check_predictions(predictions, check_products=False):\n",
    "    \"\"\"\n",
    "    These tests need to pass as they will also be applied on the evaluator\n",
    "    \"\"\"\n",
    "    test_locale_names = test_sessions['locale'].unique()\n",
    "    for locale in test_locale_names:\n",
    "        sess_test = test_sessions.query(f'locale == \"{locale}\"')\n",
    "        preds_locale =  predictions[predictions['locale'] == sess_test['locale'].iloc[0]]\n",
    "        assert sorted(preds_locale.index.values) == sorted(sess_test.index.values), f\"Session ids of {locale} doesn't match\"\n",
    "\n",
    "        if check_products:\n",
    "            # This check is not done on the evaluator\n",
    "            # but you can run it to verify there is no mixing of products between locales\n",
    "            # Since the ground truth next item will always belong to the same locale\n",
    "            # Warning - This can be slow to run\n",
    "            products = read_product_data().query(f'locale == \"{locale}\"')\n",
    "            predicted_products = np.unique( np.array(list(preds_locale[\"next_item_prediction\"].values)) )\n",
    "            assert np.all( np.isin(predicted_products, products['id']) ), f\"Invalid products in {locale} predictions\""
   ],
   "metadata": {
    "collapsed": false,
    "ExecuteTime": {
     "start_time": "2023-05-23T03:19:40.880522Z",
     "end_time": "2023-05-23T03:19:40.890523Z"
    }
   }
  },
  {
   "cell_type": "code",
   "execution_count": 11,
   "outputs": [],
   "source": [
    "#check_predictions(predictions, True)"
   ],
   "metadata": {
    "collapsed": false,
    "ExecuteTime": {
     "start_time": "2023-05-23T03:19:40.893523Z",
     "end_time": "2023-05-23T03:19:40.919522Z"
    }
   }
  },
  {
   "cell_type": "code",
   "execution_count": 12,
   "outputs": [],
   "source": [
    "# Its important that the parquet file you submit is saved with pyarrow backend\n",
    "predictions.to_parquet(f'submission_{task}.parquet', engine='pyarrow')"
   ],
   "metadata": {
    "collapsed": false,
    "ExecuteTime": {
     "start_time": "2023-05-23T03:19:40.911524Z",
     "end_time": "2023-05-23T03:19:41.959523Z"
    }
   }
  },
  {
   "cell_type": "markdown",
   "source": [
    "## Submit to AIcrowd 🚀"
   ],
   "metadata": {
    "collapsed": false
   }
  },
  {
   "cell_type": "code",
   "execution_count": 13,
   "outputs": [
    {
     "name": "stderr",
     "output_type": "stream",
     "text": [
      "'aicrowd' is not recognized as an internal or external command,\n",
      "operable program or batch file.\n"
     ]
    }
   ],
   "source": [
    "# You can submit with aicrowd-cli, or upload manually on the challenge page.\n",
    "!aicrowd submission create -c task-2-next-product-recommendation-for-underrepresented-languages -f \"submission_task2.parquet\""
   ],
   "metadata": {
    "collapsed": false,
    "ExecuteTime": {
     "start_time": "2023-05-23T03:19:41.952525Z",
     "end_time": "2023-05-23T03:19:42.036520Z"
    }
   }
  }
 ],
 "metadata": {
  "kernelspec": {
   "display_name": "Python 3",
   "language": "python",
   "name": "python3"
  },
  "language_info": {
   "codemirror_mode": {
    "name": "ipython",
    "version": 2
   },
   "file_extension": ".py",
   "mimetype": "text/x-python",
   "name": "python",
   "nbconvert_exporter": "python",
   "pygments_lexer": "ipython2",
   "version": "2.7.6"
  }
 },
 "nbformat": 4,
 "nbformat_minor": 0
}
