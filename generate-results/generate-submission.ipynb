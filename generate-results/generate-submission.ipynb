{
 "cells": [
  {
   "cell_type": "code",
   "execution_count": 1,
   "metadata": {
    "collapsed": true
   },
   "outputs": [],
   "source": [
    "import numpy as np\n",
    "import pandas as pd\n",
    "from functools import lru_cache"
   ]
  },
  {
   "cell_type": "code",
   "execution_count": 4,
   "outputs": [],
   "source": [
    "task = 'task2'"
   ],
   "metadata": {
    "collapsed": false
   }
  },
  {
   "cell_type": "code",
   "execution_count": 5,
   "outputs": [],
   "source": [
    "# Cache loading of data for multiple calls\n",
    "\n",
    "@lru_cache(maxsize=1)\n",
    "def read_product_data():\n",
    "    return pd.read_csv('../data/raw-data/products_train.csv')\n",
    "\n",
    "@lru_cache(maxsize=1)\n",
    "def read_train_data():\n",
    "    return pd.read_csv('../data/raw-data/sessions_train.csv')\n",
    "\n",
    "@lru_cache(maxsize=3)\n",
    "def read_test_data(task):\n",
    "    return pd.read_csv(f'../data/raw-data/sessions_test_{task}.csv')"
   ],
   "metadata": {
    "collapsed": false
   }
  },
  {
   "cell_type": "code",
   "execution_count": 6,
   "outputs": [
    {
     "data": {
      "text/plain": "                                                prev_items   next_item locale\n1628637           ['B09T3VFBHG' 'B09T3TQ6G2' 'B09K7PLYVQ']  B0991KLH15     JP\n1155112  ['4800562112' '4800562082' '4800562104' 'B0B4D...  4800562767     JP\n2619786  ['B093P2S78K' 'B093P2S78K' 'B086WLRYCZ' 'B086W...  B085W84NHT     UK\n2483712                        ['1408363968' '1408363968']  1408357488     UK\n1150745           ['B00CP1L14G' 'B08SR95LZX' 'B0B87M86GQ']  B09VT29L69     JP",
      "text/html": "<div>\n<style scoped>\n    .dataframe tbody tr th:only-of-type {\n        vertical-align: middle;\n    }\n\n    .dataframe tbody tr th {\n        vertical-align: top;\n    }\n\n    .dataframe thead th {\n        text-align: right;\n    }\n</style>\n<table border=\"1\" class=\"dataframe\">\n  <thead>\n    <tr style=\"text-align: right;\">\n      <th></th>\n      <th>prev_items</th>\n      <th>next_item</th>\n      <th>locale</th>\n    </tr>\n  </thead>\n  <tbody>\n    <tr>\n      <th>1628637</th>\n      <td>['B09T3VFBHG' 'B09T3TQ6G2' 'B09K7PLYVQ']</td>\n      <td>B0991KLH15</td>\n      <td>JP</td>\n    </tr>\n    <tr>\n      <th>1155112</th>\n      <td>['4800562112' '4800562082' '4800562104' 'B0B4D...</td>\n      <td>4800562767</td>\n      <td>JP</td>\n    </tr>\n    <tr>\n      <th>2619786</th>\n      <td>['B093P2S78K' 'B093P2S78K' 'B086WLRYCZ' 'B086W...</td>\n      <td>B085W84NHT</td>\n      <td>UK</td>\n    </tr>\n    <tr>\n      <th>2483712</th>\n      <td>['1408363968' '1408363968']</td>\n      <td>1408357488</td>\n      <td>UK</td>\n    </tr>\n    <tr>\n      <th>1150745</th>\n      <td>['B00CP1L14G' 'B08SR95LZX' 'B0B87M86GQ']</td>\n      <td>B09VT29L69</td>\n      <td>JP</td>\n    </tr>\n  </tbody>\n</table>\n</div>"
     },
     "execution_count": 6,
     "metadata": {},
     "output_type": "execute_result"
    }
   ],
   "source": [
    "train_sessions = read_train_data()\n",
    "train_sessions.sample(5)"
   ],
   "metadata": {
    "collapsed": false
   }
  },
  {
   "cell_type": "code",
   "execution_count": 7,
   "outputs": [
    {
     "data": {
      "text/plain": "                                              prev_items locale\n30896                        ['B094R3R9XH' 'B07TV364MZ']     IT\n6666            ['B09K3ZSTY8' 'B0BF5BGL7Q' 'B00HCYTIYG']     ES\n10791  ['B08XXZJG53' 'B09LTXK21P' 'B08XXZJG53' 'B08TJ...     FR\n10701                        ['B002TMCCA8' 'B002TGVA70']     FR\n33271           ['8858038630' 'B09JPDLS27' '8858043022']     IT",
      "text/html": "<div>\n<style scoped>\n    .dataframe tbody tr th:only-of-type {\n        vertical-align: middle;\n    }\n\n    .dataframe tbody tr th {\n        vertical-align: top;\n    }\n\n    .dataframe thead th {\n        text-align: right;\n    }\n</style>\n<table border=\"1\" class=\"dataframe\">\n  <thead>\n    <tr style=\"text-align: right;\">\n      <th></th>\n      <th>prev_items</th>\n      <th>locale</th>\n    </tr>\n  </thead>\n  <tbody>\n    <tr>\n      <th>30896</th>\n      <td>['B094R3R9XH' 'B07TV364MZ']</td>\n      <td>IT</td>\n    </tr>\n    <tr>\n      <th>6666</th>\n      <td>['B09K3ZSTY8' 'B0BF5BGL7Q' 'B00HCYTIYG']</td>\n      <td>ES</td>\n    </tr>\n    <tr>\n      <th>10791</th>\n      <td>['B08XXZJG53' 'B09LTXK21P' 'B08XXZJG53' 'B08TJ...</td>\n      <td>FR</td>\n    </tr>\n    <tr>\n      <th>10701</th>\n      <td>['B002TMCCA8' 'B002TGVA70']</td>\n      <td>FR</td>\n    </tr>\n    <tr>\n      <th>33271</th>\n      <td>['8858038630' 'B09JPDLS27' '8858043022']</td>\n      <td>IT</td>\n    </tr>\n  </tbody>\n</table>\n</div>"
     },
     "execution_count": 7,
     "metadata": {},
     "output_type": "execute_result"
    }
   ],
   "source": [
    "test_sessions = read_test_data(task)\n",
    "test_sessions.sample(5)"
   ],
   "metadata": {
    "collapsed": false
   }
  },
  {
   "cell_type": "code",
   "execution_count": 11,
   "outputs": [],
   "source": [
    "predictions = pd.read_csv('result.csv')"
   ],
   "metadata": {
    "collapsed": false
   }
  },
  {
   "cell_type": "code",
   "execution_count": 12,
   "outputs": [],
   "source": [
    "def check_predictions(predictions, check_products=False):\n",
    "    \"\"\"\n",
    "    These tests need to pass as they will also be applied on the evaluator\n",
    "    \"\"\"\n",
    "    test_locale_names = test_sessions['locale'].unique()\n",
    "    for locale in test_locale_names:\n",
    "        sess_test = test_sessions.query(f'locale == \"{locale}\"')\n",
    "        preds_locale =  predictions[predictions['locale'] == sess_test['locale'].iloc[0]]\n",
    "        assert sorted(preds_locale.index.values) == sorted(sess_test.index.values), f\"Session ids of {locale} doesn't match\"\n",
    "\n",
    "        if check_products:\n",
    "            # This check is not done on the evaluator\n",
    "            # but you can run it to verify there is no mixing of products between locales\n",
    "            # Since the ground truth next item will always belong to the same locale\n",
    "            # Warning - This can be slow to run\n",
    "            products = read_product_data().query(f'locale == \"{locale}\"')\n",
    "            predicted_products = np.unique( np.array(list(preds_locale[\"next_item_prediction\"].values)) )\n",
    "            assert np.all( np.isin(predicted_products, products['id']) ), f\"Invalid products in {locale} predictions\""
   ],
   "metadata": {
    "collapsed": false
   }
  },
  {
   "cell_type": "code",
   "execution_count": 13,
   "outputs": [],
   "source": [
    "check_predictions(predictions)"
   ],
   "metadata": {
    "collapsed": false
   }
  },
  {
   "cell_type": "code",
   "execution_count": 14,
   "outputs": [],
   "source": [
    "# Its important that the parquet file you submit is saved with pyarrow backend\n",
    "predictions.to_parquet(f'submission_{task}.parquet', engine='pyarrow')"
   ],
   "metadata": {
    "collapsed": false
   }
  },
  {
   "cell_type": "code",
   "execution_count": null,
   "outputs": [],
   "source": [],
   "metadata": {
    "collapsed": false
   }
  }
 ],
 "metadata": {
  "kernelspec": {
   "display_name": "Python 3",
   "language": "python",
   "name": "python3"
  },
  "language_info": {
   "codemirror_mode": {
    "name": "ipython",
    "version": 2
   },
   "file_extension": ".py",
   "mimetype": "text/x-python",
   "name": "python",
   "nbconvert_exporter": "python",
   "pygments_lexer": "ipython2",
   "version": "2.7.6"
  }
 },
 "nbformat": 4,
 "nbformat_minor": 0
}
