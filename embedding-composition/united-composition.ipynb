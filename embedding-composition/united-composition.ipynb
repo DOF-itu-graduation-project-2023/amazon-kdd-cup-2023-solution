{
 "cells": [
  {
   "cell_type": "code",
   "execution_count": 13,
   "metadata": {
    "collapsed": true,
    "ExecuteTime": {
     "start_time": "2023-05-19T15:46:03.707689Z",
     "end_time": "2023-05-19T15:46:03.754717Z"
    }
   },
   "outputs": [],
   "source": [
    "import pickle\n",
    "import numpy as np\n",
    "from sklearn.preprocessing import normalize"
   ]
  },
  {
   "cell_type": "code",
   "execution_count": 14,
   "outputs": [],
   "source": [
    "with open(f'../embeddings/ES-weighted_title_desc_embedding.pkl', 'rb') as fp:\n",
    "    title_desc_embeddings_ES = pickle.load(fp)\n",
    "\n",
    "with open(f'../embeddings/FR-weighted_title_desc_embedding.pkl', 'rb') as fp:\n",
    "    title_desc_embeddings_FR = pickle.load(fp)\n",
    "\n",
    "with open(f'../embeddings/IT-weighted_title_desc_embedding.pkl', 'rb') as fp:\n",
    "    title_desc_embeddings_IT = pickle.load(fp)"
   ],
   "metadata": {
    "collapsed": false,
    "ExecuteTime": {
     "start_time": "2023-05-19T15:46:03.729684Z",
     "end_time": "2023-05-19T15:46:03.755713Z"
    }
   }
  },
  {
   "cell_type": "code",
   "execution_count": 15,
   "outputs": [],
   "source": [
    "item_id_set = set()"
   ],
   "metadata": {
    "collapsed": false,
    "ExecuteTime": {
     "start_time": "2023-05-19T15:46:03.743685Z",
     "end_time": "2023-05-19T15:46:03.882966Z"
    }
   }
  },
  {
   "cell_type": "code",
   "execution_count": 16,
   "outputs": [],
   "source": [
    "for i in title_desc_embeddings_ES.keys():\n",
    "    item_id_set.add(i)\n",
    "\n",
    "for i in title_desc_embeddings_FR.keys():\n",
    "    item_id_set.add(i)\n",
    "\n",
    "for i in title_desc_embeddings_IT.keys():\n",
    "    item_id_set.add(i)"
   ],
   "metadata": {
    "collapsed": false
   }
  },
  {
   "cell_type": "code",
   "execution_count": 17,
   "outputs": [],
   "source": [
    "united_composition = {}\n",
    "\n",
    "for item_id in item_id_set:\n",
    "    amount = 0\n",
    "    united_vector = np.zeros(100)\n",
    "    if item_id in title_desc_embeddings_ES.keys():\n",
    "        united_vector += title_desc_embeddings_ES[item_id]\n",
    "        amount += 1\n",
    "    if item_id in title_desc_embeddings_FR.keys():\n",
    "        united_vector += title_desc_embeddings_FR[item_id]\n",
    "        amount += 1\n",
    "    if item_id in title_desc_embeddings_IT.keys():\n",
    "        united_vector += title_desc_embeddings_IT[item_id]\n",
    "        amount += 1\n",
    "\n",
    "    united_composition[item_id] = united_vector / amount"
   ],
   "metadata": {
    "collapsed": false
   }
  },
  {
   "cell_type": "code",
   "execution_count": 18,
   "outputs": [],
   "source": [
    "with open('../SR-GNN/raw/united_composed_embedding.pkl', 'wb') as fp:\n",
    "    pickle.dump(united_composition, fp)"
   ],
   "metadata": {
    "collapsed": false,
    "ExecuteTime": {
     "start_time": "2023-05-19T15:46:03.884969Z",
     "end_time": "2023-05-19T15:46:03.992162Z"
    }
   }
  }
 ],
 "metadata": {
  "kernelspec": {
   "display_name": "Python 3",
   "language": "python",
   "name": "python3"
  },
  "language_info": {
   "codemirror_mode": {
    "name": "ipython",
    "version": 2
   },
   "file_extension": ".py",
   "mimetype": "text/x-python",
   "name": "python",
   "nbconvert_exporter": "python",
   "pygments_lexer": "ipython2",
   "version": "2.7.6"
  }
 },
 "nbformat": 4,
 "nbformat_minor": 0
}
