{
 "cells": [
  {
   "cell_type": "code",
   "execution_count": 7,
   "metadata": {
    "collapsed": true,
    "ExecuteTime": {
     "start_time": "2023-05-19T15:46:03.707689Z",
     "end_time": "2023-05-19T15:46:03.754717Z"
    }
   },
   "outputs": [],
   "source": [
    "import pickle\n",
    "import numpy as np\n",
    "from sklearn.preprocessing import normalize"
   ]
  },
  {
   "cell_type": "code",
   "execution_count": 8,
   "outputs": [],
   "source": [
    "LOCALE = 'FR'\n",
    "WINDOW_SIZE = 4\n",
    "ALPHA = 0.4"
   ],
   "metadata": {
    "collapsed": false,
    "ExecuteTime": {
     "start_time": "2023-05-19T15:46:03.729684Z",
     "end_time": "2023-05-19T15:46:03.755713Z"
    }
   }
  },
  {
   "cell_type": "code",
   "execution_count": 9,
   "outputs": [],
   "source": [
    "with open(f'../embeddings/{LOCALE}-weighted_title_desc_embedding.pkl', 'rb') as fp:\n",
    "    title_desc_embeddings = pickle.load(fp)"
   ],
   "metadata": {
    "collapsed": false,
    "ExecuteTime": {
     "start_time": "2023-05-19T15:46:03.743685Z",
     "end_time": "2023-05-19T15:46:03.882966Z"
    }
   }
  },
  {
   "cell_type": "code",
   "execution_count": 10,
   "outputs": [],
   "source": [
    "with open(f'../embeddings/{LOCALE}-session_embedding_window_size_{WINDOW_SIZE}.pkl', 'rb') as fp:\n",
    "    session_embeddings = pickle.load(fp)"
   ],
   "metadata": {
    "collapsed": false,
    "ExecuteTime": {
     "start_time": "2023-05-19T15:46:03.884969Z",
     "end_time": "2023-05-19T15:46:03.992162Z"
    }
   }
  },
  {
   "cell_type": "code",
   "execution_count": 11,
   "outputs": [],
   "source": [
    "final_embedding = {}"
   ],
   "metadata": {
    "collapsed": false,
    "ExecuteTime": {
     "start_time": "2023-05-19T15:46:03.994162Z",
     "end_time": "2023-05-19T15:46:04.008161Z"
    }
   }
  },
  {
   "cell_type": "code",
   "execution_count": 12,
   "outputs": [],
   "source": [
    "for product_id in title_desc_embeddings:\n",
    "    if product_id in session_embeddings.keys():\n",
    "         composed_embedding = ALPHA * normalize([session_embeddings[product_id]]) + (1.0-ALPHA) * normalize([title_desc_embeddings[product_id]])\n",
    "         final_embedding[product_id] = normalize(composed_embedding)[0]\n",
    "    else:\n",
    "        composed_embedding = (1.0-ALPHA) * normalize([title_desc_embeddings[product_id]])\n",
    "        final_embedding[product_id] = normalize(composed_embedding)[0]"
   ],
   "metadata": {
    "collapsed": false,
    "ExecuteTime": {
     "start_time": "2023-05-19T15:46:04.012171Z",
     "end_time": "2023-05-19T15:46:13.455199Z"
    }
   }
  },
  {
   "cell_type": "code",
   "execution_count": 13,
   "outputs": [],
   "source": [
    "with open('../embeddings/' + LOCALE + '-composed_embedding.pkl', 'wb') as fp:\n",
    "    pickle.dump(final_embedding,fp)"
   ],
   "metadata": {
    "collapsed": false,
    "ExecuteTime": {
     "start_time": "2023-05-19T15:46:13.458232Z",
     "end_time": "2023-05-19T15:46:13.660838Z"
    }
   }
  }
 ],
 "metadata": {
  "kernelspec": {
   "display_name": "Python 3",
   "language": "python",
   "name": "python3"
  },
  "language_info": {
   "codemirror_mode": {
    "name": "ipython",
    "version": 2
   },
   "file_extension": ".py",
   "mimetype": "text/x-python",
   "name": "python",
   "nbconvert_exporter": "python",
   "pygments_lexer": "ipython2",
   "version": "2.7.6"
  }
 },
 "nbformat": 4,
 "nbformat_minor": 0
}
