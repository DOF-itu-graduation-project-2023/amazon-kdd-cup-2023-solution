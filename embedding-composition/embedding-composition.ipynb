{
 "cells": [
  {
   "cell_type": "code",
   "execution_count": 202,
   "metadata": {
    "collapsed": true,
    "ExecuteTime": {
     "start_time": "2023-05-18T12:59:46.429469Z",
     "end_time": "2023-05-18T12:59:46.446954Z"
    }
   },
   "outputs": [],
   "source": [
    "import pickle\n",
    "import numpy as np\n",
    "from sklearn.preprocessing import normalize"
   ]
  },
  {
   "cell_type": "code",
   "execution_count": 203,
   "outputs": [],
   "source": [
    "LOCALE = 'IT'\n",
    "WINDOW_SIZE = 4\n",
    "ALPHA = 0.4"
   ],
   "metadata": {
    "collapsed": false,
    "ExecuteTime": {
     "start_time": "2023-05-18T12:59:46.446954Z",
     "end_time": "2023-05-18T12:59:46.519566Z"
    }
   }
  },
  {
   "cell_type": "code",
   "execution_count": 204,
   "outputs": [],
   "source": [
    "with open(f'../embeddings/{LOCALE}-weighted_title_desc_embedding.pkl', 'rb') as fp:\n",
    "    title_desc_embeddings = pickle.load(fp)"
   ],
   "metadata": {
    "collapsed": false,
    "ExecuteTime": {
     "start_time": "2023-05-18T12:59:46.462612Z",
     "end_time": "2023-05-18T12:59:46.604326Z"
    }
   }
  },
  {
   "cell_type": "code",
   "execution_count": 205,
   "outputs": [],
   "source": [
    "with open(f'../embeddings/{LOCALE}-session_embedding_window_size_{WINDOW_SIZE}.pkl', 'rb') as fp:\n",
    "    session_embeddings = pickle.load(fp)"
   ],
   "metadata": {
    "collapsed": false,
    "ExecuteTime": {
     "start_time": "2023-05-18T12:59:46.604326Z",
     "end_time": "2023-05-18T12:59:46.720206Z"
    }
   }
  },
  {
   "cell_type": "code",
   "execution_count": 206,
   "outputs": [],
   "source": [
    "final_embedding = {}"
   ],
   "metadata": {
    "collapsed": false,
    "ExecuteTime": {
     "start_time": "2023-05-18T12:59:46.720206Z",
     "end_time": "2023-05-18T12:59:46.741408Z"
    }
   }
  },
  {
   "cell_type": "code",
   "execution_count": 207,
   "outputs": [],
   "source": [
    "for product_id in title_desc_embeddings:\n",
    "    if product_id in session_embeddings.keys():\n",
    "         composed_embedding = ALPHA * normalize([session_embeddings[product_id]]) + (1.0-ALPHA) * normalize(title_desc_embeddings[product_id])\n",
    "         final_embedding[product_id] = normalize(composed_embedding)[0]\n",
    "    else:\n",
    "        composed_embedding = (1.0-ALPHA) * normalize(title_desc_embeddings[product_id])\n",
    "        final_embedding[product_id] = normalize(composed_embedding)[0]"
   ],
   "metadata": {
    "collapsed": false,
    "ExecuteTime": {
     "start_time": "2023-05-18T12:59:46.741408Z",
     "end_time": "2023-05-18T12:59:57.565860Z"
    }
   }
  },
  {
   "cell_type": "code",
   "execution_count": 208,
   "outputs": [],
   "source": [
    "with open('../embeddings/' + LOCALE + '-composed_embedding.pkl', 'wb') as fp:\n",
    "    pickle.dump(final_embedding,fp)"
   ],
   "metadata": {
    "collapsed": false,
    "ExecuteTime": {
     "start_time": "2023-05-18T12:59:57.565860Z",
     "end_time": "2023-05-18T12:59:58.013554Z"
    }
   }
  }
 ],
 "metadata": {
  "kernelspec": {
   "display_name": "Python 3",
   "language": "python",
   "name": "python3"
  },
  "language_info": {
   "codemirror_mode": {
    "name": "ipython",
    "version": 2
   },
   "file_extension": ".py",
   "mimetype": "text/x-python",
   "name": "python",
   "nbconvert_exporter": "python",
   "pygments_lexer": "ipython2",
   "version": "2.7.6"
  }
 },
 "nbformat": 4,
 "nbformat_minor": 0
}
