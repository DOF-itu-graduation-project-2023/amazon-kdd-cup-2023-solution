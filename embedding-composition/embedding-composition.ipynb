{
 "cells": [
  {
   "cell_type": "code",
   "execution_count": 1,
   "metadata": {
    "collapsed": true,
    "ExecuteTime": {
     "start_time": "2023-05-18T03:33:58.026835Z",
     "end_time": "2023-05-18T03:33:58.039061Z"
    }
   },
   "outputs": [],
   "source": [
    "import pickle"
   ]
  },
  {
   "cell_type": "code",
   "execution_count": 2,
   "outputs": [],
   "source": [
    "LOCALE = 'FR'\n",
    "WINDOW_SIZE = 4\n",
    "ALPHA = 0.6"
   ],
   "metadata": {
    "collapsed": false,
    "ExecuteTime": {
     "start_time": "2023-05-18T03:33:58.042220Z",
     "end_time": "2023-05-18T03:33:58.055388Z"
    }
   }
  },
  {
   "cell_type": "code",
   "execution_count": 3,
   "outputs": [],
   "source": [
    "with open(f'../embeddings/{LOCALE}-weighted_title_desc_embedding.pkl', 'rb') as fp:\n",
    "    title_desc_embeddings = pickle.load(fp)"
   ],
   "metadata": {
    "collapsed": false,
    "ExecuteTime": {
     "start_time": "2023-05-18T03:33:58.059388Z",
     "end_time": "2023-05-18T03:33:58.239688Z"
    }
   }
  },
  {
   "cell_type": "code",
   "execution_count": 4,
   "outputs": [],
   "source": [
    "with open(f'../embeddings/{LOCALE}-session_embedding_window_size_{WINDOW_SIZE}.pkl', 'rb') as fp:\n",
    "    session_embeddings = pickle.load(fp)"
   ],
   "metadata": {
    "collapsed": false,
    "ExecuteTime": {
     "start_time": "2023-05-18T03:33:58.243861Z",
     "end_time": "2023-05-18T03:33:58.331276Z"
    }
   }
  },
  {
   "cell_type": "code",
   "execution_count": 5,
   "outputs": [],
   "source": [
    "final_embedding = {}"
   ],
   "metadata": {
    "collapsed": false,
    "ExecuteTime": {
     "start_time": "2023-05-18T03:33:58.335425Z",
     "end_time": "2023-05-18T03:33:58.346601Z"
    }
   }
  },
  {
   "cell_type": "code",
   "execution_count": 6,
   "outputs": [],
   "source": [
    "for product_id in title_desc_embeddings:\n",
    "    if product_id in session_embeddings.keys():\n",
    "        final_embedding[product_id] = ALPHA * session_embeddings[product_id] + (1.0-ALPHA)* title_desc_embeddings[product_id]\n",
    "    else:\n",
    "        final_embedding[product_id] = (1.0-ALPHA)* title_desc_embeddings[product_id]"
   ],
   "metadata": {
    "collapsed": false,
    "ExecuteTime": {
     "start_time": "2023-05-18T03:33:58.361904Z",
     "end_time": "2023-05-18T03:33:58.545322Z"
    }
   }
  },
  {
   "cell_type": "code",
   "execution_count": 7,
   "outputs": [],
   "source": [
    "with open('../embeddings/' + LOCALE + '-composed_embedding.pkl', 'wb') as fp:\n",
    "    pickle.dump(final_embedding,fp)"
   ],
   "metadata": {
    "collapsed": false,
    "ExecuteTime": {
     "start_time": "2023-05-18T03:33:58.549282Z",
     "end_time": "2023-05-18T03:33:58.713776Z"
    }
   }
  },
  {
   "cell_type": "code",
   "execution_count": 7,
   "outputs": [],
   "source": [],
   "metadata": {
    "collapsed": false,
    "ExecuteTime": {
     "start_time": "2023-05-18T03:33:58.715745Z",
     "end_time": "2023-05-18T03:33:58.728934Z"
    }
   }
  }
 ],
 "metadata": {
  "kernelspec": {
   "display_name": "Python 3",
   "language": "python",
   "name": "python3"
  },
  "language_info": {
   "codemirror_mode": {
    "name": "ipython",
    "version": 2
   },
   "file_extension": ".py",
   "mimetype": "text/x-python",
   "name": "python",
   "nbconvert_exporter": "python",
   "pygments_lexer": "ipython2",
   "version": "2.7.6"
  }
 },
 "nbformat": 4,
 "nbformat_minor": 0
}
