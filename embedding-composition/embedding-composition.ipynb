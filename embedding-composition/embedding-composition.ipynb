{
 "cells": [
  {
   "cell_type": "code",
   "execution_count": 1,
   "metadata": {
    "collapsed": true,
    "ExecuteTime": {
     "start_time": "2023-05-15T21:34:26.856484Z",
     "end_time": "2023-05-15T21:34:26.868477Z"
    }
   },
   "outputs": [],
   "source": [
    "import pickle"
   ]
  },
  {
   "cell_type": "code",
   "execution_count": 3,
   "outputs": [],
   "source": [
    "LOCALE = 'FR'\n",
    "ALPHA = 0.5"
   ],
   "metadata": {
    "collapsed": false,
    "ExecuteTime": {
     "start_time": "2023-05-15T21:34:30.033925Z",
     "end_time": "2023-05-15T21:34:30.041929Z"
    }
   }
  },
  {
   "cell_type": "code",
   "execution_count": 4,
   "outputs": [],
   "source": [
    "with open('../embeddings/' + LOCALE + '-weighted_title_desc_embedding.pkl', 'rb') as fp:\n",
    "    title_desc_embeddings = pickle.load(fp)"
   ],
   "metadata": {
    "collapsed": false,
    "ExecuteTime": {
     "start_time": "2023-05-15T21:34:31.392672Z",
     "end_time": "2023-05-15T21:34:31.690671Z"
    }
   }
  },
  {
   "cell_type": "code",
   "execution_count": 5,
   "outputs": [],
   "source": [
    "with open('../embeddings/' + LOCALE + '-session_embedding.pkl', 'rb') as fp:\n",
    "    session_embeddings = pickle.load(fp)"
   ],
   "metadata": {
    "collapsed": false,
    "ExecuteTime": {
     "start_time": "2023-05-15T21:34:32.273671Z",
     "end_time": "2023-05-15T21:34:32.393670Z"
    }
   }
  },
  {
   "cell_type": "code",
   "execution_count": 6,
   "outputs": [],
   "source": [
    "final_embedding = {}"
   ],
   "metadata": {
    "collapsed": false,
    "ExecuteTime": {
     "start_time": "2023-05-15T21:34:32.840672Z",
     "end_time": "2023-05-15T21:34:32.868670Z"
    }
   }
  },
  {
   "cell_type": "code",
   "execution_count": 7,
   "outputs": [],
   "source": [
    "for product_id in session_embeddings:\n",
    "    final_embedding[product_id] = ALPHA * session_embeddings[product_id] + (1.0-ALPHA)* title_desc_embeddings[product_id]"
   ],
   "metadata": {
    "collapsed": false,
    "ExecuteTime": {
     "start_time": "2023-05-15T21:34:33.463230Z",
     "end_time": "2023-05-15T21:34:33.712589Z"
    }
   }
  },
  {
   "cell_type": "code",
   "execution_count": 8,
   "outputs": [],
   "source": [
    "with open('../embeddings/' + LOCALE + '-composed_embedding.pkl', 'wb') as fp:\n",
    "    pickle.dump(final_embedding,fp)"
   ],
   "metadata": {
    "collapsed": false,
    "ExecuteTime": {
     "start_time": "2023-05-15T21:34:34.237622Z",
     "end_time": "2023-05-15T21:34:34.459621Z"
    }
   }
  },
  {
   "cell_type": "code",
   "execution_count": null,
   "outputs": [],
   "source": [],
   "metadata": {
    "collapsed": false
   }
  }
 ],
 "metadata": {
  "kernelspec": {
   "display_name": "Python 3",
   "language": "python",
   "name": "python3"
  },
  "language_info": {
   "codemirror_mode": {
    "name": "ipython",
    "version": 2
   },
   "file_extension": ".py",
   "mimetype": "text/x-python",
   "name": "python",
   "nbconvert_exporter": "python",
   "pygments_lexer": "ipython2",
   "version": "2.7.6"
  }
 },
 "nbformat": 4,
 "nbformat_minor": 0
}
