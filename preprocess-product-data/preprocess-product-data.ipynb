{
 "cells": [
  {
   "cell_type": "code",
   "execution_count": 1,
   "metadata": {
    "collapsed": true
   },
   "outputs": [],
   "source": [
    "from nltk.tokenize import word_tokenize\n",
    "import warnings\n",
    "import nltk\n",
    "import os, re\n",
    "import pandas as pd\n",
    "import numpy as np\n",
    "import pickle\n",
    "from gensim.models import KeyedVectors"
   ]
  },
  {
   "cell_type": "code",
   "execution_count": 2,
   "outputs": [
    {
     "name": "stderr",
     "output_type": "stream",
     "text": [
      "[nltk_data] Downloading package punkt to\n",
      "[nltk_data]     C:\\Users\\dogat\\AppData\\Roaming\\nltk_data...\n",
      "[nltk_data]   Package punkt is already up-to-date!\n"
     ]
    }
   ],
   "source": [
    "nltk.download('punkt')\n",
    "warnings.filterwarnings(action = 'ignore')"
   ],
   "metadata": {
    "collapsed": false
   }
  },
  {
   "cell_type": "code",
   "execution_count": 3,
   "outputs": [],
   "source": [
    "LOCALE = 'FR'"
   ],
   "metadata": {
    "collapsed": false
   }
  },
  {
   "cell_type": "code",
   "execution_count": 4,
   "outputs": [],
   "source": [
    "def get_products(csv_file,locale):\n",
    "    products = pd.read_csv(os.path.join('.', csv_file)).query(f'locale == \"{locale}\"')\n",
    "\n",
    "    p_ids, titles, descs = [],[],[]\n",
    "    for p_id in products.id:\n",
    "        p_ids.append(p_id)\n",
    "    for title in products.title:\n",
    "        titles.append(title)\n",
    "    for desc in products.desc:\n",
    "        descs.append(desc)\n",
    "\n",
    "    language_regex = ''\n",
    "\n",
    "    if locale ==  'UK':\n",
    "        language_regex = r\"[^a-zA-Z0-9 '.]+\"\n",
    "    elif locale ==  'DE':\n",
    "        language_regex = r\"[^a-zA-Z0-9 äöüÄÖÜß'.]+\"\n",
    "    elif locale == 'JP':\n",
    "        language_regex = r\"\"\n",
    "    elif locale == 'ES':\n",
    "        language_regex = r\"[^a-zA-Z0-9 zñáéíóúü'.]+\"\n",
    "    elif locale == 'FR':\n",
    "        language_regex = r\"[^a-zA-Z0-9 zàâçéèêëîïôûùüÿñæœ '.]+\"\n",
    "    elif locale == 'IT':\n",
    "        language_regex = r\"[^a-zA-Z0-9 zàèéòù'.]+\"\n",
    "\n",
    "    clean_descs = []\n",
    "    for desc in descs:\n",
    "        if pd.isna(desc):\n",
    "            desc = ''\n",
    "        desc = re.sub(language_regex, \"\", desc)\n",
    "        clean_desc = []\n",
    "        for word in word_tokenize(desc):\n",
    "            clean_desc.append(word.lower())\n",
    "        clean_descs.append(clean_desc)\n",
    "\n",
    "    clean_titles = []\n",
    "    for title in titles:\n",
    "        if pd.isna(title):\n",
    "            title = ''\n",
    "        title = re.sub(language_regex, \"\", title)\n",
    "        clean_title = []\n",
    "        for word in word_tokenize(title):\n",
    "            clean_title.append(word.lower())\n",
    "        clean_titles.append(clean_title)\n",
    "\n",
    "    return pd.DataFrame(data = {'id': p_ids, 'title': clean_titles, 'desc': clean_descs})"
   ],
   "metadata": {
    "collapsed": false
   }
  },
  {
   "cell_type": "code",
   "execution_count": 6,
   "outputs": [],
   "source": [
    "#get product titles and descriptions by locale\n",
    "ps = get_products('../data/raw-data/products_train.csv',LOCALE)"
   ],
   "metadata": {
    "collapsed": false
   }
  },
  {
   "cell_type": "code",
   "execution_count": 7,
   "outputs": [],
   "source": [
    "#load Wikipedia2Vec model\n",
    "wv_for_locale = KeyedVectors.load_word2vec_format('frwiki_20180420_100d.txt', binary=False)"
   ],
   "metadata": {
    "collapsed": false
   }
  },
  {
   "cell_type": "code",
   "execution_count": 8,
   "outputs": [],
   "source": [
    "title_vectors = {}\n",
    "desc_vectors = {}\n",
    "\n",
    "for i in range(len(ps)):\n",
    "\n",
    "    title_vectors_for_one_item = []\n",
    "    desc_vectors_for_one_item = []\n",
    "\n",
    "    current_item_title = ps['title'][i]\n",
    "    for j in range(len(current_item_title)):\n",
    "        try:\n",
    "            word_vector = wv_for_locale.get_vector(current_item_title[j])\n",
    "            title_vectors_for_one_item.append(word_vector)\n",
    "        except KeyError:\n",
    "            pass\n",
    "\n",
    "    current_item_description = ps['desc'][i]\n",
    "    for k in range(len(current_item_description)):\n",
    "        try:\n",
    "            word_vector = wv_for_locale.get_vector(current_item_description[k])\n",
    "            desc_vectors_for_one_item.append(word_vector)\n",
    "        except KeyError:\n",
    "            pass\n",
    "\n",
    "    title_mean_for_item = np.mean(title_vectors_for_one_item, axis=0)\n",
    "    desc_mean_for_item = np.mean(desc_vectors_for_one_item, axis=0)\n",
    "\n",
    "    title_vectors[ps['id'][i]] = title_mean_for_item\n",
    "    desc_vectors[ps['id'][i]] = desc_mean_for_item"
   ],
   "metadata": {
    "collapsed": false
   }
  },
  {
   "cell_type": "code",
   "execution_count": 14,
   "outputs": [],
   "source": [
    "with open('../embeddings/' + LOCALE + '-title_vector_embedding.pkl', 'wb') as fp:\n",
    "    pickle.dump(title_vectors, fp)\n",
    "\n",
    "with open('../embeddings/' + LOCALE + '-desc_vector_embedding.pkl', 'wb') as fp:\n",
    "    pickle.dump(desc_vectors, fp)"
   ],
   "metadata": {
    "collapsed": false
   }
  },
  {
   "cell_type": "code",
   "execution_count": 15,
   "outputs": [],
   "source": [
    "#set weighted average coefficient\n",
    "alpha = 0.65"
   ],
   "metadata": {
    "collapsed": false
   }
  },
  {
   "cell_type": "code",
   "execution_count": 16,
   "outputs": [],
   "source": [
    "with open('../embeddings/' + LOCALE + '-title_vector_embedding.pkl', 'rb') as fp:\n",
    "    title_vectors_for_locale = pickle.load(fp)\n",
    "\n",
    "with open('../embeddings/' + LOCALE + '-desc_vector_embedding.pkl', 'rb') as fp:\n",
    "    desc_vectors_for_locale = pickle.load(fp)"
   ],
   "metadata": {
    "collapsed": false
   }
  },
  {
   "cell_type": "code",
   "execution_count": 133,
   "outputs": [],
   "source": [
    "weighted_title_desc_embeddings = {}\n",
    "\n",
    "for item_id in list(title_vectors_for_locale.keys()):\n",
    "    weighted_title_desc_embeddings[item_id] = alpha*title_vectors_for_locale[item_id] + (1 - alpha)*desc_vectors_for_locale[item_id]"
   ],
   "metadata": {
    "collapsed": false
   }
  },
  {
   "cell_type": "code",
   "execution_count": 140,
   "outputs": [],
   "source": [
    "with open('../embeddings/' + LOCALE + '-weighted_title_desc_embedding.pkl', 'wb') as fp:\n",
    "    pickle.dump(weighted_title_desc_embeddings, fp)"
   ],
   "metadata": {
    "collapsed": false
   }
  }
 ],
 "metadata": {
  "kernelspec": {
   "display_name": "Python 3",
   "language": "python",
   "name": "python3"
  },
  "language_info": {
   "codemirror_mode": {
    "name": "ipython",
    "version": 2
   },
   "file_extension": ".py",
   "mimetype": "text/x-python",
   "name": "python",
   "nbconvert_exporter": "python",
   "pygments_lexer": "ipython2",
   "version": "2.7.6"
  }
 },
 "nbformat": 4,
 "nbformat_minor": 0
}
