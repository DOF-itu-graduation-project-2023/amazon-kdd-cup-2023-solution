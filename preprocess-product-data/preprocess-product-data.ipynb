{
 "cells": [
  {
   "cell_type": "code",
   "execution_count": 27,
   "metadata": {
    "collapsed": true,
    "ExecuteTime": {
     "start_time": "2023-05-18T03:28:40.139666Z",
     "end_time": "2023-05-18T03:28:40.162984Z"
    }
   },
   "outputs": [],
   "source": [
    "from nltk.tokenize import word_tokenize\n",
    "import warnings\n",
    "import nltk\n",
    "import os, re\n",
    "import pandas as pd\n",
    "import numpy as np\n",
    "import pickle\n",
    "from gensim.models import KeyedVectors"
   ]
  },
  {
   "cell_type": "code",
   "execution_count": 28,
   "outputs": [
    {
     "name": "stderr",
     "output_type": "stream",
     "text": [
      "[nltk_data] Downloading package punkt to\n",
      "[nltk_data]     C:\\Users\\90539\\AppData\\Roaming\\nltk_data...\n",
      "[nltk_data]   Package punkt is already up-to-date!\n"
     ]
    }
   ],
   "source": [
    "nltk.download('punkt')\n",
    "warnings.filterwarnings(action = 'ignore')"
   ],
   "metadata": {
    "collapsed": false,
    "ExecuteTime": {
     "start_time": "2023-05-18T03:28:40.147804Z",
     "end_time": "2023-05-18T03:28:40.186585Z"
    }
   }
  },
  {
   "cell_type": "code",
   "execution_count": 29,
   "outputs": [],
   "source": [
    "LOCALE = 'IT'"
   ],
   "metadata": {
    "collapsed": false,
    "ExecuteTime": {
     "start_time": "2023-05-18T03:28:40.160991Z",
     "end_time": "2023-05-18T03:28:40.193791Z"
    }
   }
  },
  {
   "cell_type": "code",
   "execution_count": 30,
   "outputs": [],
   "source": [
    "def get_products(csv_file,locale):\n",
    "    products = pd.read_csv(os.path.join('.', csv_file)).query(f'locale == \"{locale}\"')\n",
    "\n",
    "    p_ids, titles, descs = [],[],[]\n",
    "    for p_id in products.id:\n",
    "        p_ids.append(p_id)\n",
    "    for title in products.title:\n",
    "        titles.append(title)\n",
    "    for desc in products.desc:\n",
    "        descs.append(desc)\n",
    "\n",
    "    language_regex = ''\n",
    "\n",
    "    if locale ==  'UK':\n",
    "        language_regex = r\"[^a-zA-Z0-9 '.]+\"\n",
    "    elif locale ==  'DE':\n",
    "        language_regex = r\"[^a-zA-Z0-9 äöüÄÖÜß'.]+\"\n",
    "    elif locale == 'JP':\n",
    "        language_regex = r\"\"\n",
    "    elif locale == 'ES':\n",
    "        language_regex = r\"[^a-zA-Z0-9 zñáéíóúü'.]+\"\n",
    "    elif locale == 'FR':\n",
    "        language_regex = r\"[^a-zA-Z0-9 zàâçéèêëîïôûùüÿñæœ '.]+\"\n",
    "    elif locale == 'IT':\n",
    "        language_regex = r\"[^a-zA-Z0-9 zàèéòù'.]+\"\n",
    "\n",
    "    clean_descs = []\n",
    "    for desc in descs:\n",
    "        if pd.isna(desc):\n",
    "            desc = ''\n",
    "        desc = re.sub(language_regex, \"\", desc)\n",
    "        clean_desc = []\n",
    "        for word in word_tokenize(desc):\n",
    "            clean_desc.append(word.lower())\n",
    "        clean_descs.append(clean_desc)\n",
    "\n",
    "    clean_titles = []\n",
    "    for title in titles:\n",
    "        if pd.isna(title):\n",
    "            title = ''\n",
    "        title = re.sub(language_regex, \"\", title)\n",
    "        clean_title = []\n",
    "        for word in word_tokenize(title):\n",
    "            clean_title.append(word.lower())\n",
    "        clean_titles.append(clean_title)\n",
    "\n",
    "    return pd.DataFrame(data = {'id': p_ids, 'title': clean_titles, 'desc': clean_descs})"
   ],
   "metadata": {
    "collapsed": false,
    "ExecuteTime": {
     "start_time": "2023-05-18T03:28:40.181414Z",
     "end_time": "2023-05-18T03:28:40.194789Z"
    }
   }
  },
  {
   "cell_type": "code",
   "execution_count": 31,
   "outputs": [],
   "source": [
    "#get product titles and descriptions by locale\n",
    "ps = get_products('../data/raw-data/products_train.csv',LOCALE)"
   ],
   "metadata": {
    "collapsed": false,
    "ExecuteTime": {
     "start_time": "2023-05-18T03:28:40.190525Z",
     "end_time": "2023-05-18T03:29:07.260120Z"
    }
   }
  },
  {
   "cell_type": "code",
   "execution_count": 32,
   "outputs": [],
   "source": [
    "#load Wikipedia2Vec model\n",
    "wv_for_locale = KeyedVectors.load_word2vec_format(f'{LOCALE}wiki_20180420_100d.txt', binary=False)"
   ],
   "metadata": {
    "collapsed": false,
    "ExecuteTime": {
     "start_time": "2023-05-18T03:29:07.262298Z",
     "end_time": "2023-05-18T03:30:49.133609Z"
    }
   }
  },
  {
   "cell_type": "code",
   "execution_count": 33,
   "outputs": [],
   "source": [
    "title_vectors = {}\n",
    "desc_vectors = {}\n",
    "\n",
    "#keep missing value ids\n",
    "missing_title_embedding_ids = []\n",
    "missing_desc_embedding_ids = []\n",
    "\n",
    "#keep not missing title and description values for average\n",
    "available_title_values = []\n",
    "available_desc_values = []\n",
    "\n",
    "for i in range(len(ps)):\n",
    "\n",
    "    title_vectors_for_one_item = []\n",
    "    desc_vectors_for_one_item = []\n",
    "\n",
    "    current_item_title = ps['title'][i]\n",
    "    for j in range(len(current_item_title)):\n",
    "        try:\n",
    "            word_vector = wv_for_locale.get_vector(current_item_title[j])\n",
    "            title_vectors_for_one_item.append(word_vector)\n",
    "        except KeyError:\n",
    "            pass\n",
    "\n",
    "    current_item_description = ps['desc'][i]\n",
    "    for k in range(len(current_item_description)):\n",
    "        try:\n",
    "            word_vector = wv_for_locale.get_vector(current_item_description[k])\n",
    "            desc_vectors_for_one_item.append(word_vector)\n",
    "        except KeyError:\n",
    "            pass\n",
    "\n",
    "\n",
    "    if len(title_vectors_for_one_item) == 0: #if title is empty\n",
    "        missing_title_embedding_ids.append(ps['id'][i])\n",
    "    else:\n",
    "        title_mean_for_item = np.mean(title_vectors_for_one_item, axis=0)\n",
    "        available_title_values.append(title_mean_for_item)\n",
    "        title_vectors[ps['id'][i]] = title_mean_for_item\n",
    "\n",
    "\n",
    "    if len(desc_vectors_for_one_item) == 0: #if description is empty\n",
    "        missing_desc_embedding_ids.append(ps['id'][i])\n",
    "    else:\n",
    "        desc_mean_for_item = np.mean(desc_vectors_for_one_item, axis=0)\n",
    "        available_desc_values.append(desc_mean_for_item)\n",
    "        desc_vectors[ps['id'][i]] = desc_mean_for_item"
   ],
   "metadata": {
    "collapsed": false,
    "ExecuteTime": {
     "start_time": "2023-05-18T03:30:49.184518Z",
     "end_time": "2023-05-18T03:30:56.977086Z"
    }
   }
  },
  {
   "cell_type": "code",
   "execution_count": 34,
   "outputs": [],
   "source": [
    "for i in missing_title_embedding_ids:\n",
    "    title_vectors[i] = np.mean(available_title_values, axis = 0)\n",
    "\n",
    "for i in missing_desc_embedding_ids:\n",
    "    desc_vectors[i] = np.mean(available_desc_values, axis = 0)"
   ],
   "metadata": {
    "collapsed": false,
    "ExecuteTime": {
     "start_time": "2023-05-18T03:30:56.981063Z",
     "end_time": "2023-05-18T03:32:19.490610Z"
    }
   }
  },
  {
   "cell_type": "code",
   "execution_count": 35,
   "outputs": [],
   "source": [
    "with open('../embeddings/' + LOCALE + '-title_vector_embedding.pkl', 'wb') as fp:\n",
    "    pickle.dump(title_vectors, fp)\n",
    "\n",
    "with open('../embeddings/' + LOCALE + '-desc_vector_embedding.pkl', 'wb') as fp:\n",
    "    pickle.dump(desc_vectors, fp)"
   ],
   "metadata": {
    "collapsed": false,
    "ExecuteTime": {
     "start_time": "2023-05-18T03:32:19.492708Z",
     "end_time": "2023-05-18T03:32:20.058600Z"
    }
   }
  },
  {
   "cell_type": "code",
   "execution_count": 36,
   "outputs": [],
   "source": [
    "#set weighted average coefficient\n",
    "alpha = 0.65"
   ],
   "metadata": {
    "collapsed": false,
    "ExecuteTime": {
     "start_time": "2023-05-18T03:32:20.061838Z",
     "end_time": "2023-05-18T03:32:20.072997Z"
    }
   }
  },
  {
   "cell_type": "code",
   "execution_count": 37,
   "outputs": [],
   "source": [
    "with open('../embeddings/' + LOCALE + '-title_vector_embedding.pkl', 'rb') as fp:\n",
    "    title_vectors_for_locale = pickle.load(fp)\n",
    "\n",
    "with open('../embeddings/' + LOCALE + '-desc_vector_embedding.pkl', 'rb') as fp:\n",
    "    desc_vectors_for_locale = pickle.load(fp)"
   ],
   "metadata": {
    "collapsed": false,
    "ExecuteTime": {
     "start_time": "2023-05-18T03:32:20.075997Z",
     "end_time": "2023-05-18T03:32:20.286746Z"
    }
   }
  },
  {
   "cell_type": "code",
   "execution_count": 38,
   "outputs": [],
   "source": [
    "weighted_title_desc_embeddings = {}\n",
    "\n",
    "for item_id in list(title_vectors_for_locale.keys()):\n",
    "    weighted_title_desc_embeddings[item_id] = alpha*title_vectors_for_locale[item_id] + (1 - alpha)*desc_vectors_for_locale[item_id]"
   ],
   "metadata": {
    "collapsed": false,
    "ExecuteTime": {
     "start_time": "2023-05-18T03:32:20.331335Z",
     "end_time": "2023-05-18T03:32:20.502145Z"
    }
   }
  },
  {
   "cell_type": "code",
   "execution_count": 39,
   "outputs": [],
   "source": [
    "with open('../embeddings/' + LOCALE + '-weighted_title_desc_embedding.pkl', 'wb') as fp:\n",
    "    pickle.dump(weighted_title_desc_embeddings, fp)"
   ],
   "metadata": {
    "collapsed": false,
    "ExecuteTime": {
     "start_time": "2023-05-18T03:32:20.506146Z",
     "end_time": "2023-05-18T03:32:20.717787Z"
    }
   }
  },
  {
   "cell_type": "code",
   "execution_count": 39,
   "outputs": [],
   "source": [],
   "metadata": {
    "collapsed": false,
    "ExecuteTime": {
     "start_time": "2023-05-18T03:32:20.718788Z",
     "end_time": "2023-05-18T03:32:20.735069Z"
    }
   }
  }
 ],
 "metadata": {
  "kernelspec": {
   "display_name": "Python 3",
   "language": "python",
   "name": "python3"
  },
  "language_info": {
   "codemirror_mode": {
    "name": "ipython",
    "version": 2
   },
   "file_extension": ".py",
   "mimetype": "text/x-python",
   "name": "python",
   "nbconvert_exporter": "python",
   "pygments_lexer": "ipython2",
   "version": "2.7.6"
  }
 },
 "nbformat": 4,
 "nbformat_minor": 0
}
