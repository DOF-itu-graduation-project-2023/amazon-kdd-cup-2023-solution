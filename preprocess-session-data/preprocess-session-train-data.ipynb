{
 "cells": [
  {
   "cell_type": "code",
   "execution_count": 1,
   "metadata": {
    "collapsed": true,
    "ExecuteTime": {
     "start_time": "2023-05-13T14:26:09.506745Z",
     "end_time": "2023-05-13T14:26:09.519744Z"
    }
   },
   "outputs": [],
   "source": [
    "import csv, pickle"
   ]
  },
  {
   "cell_type": "code",
   "execution_count": 2,
   "outputs": [],
   "source": [
    "LOCALE = 'UK'"
   ],
   "metadata": {
    "collapsed": false,
    "ExecuteTime": {
     "start_time": "2023-05-13T14:26:09.522743Z",
     "end_time": "2023-05-13T14:26:09.533742Z"
    }
   }
  },
  {
   "cell_type": "code",
   "execution_count": 3,
   "outputs": [],
   "source": [
    "def get_sessions(csv_file,locale):\n",
    "    ##read all data\n",
    "    data = []\n",
    "    with open(csv_file) as file:\n",
    "        csv_reader = csv.reader(file)\n",
    "        line_count = 0\n",
    "        for row in csv_reader:\n",
    "            if line_count == 0:\n",
    "                line_count += 1\n",
    "            else:\n",
    "                line_count += 1\n",
    "                data.append(row)\n",
    "\n",
    "    ##fetch first and second columns according to locale\n",
    "    first_column, second_column = [], []\n",
    "    for d in data:\n",
    "        if d[2] == locale:\n",
    "            first_column.append(d[0])\n",
    "            second_column.append(d[1])\n",
    "\n",
    "    ##data cleaning\n",
    "    clean_data = []\n",
    "    count = 0\n",
    "    for s in first_column:\n",
    "        temp = s.replace('\\n','').replace('\\'', '').replace('[','').replace(']','')\n",
    "        clean_data.append(temp + ' ' + second_column[count])\n",
    "        count += 1\n",
    "\n",
    "    final_data = []\n",
    "    for s in clean_data:\n",
    "        session = s.split(' ')\n",
    "        final_data.append(session)\n",
    "    return final_data"
   ],
   "metadata": {
    "collapsed": false,
    "ExecuteTime": {
     "start_time": "2023-05-13T14:26:09.540746Z",
     "end_time": "2023-05-13T14:26:09.562777Z"
    }
   }
  },
  {
   "cell_type": "code",
   "execution_count": 4,
   "outputs": [],
   "source": [
    "session_data = get_sessions('../data/raw-data/sessions_train.csv',LOCALE)"
   ],
   "metadata": {
    "collapsed": false,
    "ExecuteTime": {
     "start_time": "2023-05-13T14:26:09.552743Z",
     "end_time": "2023-05-13T14:26:20.709546Z"
    }
   }
  },
  {
   "cell_type": "code",
   "execution_count": 5,
   "outputs": [],
   "source": [
    "with open('../data/preprocessed-data/' + LOCALE + '-raw-merged-session-data.pkl', 'wb') as fp:\n",
    "    pickle.dump(session_data, fp)"
   ],
   "metadata": {
    "collapsed": false,
    "ExecuteTime": {
     "start_time": "2023-05-13T14:26:20.713542Z",
     "end_time": "2023-05-13T14:26:22.464617Z"
    }
   }
  },
  {
   "cell_type": "code",
   "execution_count": 6,
   "outputs": [],
   "source": [
    "sessions = []\n",
    "next_items = []\n",
    "for i in range(len(session_data)):\n",
    "    sessions.append(session_data[i][:-1])\n",
    "    next_items.append(session_data[i][-1])\n",
    "\n",
    "\n",
    "with open('../data/preprocessed-data/'+LOCALE+'-sessions.pkl', 'wb') as f1:\n",
    "    pickle.dump(sessions, f1)\n",
    "\n",
    "with open('../data/preprocessed-data/'+LOCALE+'-next_items.pkl', 'wb') as f2:\n",
    "    pickle.dump(next_items, f2)"
   ],
   "metadata": {
    "collapsed": false,
    "ExecuteTime": {
     "start_time": "2023-05-13T14:26:22.555584Z",
     "end_time": "2023-05-13T14:26:25.311586Z"
    }
   }
  },
  {
   "cell_type": "code",
   "execution_count": null,
   "outputs": [],
   "source": [],
   "metadata": {
    "collapsed": false
   }
  }
 ],
 "metadata": {
  "kernelspec": {
   "display_name": "Python 3",
   "language": "python",
   "name": "python3"
  },
  "language_info": {
   "codemirror_mode": {
    "name": "ipython",
    "version": 2
   },
   "file_extension": ".py",
   "mimetype": "text/x-python",
   "name": "python",
   "nbconvert_exporter": "python",
   "pygments_lexer": "ipython2",
   "version": "2.7.6"
  }
 },
 "nbformat": 4,
 "nbformat_minor": 0
}
