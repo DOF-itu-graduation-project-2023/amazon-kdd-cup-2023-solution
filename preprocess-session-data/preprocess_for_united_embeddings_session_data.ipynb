{
 "cells": [
  {
   "cell_type": "code",
   "execution_count": 19,
   "outputs": [],
   "source": [
    "import pickle"
   ],
   "metadata": {
    "collapsed": false
   }
  },
  {
   "cell_type": "code",
   "execution_count": 20,
   "outputs": [],
   "source": [
    "with open('../SR-GNN/raw/ES-sessions.pkl', 'rb') as f1:\n",
    "    ES_sessions = pickle.load(f1)\n",
    "\n",
    "with open('../SR-GNN/raw/ES-next_items.pkl', 'rb') as f1:\n",
    "    ES_next_items = pickle.load(f1)\n",
    "\n",
    "with open('../SR-GNN/raw/FR-sessions.pkl', 'rb') as f1:\n",
    "    FR_sessions = pickle.load(f1)\n",
    "\n",
    "with open('../SR-GNN/raw/FR-next_items.pkl', 'rb') as f1:\n",
    "    FR_next_items = pickle.load(f1)\n",
    "\n",
    "with open('../SR-GNN/raw/IT-sessions.pkl', 'rb') as f1:\n",
    "    IT_sessions = pickle.load(f1)\n",
    "\n",
    "with open('../SR-GNN/raw/IT-next_items.pkl', 'rb') as f1:\n",
    "    IT_next_items = pickle.load(f1)"
   ],
   "metadata": {
    "collapsed": false
   }
  },
  {
   "cell_type": "code",
   "execution_count": 21,
   "outputs": [],
   "source": [
    "united_sessions = ES_sessions + FR_sessions + IT_sessions\n",
    "united_next_items = ES_next_items + FR_next_items + IT_next_items"
   ],
   "metadata": {
    "collapsed": false
   }
  },
  {
   "cell_type": "code",
   "execution_count": 22,
   "outputs": [],
   "source": [
    "with open('../SR-GNN/raw/united-sessions.pkl', 'wb') as fp:\n",
    "    pickle.dump(united_sessions,fp)\n",
    "\n",
    "with open('../SR-GNN/raw/united-next_items.pkl', 'wb') as fp:\n",
    "    pickle.dump(united_next_items,fp)"
   ],
   "metadata": {
    "collapsed": false
   }
  },
  {
   "cell_type": "code",
   "execution_count": 26,
   "outputs": [],
   "source": [
    "with open('../data/preprocessed-data/ES-sessions-test.pkl', 'rb') as f1:\n",
    "    ES_sessions_test = pickle.load(f1)\n",
    "with open('../data/preprocessed-data/FR-sessions-test.pkl', 'rb') as f1:\n",
    "    FR_sessions_test = pickle.load(f1)\n",
    "with open('../data/preprocessed-data/IT-sessions-test.pkl', 'rb') as f1:\n",
    "    IT_sessions_test = pickle.load(f1)"
   ],
   "metadata": {
    "collapsed": false
   }
  },
  {
   "cell_type": "code",
   "execution_count": 27,
   "outputs": [],
   "source": [
    "united_sessions_test = ES_sessions_test + FR_sessions_test + IT_sessions_test"
   ],
   "metadata": {
    "collapsed": false
   }
  },
  {
   "cell_type": "code",
   "execution_count": 28,
   "outputs": [],
   "source": [
    "with open('../data/preprocessed-data/united_sessions_test.pkl', 'wb') as fp:\n",
    "    pickle.dump(united_sessions_test,fp)"
   ],
   "metadata": {
    "collapsed": false
   }
  },
  {
   "cell_type": "code",
   "execution_count": null,
   "outputs": [],
   "source": [],
   "metadata": {
    "collapsed": false
   }
  }
 ],
 "metadata": {
  "kernelspec": {
   "display_name": "Python 3",
   "language": "python",
   "name": "python3"
  },
  "language_info": {
   "codemirror_mode": {
    "name": "ipython",
    "version": 2
   },
   "file_extension": ".py",
   "mimetype": "text/x-python",
   "name": "python",
   "nbconvert_exporter": "python",
   "pygments_lexer": "ipython2",
   "version": "2.7.6"
  }
 },
 "nbformat": 4,
 "nbformat_minor": 0
}
