{
 "cells": [
  {
   "cell_type": "code",
   "execution_count": 8,
   "metadata": {
    "collapsed": true,
    "ExecuteTime": {
     "start_time": "2023-05-16T16:49:18.886238Z",
     "end_time": "2023-05-16T16:49:18.901896Z"
    }
   },
   "outputs": [],
   "source": [
    "import csv, pickle"
   ]
  },
  {
   "cell_type": "code",
   "execution_count": 15,
   "outputs": [],
   "source": [
    "CSV_FILE = '../data/raw-data/sessions_test_task2.csv'\n",
    "LOCALE = 'ES'"
   ],
   "metadata": {
    "collapsed": false,
    "ExecuteTime": {
     "start_time": "2023-05-16T16:49:25.200748Z",
     "end_time": "2023-05-16T16:49:25.232056Z"
    }
   }
  },
  {
   "cell_type": "code",
   "execution_count": 16,
   "outputs": [],
   "source": [
    "data = []\n",
    "with open(CSV_FILE) as file:\n",
    "    csv_reader = csv.reader(file)\n",
    "    line_count = 0\n",
    "    for row in csv_reader:\n",
    "        if line_count == 0:\n",
    "            line_count += 1\n",
    "        else:\n",
    "            line_count += 1\n",
    "            data.append(row)"
   ],
   "metadata": {
    "collapsed": false,
    "ExecuteTime": {
     "start_time": "2023-05-16T16:49:25.435989Z",
     "end_time": "2023-05-16T16:49:25.498490Z"
    }
   }
  },
  {
   "cell_type": "code",
   "execution_count": 17,
   "outputs": [],
   "source": [
    "##fetch first and second columns according to locale\n",
    "first_column = []\n",
    "for d in data:\n",
    "    if d[1] == LOCALE:\n",
    "        first_column.append(d[0])"
   ],
   "metadata": {
    "collapsed": false,
    "ExecuteTime": {
     "start_time": "2023-05-16T16:49:25.670263Z",
     "end_time": "2023-05-16T16:49:25.685977Z"
    }
   }
  },
  {
   "cell_type": "code",
   "execution_count": 18,
   "outputs": [],
   "source": [
    "##data cleaning\n",
    "clean_data = []\n",
    "count = 0\n",
    "for s in first_column:\n",
    "    temp = s.replace('\\n','').replace('\\'', '').replace('[','').replace(']','')\n",
    "    clean_data.append(temp)\n",
    "    count += 1"
   ],
   "metadata": {
    "collapsed": false,
    "ExecuteTime": {
     "start_time": "2023-05-16T16:49:25.892087Z",
     "end_time": "2023-05-16T16:49:25.954583Z"
    }
   }
  },
  {
   "cell_type": "code",
   "execution_count": 19,
   "outputs": [],
   "source": [
    "final_data = []\n",
    "for s in clean_data:\n",
    "    session = s.split(' ')\n",
    "    final_data.append(session)"
   ],
   "metadata": {
    "collapsed": false,
    "ExecuteTime": {
     "start_time": "2023-05-16T16:49:26.142189Z",
     "end_time": "2023-05-16T16:49:26.166598Z"
    }
   }
  },
  {
   "cell_type": "code",
   "execution_count": 20,
   "outputs": [],
   "source": [
    "with open('../data/preprocessed-data/'+LOCALE+'-sessions-test.pkl', 'wb') as f1:\n",
    "    pickle.dump(final_data, f1)"
   ],
   "metadata": {
    "collapsed": false,
    "ExecuteTime": {
     "start_time": "2023-05-16T16:49:26.570373Z",
     "end_time": "2023-05-16T16:49:26.585995Z"
    }
   }
  },
  {
   "cell_type": "code",
   "execution_count": null,
   "outputs": [],
   "source": [],
   "metadata": {
    "collapsed": false
   }
  }
 ],
 "metadata": {
  "kernelspec": {
   "display_name": "Python 3",
   "language": "python",
   "name": "python3"
  },
  "language_info": {
   "codemirror_mode": {
    "name": "ipython",
    "version": 2
   },
   "file_extension": ".py",
   "mimetype": "text/x-python",
   "name": "python",
   "nbconvert_exporter": "python",
   "pygments_lexer": "ipython2",
   "version": "2.7.6"
  }
 },
 "nbformat": 4,
 "nbformat_minor": 0
}
