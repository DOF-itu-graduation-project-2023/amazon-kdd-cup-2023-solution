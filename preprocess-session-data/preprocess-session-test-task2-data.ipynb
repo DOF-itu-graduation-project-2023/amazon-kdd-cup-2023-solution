{
 "cells": [
  {
   "cell_type": "code",
   "execution_count": 8,
   "metadata": {
    "collapsed": true,
    "ExecuteTime": {
     "start_time": "2023-05-16T01:30:15.030309Z",
     "end_time": "2023-05-16T01:30:15.041310Z"
    }
   },
   "outputs": [],
   "source": [
    "import csv, pickle"
   ]
  },
  {
   "cell_type": "code",
   "execution_count": 9,
   "outputs": [],
   "source": [
    "CSV_FILE = '../data/raw-data/sessions_test_task2.csv'\n",
    "LOCALE = 'FR'"
   ],
   "metadata": {
    "collapsed": false,
    "ExecuteTime": {
     "start_time": "2023-05-16T01:30:15.279349Z",
     "end_time": "2023-05-16T01:30:15.291345Z"
    }
   }
  },
  {
   "cell_type": "code",
   "execution_count": 10,
   "outputs": [],
   "source": [
    "data = []\n",
    "with open(CSV_FILE) as file:\n",
    "    csv_reader = csv.reader(file)\n",
    "    line_count = 0\n",
    "    for row in csv_reader:\n",
    "        if line_count == 0:\n",
    "            line_count += 1\n",
    "        else:\n",
    "            line_count += 1\n",
    "            data.append(row)"
   ],
   "metadata": {
    "collapsed": false,
    "ExecuteTime": {
     "start_time": "2023-05-16T01:30:15.549416Z",
     "end_time": "2023-05-16T01:30:15.633411Z"
    }
   }
  },
  {
   "cell_type": "code",
   "execution_count": 11,
   "outputs": [],
   "source": [
    "##fetch first and second columns according to locale\n",
    "first_column = []\n",
    "for d in data:\n",
    "    if d[1] == LOCALE:\n",
    "        first_column.append(d[0])"
   ],
   "metadata": {
    "collapsed": false,
    "ExecuteTime": {
     "start_time": "2023-05-16T01:30:15.887935Z",
     "end_time": "2023-05-16T01:30:15.943935Z"
    }
   }
  },
  {
   "cell_type": "code",
   "execution_count": 12,
   "outputs": [],
   "source": [
    "##data cleaning\n",
    "clean_data = []\n",
    "count = 0\n",
    "for s in first_column:\n",
    "    temp = s.replace('\\n','').replace('\\'', '').replace('[','').replace(']','')\n",
    "    clean_data.append(temp)\n",
    "    count += 1"
   ],
   "metadata": {
    "collapsed": false,
    "ExecuteTime": {
     "start_time": "2023-05-16T01:30:16.170951Z",
     "end_time": "2023-05-16T01:30:16.243948Z"
    }
   }
  },
  {
   "cell_type": "code",
   "execution_count": 13,
   "outputs": [],
   "source": [
    "final_data = []\n",
    "for s in clean_data:\n",
    "    session = s.split(' ')\n",
    "    final_data.append(session)"
   ],
   "metadata": {
    "collapsed": false,
    "ExecuteTime": {
     "start_time": "2023-05-16T01:30:16.508472Z",
     "end_time": "2023-05-16T01:30:16.523467Z"
    }
   }
  },
  {
   "cell_type": "code",
   "execution_count": 7,
   "outputs": [],
   "source": [
    "with open('../data/preprocessed-data/'+LOCALE+'-sessions-test.pkl', 'wb') as f1:\n",
    "    pickle.dump(final_data, f1)"
   ],
   "metadata": {
    "collapsed": false,
    "ExecuteTime": {
     "start_time": "2023-05-16T01:29:16.167944Z",
     "end_time": "2023-05-16T01:29:16.199943Z"
    }
   }
  },
  {
   "cell_type": "code",
   "execution_count": null,
   "outputs": [],
   "source": [],
   "metadata": {
    "collapsed": false
   }
  }
 ],
 "metadata": {
  "kernelspec": {
   "display_name": "Python 3",
   "language": "python",
   "name": "python3"
  },
  "language_info": {
   "codemirror_mode": {
    "name": "ipython",
    "version": 2
   },
   "file_extension": ".py",
   "mimetype": "text/x-python",
   "name": "python",
   "nbconvert_exporter": "python",
   "pygments_lexer": "ipython2",
   "version": "2.7.6"
  }
 },
 "nbformat": 4,
 "nbformat_minor": 0
}
